{
 "cells": [
  {
   "cell_type": "markdown",
   "metadata": {},
   "source": [
    "# Boxplots"
   ]
  },
  {
   "cell_type": "markdown",
   "metadata": {},
   "source": [
    "## Script setup"
   ]
  },
  {
   "cell_type": "code",
   "execution_count": 1,
   "metadata": {},
   "outputs": [],
   "source": [
    "# Third-party and standard modules\n",
    "from typing import Dict, Hashable, Union, Tuple, Optional\n",
    "import pandas as pd\n",
    "import seaborn\n",
    "import matplotlib.pyplot as plt\n",
    "import pytz\n",
    "from collections import defaultdict\n",
    "from numpy import NINF\n",
    "import datetime\n",
    "from importlib import reload\n",
    "from pandas.tseries.holiday import USFederalHolidayCalendar as calendar\n",
    "# User-defined modules.\n",
    "from modules import dataframe_manip as dfm\n",
    "from modules import misc, schemas, College1AcPtTimeSeries\n",
    "# The reload() function is used to update modules after\n",
    "# changes are made to their files.\n",
    "dfm = reload(dfm)\n",
    "misc = reload(misc)\n",
    "schemas = reload(schemas)\n",
    "College1AcPtTimeSeries = reload(College1AcPtTimeSeries)"
   ]
  },
  {
   "cell_type": "markdown",
   "metadata": {},
   "source": [
    "## Script parameters\n",
    "\n",
    "The following values are this script's parameters.\n",
    "\n",
    "1. `filepath` - path to csv file you would like to analyze\n",
    "2. `buildings` - the list of buildings you would like to analyze\n",
    "3. `start_date and end_date` - can be \"None\" if you wish to analyze the whole dataset\n",
    "3. `boxplot_hourly_average` - set to true or false, depending if you want to display the total, weekday, and weekend graphs\n",
    "4. `holiday_analysis` - set to true or false, if you would like to see the average occupancy of the holidays in the given date ranges\n",
    "5. `schema` - determines how the csv columns should be interpreted."
   ]
  },
  {
   "cell_type": "code",
   "execution_count": 2,
   "metadata": {},
   "outputs": [],
   "source": [
    "filepath = './sample_data.csv'\n",
    "timezone = pytz.timezone('US/Pacific')\n",
    "buildings = [\n",
    "    'BUILDING01', 'BUILDING03', 'BUILDING04', 'BUILDING05',\n",
    "    'BUILDING06', 'BUILDING07', 'BUILDING08', 'BUILDING09',\n",
    "    'BUILDING10', 'BUILDING11', 'BUILDING12', 'BUILDING13', 'BUILDING14'\n",
    "]\n",
    "\n",
    "start_date: Optional[str] = None  # '2018-09-04' #None\n",
    "end_date: Optional[str] = None  #'2018-12-19' #None\n",
    "\n",
    "boxplot_hourly_average = True\n",
    "holiday_analysis = True\n",
    "\n",
    "schema: schemas.AcPtTimeSeries =\\\n",
    "    College1AcPtTimeSeries.College1AcPtTimeSeries"
   ]
  },
  {
   "cell_type": "markdown",
   "metadata": {},
   "source": [
    "## Data Processing"
   ]
  },
  {
   "cell_type": "code",
   "execution_count": 3,
   "metadata": {},
   "outputs": [],
   "source": [
    "# A time-series dataframe holding occupancy counts\n",
    "# for many access points (columns).\n",
    "occ: pd.DataFrame = dfm.csv_to_timeseries_df(\n",
    "    filepath=filepath, timezone=timezone\n",
    ")"
   ]
  },
  {
   "cell_type": "code",
   "execution_count": 4,
   "metadata": {},
   "outputs": [],
   "source": [
    "# Convert df values to strings in order to compare to given range\n",
    "csv_start_date = occ.index[0].strftime('%Y-%m-%d')\n",
    "csv_end_date = occ.index[-1].strftime('%Y-%m-%d')"
   ]
  },
  {
   "cell_type": "code",
   "execution_count": null,
   "metadata": {},
   "outputs": [],
   "source": [
    "# Date range error checking\n",
    "if start_date is not None and end_date is not None:\n",
    "    if end_date < start_date:\n",
    "        print(\"end_date is before start_date\")\n",
    "        exit()\n",
    "\n",
    "    if start_date < csv_start_date :\n",
    "        print(\"Desired start_date is before the first day of the csv, please fix this to continue\")\n",
    "        exit()\n",
    "\n",
    "    if end_date > csv_end_date:\n",
    "        print(\"Desired end_date filter is after the last day of the csv, please fix this to continue\")\n",
    "        exit()"
   ]
  },
  {
   "cell_type": "code",
   "execution_count": null,
   "metadata": {},
   "outputs": [],
   "source": [
    "# Apply date range filter on the dataframe\n",
    "if start_date is not None: \n",
    "    if end_date is None:\n",
    "        occ = occ.loc[start_date:]\n",
    "    else:\n",
    "        occ = occ.loc[start_date:end_date]\n",
    "else:\n",
    "    if end_date is not None:\n",
    "        occ = occ.loc[:end_date]"
   ]
  },
  {
   "cell_type": "code",
   "execution_count": null,
   "metadata": {},
   "outputs": [],
   "source": [
    "# Eliminate columns for access points not in the buildings we want.\n",
    "occ = occ.drop(columns=list(filter(\n",
    "    # add to drop-list if NOT in the buildings we want.\n",
    "    lambda col: schema.col_to_building(col, safe=True) not in buildings,\n",
    "    occ.columns.to_list()\n",
    ")))\n",
    "\n",
    "# We must assume that intervening na-values are 0's.\n",
    "occ = dfm.fill_intervening_nas(\n",
    "    occ, inplace=True, fill_val=0\n",
    ")"
   ]
  },
  {
   "cell_type": "code",
   "execution_count": null,
   "metadata": {},
   "outputs": [],
   "source": [
    "occ_bybuild = occ.groupby(\n",
    "    by=schema.col_to_building, axis=1\n",
    ")"
   ]
  },
  {
   "cell_type": "code",
   "execution_count": null,
   "metadata": {},
   "outputs": [
    {
     "name": "stdout",
     "output_type": "stream",
     "text": [
      "buildings not found or used: set()\n",
      "buildings being used: ['BUILDING01', 'BUILDING03', 'BUILDING04', 'BUILDING05', 'BUILDING06', 'BUILDING07', 'BUILDING08', 'BUILDING09', 'BUILDING10', 'BUILDING11', 'BUILDING12', 'BUILDING13', 'BUILDING14']\n"
     ]
    }
   ],
   "source": [
    "print('buildings not found or used: {}'.format(\n",
    "    set(buildings) - set(occ_bybuild.groups.keys())\n",
    "))\n",
    "\n",
    "# We can only work with the buildings we found.\n",
    "buildings = list(occ_bybuild.groups.keys())\n",
    "print('buildings being used: {}'.format(buildings))"
   ]
  },
  {
   "cell_type": "markdown",
   "metadata": {},
   "source": [
    "## Boxplots"
   ]
  },
  {
   "cell_type": "code",
   "execution_count": null,
   "metadata": {},
   "outputs": [],
   "source": [
    "def display_and_save_hourly_boxplot(\n",
    "    tseries: pd.Series, title: str,\n",
    "    xlabel: str, ylabel: str, ymax: Union[float, int],\n",
    "    figsize: Tuple[Union[float,int], Union[float,int]],\n",
    "    figfilepath: str\n",
    ") -> None:\n",
    "    fig, ax = plt.subplots(figsize=figsize)\n",
    "    ax.set_title(title)\n",
    "    ax.set_xlabel(xlabel)\n",
    "    ax.set_ylabel(ylabel)\n",
    "    ax.set_ylim(0, ymax)\n",
    "    seaborn.boxplot(\n",
    "        # The hours (a number [0,23]) for each row.\n",
    "        x=tseries.index.hour,\n",
    "        # The total occupancy at that hour.\n",
    "        y=tseries,\n",
    "        ax=ax\n",
    "    )\n",
    "    fig.savefig(figfilepath)"
   ]
  },
  {
   "cell_type": "code",
   "execution_count": null,
   "metadata": {
    "scrolled": false
   },
   "outputs": [],
   "source": [
    "if(boxplot_hourly_average == True):\n",
    "    # We need the total occupancy timeseries for each building.\n",
    "    build_to_totals: Dict[Hashable, pd.Series] = {}\n",
    "\n",
    "    # We need to find the maximum occupancy for a building at\n",
    "    # any point in time to normalize the y-axes of the boxplots below.\n",
    "    max_totals: Dict[Hashable, float] = defaultdict(lambda: NINF)\n",
    "\n",
    "    for build in buildings:\n",
    "        # get the total occupancy timeseries just for this building.\n",
    "        build_totals = build_to_totals[build] = dfm.row_totals(\n",
    "            occ_bybuild.get_group(build)\n",
    "        )\n",
    "        # search for a new max.\n",
    "        newmax = build_totals.max().squeeze()\n",
    "        if newmax > max_totals[build]:\n",
    "            max_totals[build] = newmax\n",
    "\n",
    "    for build in buildings:\n",
    "        # get the total occupancy timeseries just for this building.\n",
    "        build_totals: pd.DataFrame = build_to_totals[build]\n",
    "\n",
    "        common_args = {\n",
    "            'xlabel': 'hour of the day',\n",
    "            'ylabel': 'mean number of connected devices',\n",
    "            'ymax': max_totals[build], \n",
    "            'figsize': (24, 15)\n",
    "        }\n",
    "\n",
    "        # Overall boxplot.\n",
    "        display_and_save_hourly_boxplot(\n",
    "            tseries=build_totals,\n",
    "            title=build,\n",
    "            figfilepath='./{}.png'.format(build),\n",
    "            **common_args\n",
    "        )\n",
    "\n",
    "        # Prints graph of weekday average occupancy per hour of each each building \n",
    "        try:\n",
    "            # Weekdays boxplot.\n",
    "            display_and_save_hourly_boxplot(\n",
    "                tseries=build_totals.loc[build_totals.index.dayofweek < 5],\n",
    "                title=build+' (weekdays)',\n",
    "                figfilepath='./{}-wkdays.png'.format(build),\n",
    "                **common_args\n",
    "            )\n",
    "        except Exception as e:\n",
    "            print(\"No weekdays dates available in data set. Error: {}\".format(e))\n",
    "            raise e\n",
    "\n",
    "        # Prints graph of weekend average occupancy per hour of each each building \n",
    "        try:\n",
    "            # Weedends boxplot.\n",
    "            display_and_save_hourly_boxplot(\n",
    "                tseries=build_totals.loc[build_totals.index.dayofweek >= 5],\n",
    "                title=build+' (weekends)',\n",
    "                figfilepath='./{}-wkends.png'.format(build),\n",
    "                **common_args\n",
    "            )\n",
    "        except Exception as e:\n",
    "            print(\"No weekend dates available in data set. Error: {}\".format(e))\n",
    "            raise e"
   ]
  },
  {
   "cell_type": "markdown",
   "metadata": {},
   "source": [
    "## Holidays"
   ]
  },
  {
   "cell_type": "code",
   "execution_count": null,
   "metadata": {},
   "outputs": [],
   "source": [
    "if (holiday_analysis == True):\n",
    "    \n",
    "    # Get all US holidays between time range\n",
    "    holi_caldr = calendar()\n",
    "    holidays = holi_caldr.holidays(start = start_date, end = end_date)\n",
    "\n",
    "    # Shows what holidays are going to be included in this data set analysis \n",
    "    display(holidays)\n",
    "    \n",
    "    # Convert to date time inorder to compare with our df index\n",
    "    holiday_ts = pd.to_datetime(holidays)\n",
    "\n",
    "    truncated_time = occ.index.normalize()\n",
    "    occ['time_no_timezone'] = truncated_time.tz_localize(None)\n",
    "    \n",
    "    # Check if the date matches our list of holidays\n",
    "    occ['isHoliday'] = occ['time_no_timezone'].isin(holiday_ts)\n",
    "\n",
    "    display(occ)"
   ]
  },
  {
   "cell_type": "code",
   "execution_count": null,
   "metadata": {},
   "outputs": [],
   "source": [
    "if (holiday_analysis == True):\n",
    "    \n",
    "    # Create a new df holiday_occ.\n",
    "    # If the date is a holiday, copy the data to holiday_occ\n",
    "    holiday_occ = occ.loc[occ['isHoliday'] == True]\n",
    "    holiday_occ = holiday_occ.drop(['time_no_timezone', 'isHoliday'], axis =1)\n",
    "    occ_holiday_bybuild = holiday_occ.groupby(\n",
    "        by=schema.col_to_building, axis=1\n",
    "    )\n",
    "\n",
    "    means_by_building: Dict[Hashable, pd.DataFrame] = {}\n",
    "    maxmean = float('-inf')\n",
    "    for build in buildings:\n",
    "        means_by_building[build] = dfm.row_means(occ_holiday_bybuild.get_group(build))\n",
    "        newmax = means_by_building[build].max()\n",
    "        newmin = means_by_building[build].min()\n",
    "        maxmean = newmax if newmax > maxmean else maxmean\n",
    "\n",
    "    for build in buildings:\n",
    "\n",
    "         # Prints graph of holiday average occupancy per hour of each each building \n",
    "        try:\n",
    "            mean_occ_holiday: pd.DataFrame = dfm.row_means(occ_holiday_bybuild.get_group(build))\n",
    "\n",
    "            fig, ax = plt.subplots(figsize=(24, 15))\n",
    "\n",
    "            title = '{} (holidays'.format(build)\n",
    "            if start_date is not None:\n",
    "                title += ' from ' + start_date\n",
    "            if end_date is not None:\n",
    "                title += ' to ' + end_date\n",
    "            title += ')'\n",
    "            ax.set_title(title)\n",
    "            ax.set_xlabel('hour of the day')\n",
    "            ax.set_ylabel('mean number of connected devices')\n",
    "            ax.set_ylim(0, 200)\n",
    "\n",
    "            seaborn.boxplot(\n",
    "                # The hours (a number [0,23]) for each row.\n",
    "                x=mean_occ_holiday.index.hour,\n",
    "                # The total occupancy at that hour.\n",
    "                y=mean_occ_holiday,\n",
    "                ax=ax\n",
    "            )\n",
    "        except Exception as e:\n",
    "            print(\"No holidays in this data set. Error: {}\".format(e))\n",
    "            raise e"
   ]
  }
 ],
 "metadata": {
  "kernelspec": {
   "display_name": "Python 3",
   "language": "python",
   "name": "python3"
  },
  "language_info": {
   "codemirror_mode": {
    "name": "ipython",
    "version": 3
   },
   "file_extension": ".py",
   "mimetype": "text/x-python",
   "name": "python",
   "nbconvert_exporter": "python",
   "pygments_lexer": "ipython3",
   "version": "3.7.2"
  }
 },
 "nbformat": 4,
 "nbformat_minor": 2
}
