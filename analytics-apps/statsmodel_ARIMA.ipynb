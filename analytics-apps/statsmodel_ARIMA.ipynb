{
 "cells": [
  {
   "cell_type": "markdown",
   "metadata": {},
   "source": [
    "# ARIMA statsmodel version\n",
    "\n",
    "### Import Statements"
   ]
  },
  {
   "cell_type": "code",
   "execution_count": 1,
   "metadata": {},
   "outputs": [],
   "source": [
    "import numpy as np\n",
    "import matplotlib.pyplot as plt\n",
    "import seaborn as sns; sns.set(style=\"whitegrid\")\n",
    "import pandas as pd\n",
    "from importlib import reload\n",
    "import pytz\n",
    "\n",
    "from statsmodels.tsa.arima_model import ARIMA\n",
    "from pandas.plotting import autocorrelation_plot\n",
    "from datetime import datetime, timedelta\n",
    "\n",
    "# Written Import statements\n",
    "from modules import dataframe_manip as dfm\n",
    "from modules import misc, schemas, College1AcPtTimeSeries\n",
    "# The reload() function is needed to update modules after\n",
    "# changes are made to their files.\n",
    "dfm = reload(dfm)\n",
    "misc = reload(misc)\n",
    "schemas = reload(schemas)\n",
    "College1AcPtTimeSeries = reload(College1AcPtTimeSeries)"
   ]
  },
  {
   "cell_type": "markdown",
   "metadata": {},
   "source": [
    "### Functions"
   ]
  },
  {
   "cell_type": "code",
   "execution_count": 2,
   "metadata": {},
   "outputs": [],
   "source": [
    "def hour_rounder(t):\n",
    "    # Rounds to nearest hour by adding a timedelta hour if minute >= 30\n",
    "    return (t.replace(second=0, microsecond=0, minute=0, hour=t.hour)\n",
    "               +timedelta(hours=t.minute//30))\n",
    "\n",
    "def prepare_byHour_df_for_ARIMA(name, data):\n",
    "    \"\"\"\n",
    "    Takes a name of a building and finds the\n",
    "    total average of devices in the building\n",
    "    at the time. Returns a pd.Series\n",
    "    \n",
    "    Note: 1st column is the time (doesn't change\n",
    "    from original table). 2nd column is total\n",
    "    devices at the moment\n",
    "    \"\"\"\n",
    "    building_ap = dfm.get_building_accesspoints(data.columns, name)\n",
    "    ret_df = pd.DataFrame(columns = ['time','total'])\n",
    "    \n",
    "    ret_df['time'] = pd.to_datetime(\n",
    "        data['time'].apply(hour_rounder),\n",
    "        infer_datetime_format=True,\n",
    "        utc=True\n",
    "    )\n",
    "    \n",
    "    ret_df['total'] = data[building_ap].fillna(0).sum(axis=1)\n",
    "\n",
    "    ret_df = ret_df.set_index('time')\n",
    "    \n",
    "    # !!!!!!! Must exclusively assign !!!!!!!!!!\n",
    "    # FInd groupby by one hour, assign to var, use resample\n",
    "    # Predict for the far future & predict for near furture\n",
    "    #   Which is the near future\n",
    "    # State clearly what are the conditions\n",
    "    ret_df = ret_df.groupby(['time']).mean() \n",
    "    \n",
    "    ret_df.index.freq = ret_df.index.inferred_freq\n",
    "    \n",
    "    return ret_df\n",
    "\n",
    "def split_train_test_average_to_hour(data, percent):\n",
    "    \"\"\"\n",
    "    Takes a dataframe with a DatetimeIndex and averages\n",
    "    and splits them depending on the given percent.\n",
    "    The percent defines the length of train set.\n",
    "    Returns tuple of train then test\n",
    "    \"\"\"\n",
    "    train_size = int(len(data) * percent)\n",
    "    train_ret, test_ret = data[0:train_size],data[train_size:len(data)]\n",
    "\n",
    "    #train_ret = train.groupby(train.index.hour).mean()\n",
    "    #test_ret = test.groupby(test.index.hour).mean()\n",
    "    \n",
    "    return train_ret,test_ret\n",
    "\n",
    "# invert differenced value\n",
    "def inverse_difference(history, yhat, interval=1):\n",
    "    return yhat + history[-interval]\n",
    "\n",
    "def rm_extra_array(arr):\n",
    "    ret = []\n",
    "    for i in arr:\n",
    "        ret.append(i[0])\n",
    "    return ret\n",
    "\n",
    "def forecast_oneStep_outOfSample_ARIMA(df,p_arima,d_arima,q_arima):\n",
    "    model = ARIMA(df,order=(p_arima,d_arima,q_arima))\n",
    "    model_fit = model.fit(disp=0)\n",
    "    forecast = model_fit.forecast()[0]\n",
    "    return forecast[0]\n",
    "    \n",
    "def forecast_multiStep_outOfSample_ARIMA(df,step,p_arima,d_arima,q_arima):\n",
    "    model = ARIMA(df,order=(p_arima,d_arima,q_arima))\n",
    "    model_fit = model.fit(disp=0)\n",
    "    forecast = model_fit.forecast(steps=step)[0]\n",
    "    \n",
    "    history = rm_extra_array([x for x in df.values])\n",
    "    \n",
    "    #print(forecast)\n",
    "    ret = []\n",
    "    for y in forecast:\n",
    "        #print(\"y: \"+str(y))\n",
    "        i = inverse_difference(history, y, 24)\n",
    "        history.append(i)\n",
    "        ret.append(i)\n",
    "\n",
    "    return ret"
   ]
  },
  {
   "cell_type": "markdown",
   "metadata": {},
   "source": [
    "### Configurable Variables"
   ]
  },
  {
   "cell_type": "code",
   "execution_count": 3,
   "metadata": {},
   "outputs": [],
   "source": [
    "filepath = 'sample_data.csv'\n",
    "building_name = 'BUILDING17'\n",
    "p_arima = 5\n",
    "d_arima = 1\n",
    "q_arima = 0"
   ]
  },
  {
   "cell_type": "markdown",
   "metadata": {},
   "source": [
    "### Code starts here"
   ]
  },
  {
   "cell_type": "code",
   "execution_count": 4,
   "metadata": {},
   "outputs": [],
   "source": [
    "# Get data from csv  file; Try not to modify it!!!\n",
    "wifi_df = dfm.csv_to_timeseries_df(\n",
    "    filepath=filepath,\n",
    "    timezone=pytz.timezone('US/Pacific'))\n",
    "wifi_df = wifi_df.reset_index()"
   ]
  },
  {
   "cell_type": "code",
   "execution_count": 5,
   "metadata": {},
   "outputs": [],
   "source": [
    "# Gets a Series object that represents number of devices\n",
    "# connected based on time every hour\n",
    "building_time_df = prepare_byHour_df_for_ARIMA(\n",
    "    building_name, wifi_df)\n",
    "\n",
    "# Separated training set from testing set\n",
    "# Only getting one month because its a hella a lot of data\n",
    "train_hour_df, test_hour_df = split_train_test_average_to_hour(building_time_df, 0.66)"
   ]
  },
  {
   "cell_type": "markdown",
   "metadata": {},
   "source": [
    "### One Step Out of Sample ARIMA"
   ]
  },
  {
   "cell_type": "code",
   "execution_count": 6,
   "metadata": {},
   "outputs": [
    {
     "data": {
      "text/plain": [
       "10.460938039240151"
      ]
     },
     "execution_count": 6,
     "metadata": {},
     "output_type": "execute_result"
    }
   ],
   "source": [
    "forecast_oneStep_outOfSample_ARIMA(train_hour_df,p_arima,d_arima,q_arima)"
   ]
  },
  {
   "cell_type": "markdown",
   "metadata": {},
   "source": [
    "### Multi Step Out of Sample ARIMA"
   ]
  },
  {
   "cell_type": "code",
   "execution_count": 11,
   "metadata": {},
   "outputs": [
    {
     "data": {
      "text/plain": [
       "[16.62760470590682,\n",
       " 17.301232563538687,\n",
       " 16.803106612252975,\n",
       " 26.077828473454826,\n",
       " 26.137142342153055,\n",
       " 26.055689043156363,\n",
       " 25.216159802021913,\n",
       " 27.236738935049253,\n",
       " 30.181238390986596,\n",
       " 26.522512838633588]"
      ]
     },
     "execution_count": 11,
     "metadata": {},
     "output_type": "execute_result"
    }
   ],
   "source": [
    "forecast_multiStep_outOfSample_ARIMA(train_hour_df,10,p_arima,d_arima,q_arima)"
   ]
  },
  {
   "cell_type": "code",
   "execution_count": null,
   "metadata": {},
   "outputs": [],
   "source": []
  }
 ],
 "metadata": {
  "kernelspec": {
   "display_name": "Python 3",
   "language": "python",
   "name": "python3"
  },
  "language_info": {
   "codemirror_mode": {
    "name": "ipython",
    "version": 3
   },
   "file_extension": ".py",
   "mimetype": "text/x-python",
   "name": "python",
   "nbconvert_exporter": "python",
   "pygments_lexer": "ipython3",
   "version": "3.6.7"
  }
 },
 "nbformat": 4,
 "nbformat_minor": 2
}
