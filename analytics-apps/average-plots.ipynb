{
 "cells": [
  {
   "cell_type": "code",
   "execution_count": 2,
   "metadata": {},
   "outputs": [
    {
     "ename": "ImportError",
     "evalue": "cannot import name 'csv_to_dataframe'",
     "output_type": "error",
     "traceback": [
      "\u001b[0;31m---------------------------------------------------------------------------\u001b[0m",
      "\u001b[0;31mImportError\u001b[0m                               Traceback (most recent call last)",
      "\u001b[0;32m<ipython-input-2-41cd2982c3f0>\u001b[0m in \u001b[0;36m<module>\u001b[0;34m()\u001b[0m\n\u001b[1;32m      6\u001b[0m \u001b[0;32mfrom\u001b[0m \u001b[0msklearn\u001b[0m\u001b[0;34m.\u001b[0m\u001b[0mlinear_model\u001b[0m \u001b[0;32mimport\u001b[0m \u001b[0mLinearRegression\u001b[0m\u001b[0;34m\u001b[0m\u001b[0;34m\u001b[0m\u001b[0m\n\u001b[1;32m      7\u001b[0m \u001b[0;32mfrom\u001b[0m \u001b[0msklearn\u001b[0m\u001b[0;34m.\u001b[0m\u001b[0mmodel_selection\u001b[0m \u001b[0;32mimport\u001b[0m \u001b[0mtrain_test_split\u001b[0m\u001b[0;34m\u001b[0m\u001b[0;34m\u001b[0m\u001b[0m\n\u001b[0;32m----> 8\u001b[0;31m \u001b[0;32mfrom\u001b[0m \u001b[0mmodules\u001b[0m\u001b[0;34m.\u001b[0m\u001b[0mdataframe_manip\u001b[0m \u001b[0;32mimport\u001b[0m \u001b[0mget_building_accesspoints\u001b[0m\u001b[0;34m,\u001b[0m\u001b[0mcsv_to_dataframe\u001b[0m\u001b[0;34m\u001b[0m\u001b[0;34m\u001b[0m\u001b[0m\n\u001b[0m",
      "\u001b[0;31mImportError\u001b[0m: cannot import name 'csv_to_dataframe'"
     ]
    }
   ],
   "source": [
    "import numpy as np\n",
    "import matplotlib.pyplot as plt\n",
    "import seaborn as sns; sns.set(style=\"whitegrid\")\n",
    "import pandas as pd\n",
    "\n",
    "from sklearn.linear_model import LinearRegression\n",
    "from sklearn.model_selection import train_test_split\n",
    "from modules.dataframe_manip import get_building_accesspoints,csv_to_dataframe"
   ]
  },
  {
   "cell_type": "code",
   "execution_count": null,
   "metadata": {},
   "outputs": [],
   "source": [
    "def get_building_df(building_name,df):\n",
    "    building_ap = []\n",
    "    building_ap = get_building_accesspoints(df.columns, building_name)\n",
    "\n",
    "    # Create a Dataframe to help shape the final dataframe\n",
    "    building_df = []\n",
    "    building_df = pd.DataFrame(columns = ['month','day','hour','total']+building_ap)\n",
    "    \n",
    "    # Populate building_df\n",
    "    building_df['month'] = pd.to_datetime(\n",
    "        df['time'],\n",
    "        infer_datetime_format=True,\n",
    "        utc=True\n",
    "    ).dt.strftime('%b')#.astype(np.float) #%m\n",
    "\n",
    "    building_df['day'] = pd.to_datetime(\n",
    "        df['time'],\n",
    "        infer_datetime_format=True,\n",
    "        utc=True\n",
    "    ).dt.strftime('%a')#.astype(np.float) #%w\n",
    "\n",
    "    building_df['hour'] = pd.to_datetime(\n",
    "        df['time'],\n",
    "        infer_datetime_format=True,\n",
    "        utc=True\n",
    "    ).dt.strftime('%H').astype(np.float)\n",
    "\n",
    "    building_df[building_ap] = df[building_ap].fillna(0)\n",
    "    building_df['total'] = building_df[building_ap].sum(axis=1)\n",
    "    \n",
    "    building_df_by_all = []\n",
    "    building_df_by_all = building_df.groupby(['month','day','hour']).mean()\n",
    "    \n",
    "    final_df = []\n",
    "    # Creates an empty DataFrame foor scatterplot\n",
    "    final_df = pd.DataFrame(\n",
    "        columns = ['month','day','hour','building_name','average_total']\n",
    "    )\n",
    "\n",
    "    final_df['month'] = building_df_by_all.index.get_level_values(0)\n",
    "    final_df['day'] = building_df_by_all.index.get_level_values(1)\n",
    "    final_df['hour'] = building_df_by_all.index.get_level_values(2)\n",
    "    final_df['building_name'] = [building_name]*len(final_df['month'])\n",
    "    final_df['total'] = list(building_df_by_all['total'])\n",
    "    \n",
    "    \n",
    "    # Lists to help order plots\n",
    "    order_day = [\"Sun\", \"Mon\", \"Tue\", \"Wed\", \"Thu\", \"Fri\", \"Sat\"]\n",
    "    order_mon = [\"Jan\", \"Feb\", \"Mar\", \"Apr\", \"May\", \"Jun\", \"Jul\", \"Aug\", \"Sep\",\"Oct\",\"Nov\",\"Dec\"]\n",
    "\n",
    "    # Create 1x3 subplots\n",
    "    fig, (ax1, ax2, ax3) = plt.subplots(1,3,figsize=(20,8))\n",
    "\n",
    "    ax2.set_title(building_name,fontsize=50) #################\n",
    "\n",
    "    sns.barplot(x=\"day\", y=\"total\", data=final_df, ax=ax1, order=order_day)\n",
    "\n",
    "    sns.barplot(x=\"hour\", y=\"total\", data=final_df, ax=ax2)\n",
    "    plt.setp(ax2.get_xticklabels(), rotation=45)\n",
    "    ax2.set_ylabel(\"\")  # remove y label, but keep ticks\n",
    "\n",
    "    sns.barplot(x=\"month\", y=\"total\", data=final_df, ax=ax3, order=order_mon)\n",
    "    ax3.set_ylabel(\"\")  # remove y label, but keep ticks\n",
    "\n",
    "    fig.tight_layout()\n",
    "\n",
    "    plt.show()\n",
    "    \n",
    "    "
   ]
  },
  {
   "cell_type": "code",
   "execution_count": null,
   "metadata": {},
   "outputs": [],
   "source": [
    "# Get data from csv  file; Try not to modify it!!!\n",
    "wifi_df = pd.read_csv('wifi_data_until_20190204.csv',\n",
    "                      infer_datetime_format=True,\n",
    "                      index_col=False)"
   ]
  },
  {
   "cell_type": "code",
   "execution_count": null,
   "metadata": {},
   "outputs": [],
   "source": [
    "sorted(list(wifi_df.columns))"
   ]
  },
  {
   "cell_type": "code",
   "execution_count": null,
   "metadata": {},
   "outputs": [],
   "source": [
    "#all_buildings = [\n",
    "#    'ALEXANDER','ANDREW','BALDWIN','BRACKETT','BRIDGES','CARNEGIE','CLARK', 'CROOKSHANK',\n",
    "#    'DRAPER', 'FARM', 'FRANK', 'FRARY', 'GIBONEY', 'GIBSON', 'GROUNDS', 'HAHN', 'HALDEMAN',\n",
    "#    'HARWOOD','ITB', 'KENYON', 'LAWRY', 'LEB', 'LEBUS', 'MASON', 'MCCARTHY', 'MERRIT',\n",
    "#    'MILLIKAN', 'MUSEUM', 'NORTON', 'OLDENBORG','PAULEY','PEARSON','PENDLETON','POMONA''\n",
    "#    'RAINS','REMBRANDT', 'SCC', 'SEAVER','SGM','SMILEY','SMITH','SONTAG','STUDIOART',\n",
    "#    'SUMNER','THATCHER','WALKER','WALTON','WIG'\n",
    "#]\n",
    "building_list = ['ALEXANDER','CARNEGIE','CROOKSHANK','MASON','THATCHER','SCC','CLARK','PEARSON','SMITH']\n",
    "\n",
    "\n",
    "for bui in building_list:\n",
    "    get_building_df(bui,wifi_df)\n",
    "\n"
   ]
  },
  {
   "cell_type": "code",
   "execution_count": null,
   "metadata": {},
   "outputs": [],
   "source": []
  },
  {
   "cell_type": "code",
   "execution_count": null,
   "metadata": {},
   "outputs": [],
   "source": [
    "\"\"\"\n",
    "# Get data from csv  file; Try not to modify it!!!\n",
    "wifi_df = pd.read_csv('wifi_data_until_20190204.csv',\n",
    "                      infer_datetime_format=True,\n",
    "                      index_col=False)\n",
    "\"\"\""
   ]
  },
  {
   "cell_type": "code",
   "execution_count": null,
   "metadata": {},
   "outputs": [],
   "source": [
    "\"\"\"\n",
    "# Get list of APs for multiple buildings\n",
    "#building_list = ['ALEXANDER','MASON','THATCHER','SCC','CLARK','PEARSON','SMITH']\n",
    "\n",
    "# Get list of APs for a buildings\n",
    "building_name = 'MASON'\n",
    "building_ap = get_building_accesspoints(wifi_df.columns, building_name)\n",
    "\n",
    "# Create a Dataframe to help shape the final dataframe\n",
    "building_df = pd.DataFrame(columns = ['month','day','hour','total']+building_ap)\n",
    "\"\"\""
   ]
  },
  {
   "cell_type": "code",
   "execution_count": null,
   "metadata": {},
   "outputs": [],
   "source": [
    "\"\"\"\n",
    "# Populate building_df\n",
    "building_df['month'] = pd.to_datetime(\n",
    "    wifi_df['time'],\n",
    "    infer_datetime_format=True,\n",
    "    utc=True\n",
    ").dt.strftime('%b')#.astype(np.float) #%m\n",
    "\n",
    "building_df['day'] = pd.to_datetime(\n",
    "    wifi_df['time'],\n",
    "    infer_datetime_format=True,\n",
    "    utc=True\n",
    ").dt.strftime('%a')#.astype(np.float) #%w\n",
    "\n",
    "building_df['hour'] = pd.to_datetime(\n",
    "    wifi_df['time'],\n",
    "    infer_datetime_format=True,\n",
    "    utc=True\n",
    ").dt.strftime('%H').astype(np.float)\n",
    "\n",
    "building_df[building_ap] = wifi_df[building_ap].fillna(0)\n",
    "\n",
    "building_df['total'] = building_df[building_ap].sum(axis=1)\n",
    "\"\"\""
   ]
  },
  {
   "cell_type": "code",
   "execution_count": null,
   "metadata": {},
   "outputs": [],
   "source": [
    "\"\"\"\n",
    "# Apply Multiple indexes in datafram\n",
    "building_df_by_all = building_df.groupby(['month','day','hour']).mean()\n",
    "#print(list(building_df_by_day_and_hour['total']))\n",
    "\"\"\""
   ]
  },
  {
   "cell_type": "code",
   "execution_count": null,
   "metadata": {},
   "outputs": [],
   "source": [
    "\"\"\"\n",
    "# Creates an empty DataFrame foor scatterplot\n",
    "final_df = pd.DataFrame(\n",
    "    columns = ['month','day','hour','building_name','average_total']\n",
    ")\n",
    "\n",
    "final_df['month'] = building_df_by_all.index.get_level_values(0)\n",
    "final_df['day'] = building_df_by_all.index.get_level_values(1)\n",
    "final_df['hour'] = building_df_by_all.index.get_level_values(2)\n",
    "final_df['building_name'] = [building_name]*len(final_df['month'])\n",
    "final_df['total'] = list(building_df_by_all['total'])\n",
    "\n",
    "#print(final_df)\n",
    "\"\"\""
   ]
  },
  {
   "cell_type": "code",
   "execution_count": null,
   "metadata": {},
   "outputs": [],
   "source": [
    "\"\"\"\n",
    "# Lists to help order plots\n",
    "order_day = [\"Sun\", \"Mon\", \"Tue\", \"Wed\", \"Thu\", \"Fri\", \"Sat\"]\n",
    "order_mon = [\"Jan\", \"Feb\", \"Mar\", \"Apr\", \"May\", \"Jun\", \"Jul\", \"Aug\", \"Sep\",\"Oct\",\"Nov\",\"Dec\"]\n",
    "\n",
    "\n",
    "\n",
    "# Create 1x3 subplots\n",
    "fig, (ax1, ax2, ax3) = plt.subplots(1,3,figsize=(20,8))\n",
    "\n",
    "ax2.set_title(building_name,fontsize=50) #################\n",
    "\n",
    "sns.barplot(x=\"day\", y=\"total\", data=final_df, ax=ax1, order=order_day)\n",
    "\n",
    "sns.barplot(x=\"hour\", y=\"total\", data=final_df, ax=ax2)\n",
    "plt.setp(ax2.get_xticklabels(), rotation=45)\n",
    "ax2.set_ylabel(\"\")  # remove y label, but keep ticks\n",
    "\n",
    "sns.barplot(x=\"month\", y=\"total\", data=final_df, ax=ax3, order=order_mon)\n",
    "ax3.set_ylabel(\"\")  # remove y label, but keep ticks\n",
    "\n",
    "fig.tight_layout()\n",
    "\n",
    "plt.show()\n",
    "\"\"\"\n"
   ]
  },
  {
   "cell_type": "code",
   "execution_count": null,
   "metadata": {},
   "outputs": [],
   "source": []
  }
 ],
 "metadata": {
  "kernelspec": {
   "display_name": "Python 3",
   "language": "python",
   "name": "python3"
  },
  "language_info": {
   "codemirror_mode": {
    "name": "ipython",
    "version": 3
   },
   "file_extension": ".py",
   "mimetype": "text/x-python",
   "name": "python",
   "nbconvert_exporter": "python",
   "pygments_lexer": "ipython3",
   "version": "3.6.7"
  }
 },
 "nbformat": 4,
 "nbformat_minor": 2
}
