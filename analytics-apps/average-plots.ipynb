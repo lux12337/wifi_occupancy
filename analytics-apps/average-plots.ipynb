{
 "cells": [
  {
   "cell_type": "code",
   "execution_count": null,
   "metadata": {},
   "outputs": [],
   "source": [
    "import numpy as np\n",
    "import matplotlib.pyplot as plt\n",
    "import seaborn as sns; sns.set(style=\"whitegrid\")\n",
    "import pandas as pd\n",
    "\n",
    "from sklearn.linear_model import LinearRegression\n",
    "from sklearn.model_selection import train_test_split\n",
    "from modules.dataframe_manip import get_building_accesspoints#,csv_to_dataframe"
   ]
  },
  {
   "cell_type": "code",
   "execution_count": null,
   "metadata": {},
   "outputs": [],
   "source": [
    "def get_building_df(building_name,df):\n",
    "    building_ap = []\n",
    "    building_ap = get_building_accesspoints(df.columns, building_name)\n",
    "\n",
    "    # Create a Dataframe to help shape the final dataframe\n",
    "    building_df = []\n",
    "    building_df = pd.DataFrame(columns = ['month','day','hour','total']+building_ap)\n",
    "    \n",
    "    # Populate building_df\n",
    "    building_df['month'] = pd.to_datetime(\n",
    "        df['time'],\n",
    "        infer_datetime_format=True,\n",
    "        utc=True\n",
    "    ).dt.strftime('%b')#.astype(np.float) #%m\n",
    "\n",
    "    building_df['day'] = pd.to_datetime(\n",
    "        df['time'],\n",
    "        infer_datetime_format=True,\n",
    "        utc=True\n",
    "    ).dt.strftime('%a')#.astype(np.float) #%w\n",
    "\n",
    "    building_df['hour'] = pd.to_datetime(\n",
    "        df['time'],\n",
    "        infer_datetime_format=True,\n",
    "        utc=True\n",
    "    ).dt.strftime('%H').astype(np.float)\n",
    "\n",
    "    building_df[building_ap] = df[building_ap].fillna(0)\n",
    "    building_df['total'] = building_df[building_ap].sum(axis=1)\n",
    "    \n",
    "    building_df_by_all = []\n",
    "    building_df_by_all = building_df.groupby(['month','day','hour']).mean()\n",
    "    \n",
    "    final_df = []\n",
    "    # Creates an empty DataFrame foor scatterplot\n",
    "    final_df = pd.DataFrame(\n",
    "        columns = ['month','day','hour','building_name','average_total']\n",
    "    )\n",
    "\n",
    "    final_df['month'] = building_df_by_all.index.get_level_values(0)\n",
    "    final_df['day'] = building_df_by_all.index.get_level_values(1)\n",
    "    final_df['hour'] = building_df_by_all.index.get_level_values(2)\n",
    "    final_df['building_name'] = [building_name]*len(final_df['month'])\n",
    "    final_df['total'] = list(building_df_by_all['total'])\n",
    "    \n",
    "    \n",
    "    # Lists to help order plots\n",
    "    order_day = [\"Sun\", \"Mon\", \"Tue\", \"Wed\", \"Thu\", \"Fri\", \"Sat\"]\n",
    "    order_mon = [\"Jan\", \"Feb\", \"Mar\", \"Apr\", \"May\", \"Jun\", \"Jul\", \"Aug\", \"Sep\",\"Oct\",\"Nov\",\"Dec\"]\n",
    "\n",
    "    # Create 1x3 subplots\n",
    "    fig, (ax1, ax2, ax3) = plt.subplots(1,3,figsize=(20,8))\n",
    "\n",
    "    ax2.set_title(building_name,fontsize=50) #################\n",
    "\n",
    "    sns.barplot(x=\"day\", y=\"total\", data=final_df, ax=ax1, order=order_day)\n",
    "\n",
    "    sns.barplot(x=\"hour\", y=\"total\", data=final_df, ax=ax2)\n",
    "    plt.setp(ax2.get_xticklabels(), rotation=45)\n",
    "    ax2.set_ylabel(\"\")  # remove y label, but keep ticks\n",
    "\n",
    "    sns.barplot(x=\"month\", y=\"total\", data=final_df, ax=ax3, order=order_mon)\n",
    "    ax3.set_ylabel(\"\")  # remove y label, but keep ticks\n",
    "\n",
    "    fig.tight_layout()\n",
    "\n",
    "    plt.show()\n",
    "    \n",
    "    "
   ]
  },
  {
   "cell_type": "code",
   "execution_count": null,
   "metadata": {},
   "outputs": [],
   "source": [
    "# Get data from csv  file; Try not to modify it!!!\n",
    "wifi_df = pd.read_csv('wifi_data_until_20190204.csv',\n",
    "                      infer_datetime_format=True,\n",
    "                      index_col=False)"
   ]
  },
  {
   "cell_type": "code",
   "execution_count": null,
   "metadata": {},
   "outputs": [],
   "source": [
    "all_buildings = [\n",
    "    ' POMONA','118-8TH','1567TH','345C',\n",
    "    'ALEXANDER','ANDREW','BALDWIN','BRACKETT','BRIDGES','CARNEGIE',\n",
    "    'CLARK3','CLARKI','CLARKV','CROOKSHANK',\n",
    "    'DRAPER', 'FARM', 'FRANK', 'FRARY', 'GIBONEY', 'GIBSON', 'GROUNDS', 'HAHN', 'HALDEMAN',\n",
    "    'HARWOOD','ITB', 'KENYON', 'LAWRY', 'LEB', 'LEBUS', 'MASON', 'MCCARTHY', 'MERRIT',\n",
    "    'MILLIKAN', 'MUSEUM', 'NORTON', 'OLDENBORG','PAULEY','PEARSON','PENDLETON','POMONA',\n",
    "    'RAINS','REMBRANDT', 'SCC', 'SEAVER','SGM','SMILEY','SMITH','SONTAG','STUDIOART',\n",
    "    'SUMNER','THATCHER','WALKER','WALTON','WIG']\n",
    "building_list = ['ALEXANDER','CARNEGIE','CROOKSHANK','MASON','THATCHER','SCC','CLARK','PEARSON','SMITH']\n",
    "\n",
    "\n",
    "for bui in all_buildings:\n",
    "    get_building_df(bui,wifi_df)"
   ]
  },
  {
   "cell_type": "code",
   "execution_count": null,
   "metadata": {},
   "outputs": [],
   "source": []
  }
 ],
 "metadata": {
  "kernelspec": {
   "display_name": "Python 3",
   "language": "python",
   "name": "python3"
  },
  "language_info": {
   "codemirror_mode": {
    "name": "ipython",
    "version": 3
   },
   "file_extension": ".py",
   "mimetype": "text/x-python",
   "name": "python",
   "nbconvert_exporter": "python",
   "pygments_lexer": "ipython3",
   "version": "3.6.7"
  }
 },
 "nbformat": 4,
 "nbformat_minor": 2
}
