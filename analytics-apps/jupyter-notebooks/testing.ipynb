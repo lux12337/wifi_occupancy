{
 "cells": [
  {
   "cell_type": "code",
   "execution_count": 1,
   "metadata": {},
   "outputs": [],
   "source": [
    "%matplotlib notebook\n",
    "import sys\n",
    "sys.path.insert(0, '..')\n",
    "\n",
    "\n",
    "import matplotlib.pyplot as plt\n",
    "import dataframe_manip as hp\n",
    "import pandas as pd"
   ]
  },
  {
   "cell_type": "code",
   "execution_count": 2,
   "metadata": {},
   "outputs": [],
   "source": [
    "data = hp.csv_to_dataframe('../wifi_data_until_20190204.csv')"
   ]
  },
  {
   "cell_type": "code",
   "execution_count": 3,
   "metadata": {},
   "outputs": [],
   "source": [
    "scc_building = data[hp.get_building_accesspoints(data, 'ALEXANDER')].fillna(0).copy()\n",
    "scc_building['total'] = scc_building.sum(axis=1)\n",
    "scc_building.index = pd.to_datetime(scc_building.index, utc=True)\n",
    "scc_building = scc_building.resample('H').mean()\n",
    "scc_building['weekday'] = scc_building.index.weekday"
   ]
  },
  {
   "cell_type": "code",
   "execution_count": 4,
   "metadata": {
    "scrolled": true
   },
   "outputs": [],
   "source": [
    "mon = [0]\n",
    "tue = [1]\n",
    "wed = [2]\n",
    "thu = [3]\n",
    "fri = [4]\n",
    "sat = [5]\n",
    "sun = [6]\n",
    "\n",
    "mondays = scc_building[scc_building['weekday'].isin(mon)]\n",
    "tuesdays = scc_building[scc_building['weekday'].isin(tue)]\n",
    "wednesdays = scc_building[scc_building['weekday'].isin(wed)]\n",
    "thursdays = scc_building[scc_building['weekday'].isin(thu)]\n",
    "fridays = scc_building[scc_building['weekday'].isin(fri)]\n",
    "saturdays = scc_building[scc_building['weekday'].isin(sat)]\n",
    "sundays = scc_building[scc_building['weekday'].isin(sun)]"
   ]
  },
  {
   "cell_type": "code",
   "execution_count": null,
   "metadata": {
    "scrolled": false
   },
   "outputs": [],
   "source": [
    "plt.subplot(4, 2, 1)\n",
    "plt.plot(mondays['total'])\n",
    "plt.title('Mondays')\n",
    "\n",
    "plt.subplot(4, 2, 2)\n",
    "plt.plot(tuesdays['total'])\n",
    "plt.title('Tuesdays')\n",
    "\n",
    "plt.subplot(4, 2, 3)\n",
    "plt.plot(wednesdays['total'])\n",
    "plt.title('Wednesdays')\n",
    "\n",
    "plt.subplot(4, 2, 4)\n",
    "plt.plot(thursdays['total'])\n",
    "plt.title('Thursdays')\n",
    "\n",
    "plt.subplot(4, 2, 5)\n",
    "plt.plot(fridays['total'])\n",
    "plt.title('Fridays')\n",
    "\n",
    "plt.subplot(4, 2, 6)\n",
    "plt.plot(saturdays['total'])\n",
    "plt.title('Saturdays')\n",
    "\n",
    "plt.subplot(4, 2, 7)\n",
    "plt.plot(sundays['total'])\n",
    "plt.title('Sundays')\n",
    "\n",
    "plt.tight_layout()\n",
    "plt.show()"
   ]
  },
  {
   "cell_type": "code",
   "execution_count": null,
   "metadata": {
    "solution2": "shown",
    "solution2_first": true
   },
   "outputs": [],
   "source": []
  }
 ],
 "metadata": {
  "kernelspec": {
   "display_name": "Python 3",
   "language": "python",
   "name": "python3"
  },
  "language_info": {
   "codemirror_mode": {
    "name": "ipython",
    "version": 3
   },
   "file_extension": ".py",
   "mimetype": "text/x-python",
   "name": "python",
   "nbconvert_exporter": "python",
   "pygments_lexer": "ipython3",
   "version": "3.6.7"
  }
 },
 "nbformat": 4,
 "nbformat_minor": 2
}
