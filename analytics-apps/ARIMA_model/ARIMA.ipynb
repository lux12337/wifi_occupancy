{
 "cells": [
  {
   "cell_type": "code",
   "execution_count": null,
   "metadata": {},
   "outputs": [],
   "source": [
    "# ARIMA used for short term forecast\n",
    "\n",
    "import numpy as np\n",
    "import matplotlib.pyplot as plt\n",
    "import seaborn as sns; sns.set(style=\"whitegrid\")\n",
    "import pandas as pd\n",
    "\n",
    "from statsmodels.tsa.arima_model import ARIMA\n",
    "from pandas.plotting import autocorrelation_plot\n",
    "from datetime import datetime, timedelta\n",
    "\n",
    "from dataframe_manip import get_building_accesspoints"
   ]
  },
  {
   "cell_type": "code",
   "execution_count": null,
   "metadata": {},
   "outputs": [],
   "source": [
    "# FUNCTIONS\n",
    "\n",
    "def hour_rounder(t):\n",
    "    # Rounds to nearest hour by adding a timedelta hour if minute >= 30\n",
    "    return (t.replace(second=0, microsecond=0, minute=0, hour=t.hour)\n",
    "               +timedelta(hours=t.minute//30))\n",
    "\n",
    "def get_connected_devices_total_timed(name, data):\n",
    "    \"\"\"\n",
    "    Takes a name of a building and finds the\n",
    "    total average of devices in the building\n",
    "    at the time. Returns a pd.Series\n",
    "    \n",
    "    Note: 1st column is the time (doesn't change\n",
    "    from original table). 2nd column is total\n",
    "    devices at the moment\n",
    "    \"\"\"\n",
    "    building_ap = get_building_accesspoints(data.columns, name)\n",
    "    ret_df = pd.DataFrame(columns = ['time','total'])\n",
    "    \n",
    "    ret_df['time'] = pd.to_datetime(\n",
    "        data['time'].apply(hour_rounder),\n",
    "        infer_datetime_format=True,\n",
    "        utc=True\n",
    "    )\n",
    "    \n",
    "    ret_df['total'] = data[building_ap].fillna(0).sum(axis=1)\n",
    "\n",
    "    ret_df = ret_df.set_index('time')\n",
    "    \n",
    "    # !!!!!!! Must exclusively assign !!!!!!!!!!\n",
    "    # FInd groupby by one hour, assign to var, use resample\n",
    "    # Predict for the far future & predict for near furture\n",
    "    #   Which is the near future\n",
    "    # State clearly what are the conditions\n",
    "    ret_df = ret_df.groupby(['time']).mean() \n",
    "    \n",
    "    ret_df.index.freq = ret_df.index.inferred_freq\n",
    "    \n",
    "    return ret_df\n",
    "\n",
    "def split_train_test_average_to_hour(data, percent):\n",
    "    \"\"\"\n",
    "    Takes a dataframe with a DatetimeIndex and averages\n",
    "    and splits them depending on the given percent.\n",
    "    The percent defines the length of train set.\n",
    "    Returns tuple of train then test\n",
    "    \"\"\"\n",
    "    train_size = int(len(data) * percent)\n",
    "    train_ret, test_ret = data[0:train_size],data[train_size:len(data)]\n",
    "\n",
    "    #train_ret = train.groupby(train.index.hour).mean()\n",
    "    #test_ret = test.groupby(test.index.hour).mean()\n",
    "    \n",
    "    return train_ret,test_ret"
   ]
  },
  {
   "cell_type": "code",
   "execution_count": null,
   "metadata": {},
   "outputs": [],
   "source": [
    "# POSSIBLE INPUT\n",
    "filename = 'wifi_data_until_20190204.csv'\n",
    "building_name = 'CLARK'\n",
    "p_arima = 5\n",
    "d_arima = 1\n",
    "q_arima = 0"
   ]
  },
  {
   "cell_type": "code",
   "execution_count": null,
   "metadata": {},
   "outputs": [],
   "source": [
    "# Get data from csv  file; Try not to modify it!!!\n",
    "wifi_df = pd.read_csv(\n",
    "    filename,\n",
    "    infer_datetime_format=True,\n",
    "    header=0,\n",
    "    parse_dates=[0],\n",
    "    #squeeze=True,\n",
    "    index_col=False\n",
    ")"
   ]
  },
  {
   "cell_type": "code",
   "execution_count": null,
   "metadata": {},
   "outputs": [],
   "source": [
    "# Gets a Series object that represents number of devices\n",
    "# connected based on time every 5 minutes\n",
    "building_time_df = get_connected_devices_total_timed(\n",
    "    building_name, wifi_df)\n",
    "\n",
    "# Separated training set from testing set\n",
    "# Only getting one month because its a hella a lot of data\n",
    "train_hour_df, test_hour_df = split_train_test_average_to_hour(\n",
    "    building_time_df['2019-01':'2019-02'], 0.66)"
   ]
  },
  {
   "cell_type": "code",
   "execution_count": null,
   "metadata": {},
   "outputs": [],
   "source": [
    "# This plot allows you to quickly estimate if your \n",
    "# time series is random or not.\n",
    "# Helps determin p_arima.\n",
    "# Number is whereever positive correlation starts\n",
    "autocorrelation_plot(train_hour_df)"
   ]
  },
  {
   "cell_type": "code",
   "execution_count": null,
   "metadata": {},
   "outputs": [],
   "source": [
    "model = ARIMA(test_hour_df,order=(p_arima,d_arima,q_arima))\n",
    "model_fit = model.fit(disp=0)\n",
    "print(model_fit.summary())"
   ]
  },
  {
   "cell_type": "code",
   "execution_count": null,
   "metadata": {},
   "outputs": [],
   "source": [
    "predictions = list()\n",
    "history = [x for x in train_hour_df['total']]\n",
    "#test_hour_df.index.freq = 'H'#test_hour_df.index.inferred_freq\n",
    "results = pd.DataFrame(columns = ['predicted','expected'])"
   ]
  },
  {
   "cell_type": "code",
   "execution_count": null,
   "metadata": {},
   "outputs": [],
   "source": [
    "for t in range(len(test_hour_df)):\n",
    "#for t in range(1000):\n",
    "    model = ARIMA(history, order=(p_arima,d_arima,q_arima))\n",
    "    model_fit = model.fit(disp=0)\n",
    "    output = model_fit.forecast()\n",
    "    yhat = output[0]\n",
    "    predictions.append(yhat)\n",
    "    obs = test_hour_df['total'][t]\n",
    "    history.append(obs)\n",
    "    add = pd.DataFrame({\"predicted\":[yhat],\"expected\":[obs]})\n",
    "    print('predicted=%f, expected=%f' % (yhat, obs))\n"
   ]
  },
  {
   "cell_type": "code",
   "execution_count": null,
   "metadata": {},
   "outputs": [],
   "source": [
    "error = mean_squared_error(test, predictions)\n",
    "print('Test MSE: %.3f' % error)"
   ]
  },
  {
   "cell_type": "code",
   "execution_count": null,
   "metadata": {},
   "outputs": [],
   "source": [
    "# plot\n",
    "plt.plot(test_hour_df)\n",
    "plt.plot(predictions, color='red')\n",
    "plt.show()"
   ]
  },
  {
   "cell_type": "code",
   "execution_count": null,
   "metadata": {},
   "outputs": [],
   "source": []
  }
 ],
 "metadata": {
  "kernelspec": {
   "display_name": "Python 3",
   "language": "python",
   "name": "python3"
  },
  "language_info": {
   "codemirror_mode": {
    "name": "ipython",
    "version": 3
   },
   "file_extension": ".py",
   "mimetype": "text/x-python",
   "name": "python",
   "nbconvert_exporter": "python",
   "pygments_lexer": "ipython3",
   "version": "3.6.7"
  }
 },
 "nbformat": 4,
 "nbformat_minor": 2
}
