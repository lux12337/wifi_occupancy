{
 "cells": [
  {
   "cell_type": "markdown",
   "metadata": {},
   "source": [
    "# Occupancy Distribution Through Time.\n",
    "\n",
    "Let's gain some insights about the distribution of occupancy count across time and locations."
   ]
  },
  {
   "cell_type": "markdown",
   "metadata": {},
   "source": [
    "## Script setup"
   ]
  },
  {
   "cell_type": "code",
   "execution_count": 70,
   "metadata": {},
   "outputs": [],
   "source": [
    "# The Python interpreter requires this workaround to\n",
    "# import modules outside of this notebook's directory.\n",
    "import sys\n",
    "sys.path.append(\"..\")"
   ]
  },
  {
   "cell_type": "code",
   "execution_count": 83,
   "metadata": {},
   "outputs": [],
   "source": [
    "# Third-party and standard modules\n",
    "from typing import Optional\n",
    "import numpy as np\n",
    "import pandas as pd\n",
    "import seaborn\n",
    "import matplotlib.pyplot as plt\n",
    "import pytz\n",
    "from itertools import repeat\n",
    "from importlib import reload\n",
    "\n",
    "# User-defined modules.\n",
    "# The reload() function is needed to update modules after\n",
    "# changes are made to their files.\n",
    "from modules import dataframe_manip as dfm\n",
    "dfm = reload(dfm)\n",
    "from modules import misc\n",
    "misc = reload(misc)\n",
    "from modules import College1AcPtTimeSeries as college_specifics\n",
    "college_specifics = reload(college_specifics)"
   ]
  },
  {
   "cell_type": "code",
   "execution_count": 72,
   "metadata": {},
   "outputs": [],
   "source": [
    "def dataframe_info(d: pd.DataFrame) -> str:\n",
    "    \"\"\"A basic function for getting dataframe info.\"\"\"\n",
    "    return \"\"\"\n",
    "    shape: {}\n",
    "    index datatype: {}\n",
    "    na value count: {}\n",
    "    \"\"\".format(\n",
    "        str(d.shape),\n",
    "        d.index.dtype,\n",
    "        d.isna().sum().sum()\n",
    "    )"
   ]
  },
  {
   "cell_type": "markdown",
   "metadata": {},
   "source": [
    "## Script parameters\n",
    "\n",
    "The following values are this script's parameters."
   ]
  },
  {
   "cell_type": "code",
   "execution_count": 73,
   "metadata": {},
   "outputs": [],
   "source": [
    "filepath = './wifi_data_until_20190204.csv'\n",
    "timezone = pytz.timezone('US/Pacific')"
   ]
  },
  {
   "cell_type": "markdown",
   "metadata": {},
   "source": [
    "## The main dataframe: `occupancy`\n",
    "\n",
    "We'll be mainly working with a single dataframe named `occupancy` created from the csv provided.\n",
    "\n",
    "`occupancy` is a time-series dataframe. Each of its rows represents a point in time. Each of its columns represents a WiFi access point."
   ]
  },
  {
   "cell_type": "code",
   "execution_count": 74,
   "metadata": {},
   "outputs": [
    {
     "name": "stdout",
     "output_type": "stream",
     "text": [
      "\n",
      "    shape: (57772, 612)\n",
      "    index datatype: datetime64[ns, US/Pacific]\n",
      "    na value count: 23958512\n",
      "    \n"
     ]
    }
   ],
   "source": [
    "occupancy: pd.DataFrame = dfm.csv_to_timeseries_df(\n",
    "    filepath=filepath, timezone=timezone\n",
    ")\n",
    "print(dataframe_info(occupancy))"
   ]
  },
  {
   "cell_type": "markdown",
   "metadata": {},
   "source": [
    "These data were acquired through the SNMP protocol, which doesn't record data for moments of 0 connected devices. This means that NA values in our dataframe could represent either 0's or truly missing data.\n",
    "\n",
    "However, the missing data is mostly (if not all) due to the fact that we started and stopped collecting data from different access points at different times. We rarely (if ever) returned to an access point after stopping.\n",
    "\n",
    "This allows us to assume that the first and last uninterrupted streams of NA values are missing data while **intervening NA values** are actually 0's. We will fill these **intervening NA values** with 0."
   ]
  },
  {
   "cell_type": "code",
   "execution_count": 75,
   "metadata": {},
   "outputs": [
    {
     "name": "stdout",
     "output_type": "stream",
     "text": [
      "\n",
      "    shape: (57772, 612)\n",
      "    index datatype: datetime64[ns, US/Pacific]\n",
      "    na value count: 16757722\n",
      "    \n"
     ]
    }
   ],
   "source": [
    "dfm.fill_intervening_nas(\n",
    "    occupancy, inplace=True, fill_val = 0\n",
    ")\n",
    "print(dataframe_info(occupancy))"
   ]
  },
  {
   "cell_type": "markdown",
   "metadata": {},
   "source": [
    "## Occupancy by the hour\n",
    "\n",
    "Let's start by finding out how total connectivity (across all access points) varies by the hour.\n",
    "\n",
    "We'll reduce `data` to the `total_occupancy_vs_time` dataframe. Like `data`, each of its rows represents a point in time. However, it only has one column representing all access points."
   ]
  },
  {
   "cell_type": "code",
   "execution_count": 76,
   "metadata": {},
   "outputs": [
    {
     "name": "stdout",
     "output_type": "stream",
     "text": [
      "\n",
      "    shape: (57772,)\n",
      "    index datatype: datetime64[ns, US/Pacific]\n",
      "    na value count: 0\n",
      "    \n"
     ]
    }
   ],
   "source": [
    "total_occupancy_vs_time = dfm.row_totals(occupancy)\n",
    "\n",
    "print(dataframe_info(\n",
    "    total_occupancy_vs_time\n",
    "))"
   ]
  },
  {
   "cell_type": "markdown",
   "metadata": {},
   "source": [
    "Let's create create 24 boxplots --each representing 1 hour-- which show how the distribution of **occupancy** (as measured by the number of devices connected to access points) *throughout all buildings* varies hour-by-hour."
   ]
  },
  {
   "cell_type": "code",
   "execution_count": 77,
   "metadata": {},
   "outputs": [
    {
     "data": {
      "text/plain": [
       "<matplotlib.axes._subplots.AxesSubplot at 0x1a1b482c50>"
      ]
     },
     "execution_count": 77,
     "metadata": {},
     "output_type": "execute_result"
    },
    {
     "data": {
      "image/png": "[encoded data removed]",
      "text/plain": [
       "<Figure size 1728x1080 with 1 Axes>"
      ]
     },
     "metadata": {
      "needs_background": "light"
     },
     "output_type": "display_data"
    }
   ],
   "source": [
    "fig, ax = plt.subplots(figsize=(24, 15))\n",
    "\n",
    "seaborn.boxplot(\n",
    "    # The hours (a number [0,23]) for each row.\n",
    "    x=total_occupancy_vs_time.index.hour,\n",
    "    # The total occupancy at that hour.\n",
    "    y=total_occupancy_vs_time,\n",
    "    ax=ax\n",
    ")"
   ]
  },
  {
   "cell_type": "markdown",
   "metadata": {},
   "source": [
    "It's immediately clear that measures of occupancy total have strong relationships with the hour of the day. The transitions between hours are smooth (i.e. continuous) and aggressive.\n",
    "\n",
    "The total **peaks around 14:30 (2:30 pm)** and is **lowest around 6:30**.\n",
    "\n",
    "Interestingly, the **interquartile range** (i.e. rectangle length) in occupancy also **peaks around 2:30** and is **lowest around 6:30**. The upper quartile (75th percentile) moves far more aggressively than the lower quartile or median. This may be due to a fixed/stable number of devices which don't vary much throughout the day. These could be public devices (e.g. library computers) or staff devices (e.g. staff phones). It's worth noting that the minimum doesn't change much throughout the day."
   ]
  },
  {
   "cell_type": "code",
   "execution_count": null,
   "metadata": {},
   "outputs": [],
   "source": [
    "def mean_med_per_col(occ: pd.DataFrame) -> pd.DataFrame:\n",
    "    \"\"\"\n",
    "    returns a dataframe whose\n",
    "    1st and 2nd rows hold the mean and median values\n",
    "    for each column in the original dataframe\n",
    "    \"\"\"\n",
    "    return pd.DataFrame.from_dict({\n",
    "        'mean': dfm.column_means(occ),\n",
    "        'median': dfm.column_medians(occ)\n",
    "    }).sort_values(by='median')\n",
    "\n",
    "def plot_mean_med_per_col(mmpc: pd: pd.DataFrame) -> pd.DataFrame:\n",
    "    plt.figure(figsize=(17, 6))\n",
    "    plt.scatter(\n",
    "        list(repeat(range(0, mmpc.shape[0]), 2)),\n",
    "        pd.concat(\n",
    "            [mmpc['mean'], mmpc['median']],\n",
    "            ignore_index=True\n",
    "        ),\n",
    "        c=np.concatenate((\n",
    "            np.tile(np.reshape(np.array([1, 0, 0], dtype=float), (1, 3)), (mmpc.shape[0], 1)),\n",
    "            np.tile(np.reshape(np.array([0, 0, 1], dtype=float), (1, 3)), (mmpc.shape[0], 1))\n",
    "        ), axis=0),\n",
    "        s=2\n",
    "    )\n",
    "    plt.ylabel('connected device count')\n",
    "    plt.xlabel('access points')\n",
    "    plt.show()"
   ]
  },
  {
   "cell_type": "code",
   "execution_count": 78,
   "metadata": {},
   "outputs": [
    {
     "name": "stdout",
     "output_type": "stream",
     "text": [
      "\n",
      "    shape: (612, 3)\n",
      "    index datatype: object\n",
      "    na value count: 0\n",
      "    \n"
     ]
    }
   ],
   "source": [
    "# acpt is short for 'access point'\n",
    "stats_per_acpt: pd.DataFrame = mean_med_percol(occupancy)\n",
    "\n",
    "print(dataframe_info(\n",
    "    stats_per_acpt\n",
    "))"
   ]
  },
  {
   "cell_type": "code",
   "execution_count": 79,
   "metadata": {},
   "outputs": [
    {
     "data": {
      "image/png": "[encoded data removed]",
      "text/plain": [
       "<Figure size 1224x432 with 1 Axes>"
      ]
     },
     "metadata": {
      "needs_background": "light"
     },
     "output_type": "display_data"
    }
   ],
   "source": [
    "plot_mean_med_per_col(stats_per_acpt)"
   ]
  },
  {
   "cell_type": "code",
   "execution_count": 85,
   "metadata": {},
   "outputs": [
    {
     "name": "stdout",
     "output_type": "stream",
     "text": [
      "\n",
      "    shape: (57772, 606)\n",
      "    index datatype: datetime64[ns, US/Pacific]\n",
      "    na value count: 16543332\n",
      "    \n",
      "\n",
      "    shape: (57772, 53)\n",
      "    index datatype: datetime64[ns, US/Pacific]\n",
      "    na value count: 0\n",
      "    \n"
     ]
    }
   ],
   "source": [
    "# Eliminate columns which cannot be placed in a building\n",
    "occ_only_in_buildings = occupancy.loc[\n",
    "    :,\n",
    "    # boolean array for filtering out columns which can't be placed in a building.\n",
    "    misc.col_names_to_in_buildings(\n",
    "        schema=college_specifics.College1AcPtTimeSeries,\n",
    "        col_names=occupancy.columns.to_list(),\n",
    "        buildings=college_specifics.College1AcPtTimeSeries.buildings()\n",
    "    )\n",
    "].copy()\n",
    "print(dataframe_info(occ_only_in_buildings))\n",
    "\n",
    "occ_by_building = occ_only_in_buildings.groupby(\n",
    "    lambda col: college_specifics.College1AcPtTimeSeries.col_to_building(col, safe=True),\n",
    "    axis=1\n",
    ").sum()\n",
    "print(dataframe_info(occ_by_building))"
   ]
  },
  {
   "cell_type": "code",
   "execution_count": null,
   "metadata": {},
   "outputs": [],
   "source": []
  }
 ],
 "metadata": {
  "kernelspec": {
   "display_name": "Python 3",
   "language": "python",
   "name": "python3"
  },
  "language_info": {
   "codemirror_mode": {
    "name": "ipython",
    "version": 3
   },
   "file_extension": ".py",
   "mimetype": "text/x-python",
   "name": "python",
   "nbconvert_exporter": "python",
   "pygments_lexer": "ipython3",
   "version": "3.7.2"
  }
 },
 "nbformat": 4,
 "nbformat_minor": 2
}
