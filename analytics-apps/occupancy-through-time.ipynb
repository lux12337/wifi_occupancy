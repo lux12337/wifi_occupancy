{
 "cells": [
  {
   "cell_type": "markdown",
   "metadata": {},
   "source": [
    "# Occupancy Distribution Through Time.\n",
    "\n",
    "Let's gain some insights about the distribution of occupancy count across time and locations."
   ]
  },
  {
   "cell_type": "markdown",
   "metadata": {},
   "source": [
    "## Script setup"
   ]
  },
  {
   "cell_type": "code",
   "execution_count": 1,
   "metadata": {},
   "outputs": [],
   "source": [
    "# The Python interpreter requires this workaround to\n",
    "# import modules outside of this notebook's directory.\n",
    "import sys\n",
    "sys.path.append(\"..\")"
   ]
  },
  {
   "cell_type": "code",
   "execution_count": 2,
   "metadata": {},
   "outputs": [],
   "source": [
    "# Third-party and standard modules\n",
    "from typing import Optional, Tuple\n",
    "import numpy as np\n",
    "import pandas as pd\n",
    "import seaborn\n",
    "import matplotlib.pyplot as plt\n",
    "import pytz\n",
    "from itertools import repeat\n",
    "from importlib import reload\n",
    "\n",
    "# User-defined modules.\n",
    "# The reload() function is needed to update modules after\n",
    "# changes are made to their files.\n",
    "from modules import dataframe_manip as dfm\n",
    "from modules import misc, schemas, College1AcPtTimeSeries\n",
    "# The reload() function is needed to update modules after\n",
    "# changes are made to their files.\n",
    "dfm = reload(dfm)\n",
    "misc = reload(misc)\n",
    "schemas = reload(schemas)\n",
    "College1AcPtTimeSeries = reload(College1AcPtTimeSeries)"
   ]
  },
  {
   "cell_type": "code",
   "execution_count": 3,
   "metadata": {},
   "outputs": [],
   "source": [
    "def dataframe_info(d: pd.DataFrame) -> str:\n",
    "    \"\"\"A basic function for getting dataframe info.\"\"\"\n",
    "    return \"\"\"\n",
    "    shape: {}\n",
    "    index datatype: {}\n",
    "    na value count: {}\n",
    "    \"\"\".format(\n",
    "        str(d.shape),\n",
    "        d.index.dtype,\n",
    "        d.isna().sum().sum()\n",
    "    )"
   ]
  },
  {
   "cell_type": "markdown",
   "metadata": {},
   "source": [
    "## Script parameters\n",
    "\n",
    "The following values are this script's parameters."
   ]
  },
  {
   "cell_type": "code",
   "execution_count": 4,
   "metadata": {},
   "outputs": [],
   "source": [
    "filepath = './wifi_data_until_20190204.csv'\n",
    "timezone = pytz.timezone('US/Pacific')\n",
    "schema: schemas.AcPtTimeSeries = College1AcPtTimeSeries.College1AcPtTimeSeries"
   ]
  },
  {
   "cell_type": "markdown",
   "metadata": {},
   "source": [
    "## The main dataframe: `occupancy`\n",
    "\n",
    "We'll be mainly working with a single dataframe named `occupancy` created from the csv provided.\n",
    "\n",
    "`occupancy` is a time-series dataframe. Each of its rows represents a point in time. Each of its columns represents a WiFi access point."
   ]
  },
  {
   "cell_type": "code",
   "execution_count": 5,
   "metadata": {},
   "outputs": [
    {
     "name": "stdout",
     "output_type": "stream",
     "text": [
      "\n",
      "    shape: (57772, 612)\n",
      "    index datatype: datetime64[ns, US/Pacific]\n",
      "    na value count: 23958512\n",
      "    \n"
     ]
    }
   ],
   "source": [
    "occupancy: pd.DataFrame = dfm.csv_to_timeseries_df(\n",
    "    filepath=filepath, timezone=timezone\n",
    ")\n",
    "print(dataframe_info(occupancy))"
   ]
  },
  {
   "cell_type": "markdown",
   "metadata": {},
   "source": [
    "These data were acquired through the SNMP protocol, which doesn't record data for moments of 0 connected devices. This means that NA values in our dataframe could represent either 0's or truly missing data.\n",
    "\n",
    "However, the missing data is mostly (if not all) due to the fact that we started and stopped collecting data from different access points at different times. We rarely (if ever) returned to an access point after stopping.\n",
    "\n",
    "This allows us to assume that the first and last uninterrupted streams of NA values are missing data while **intervening NA values** are actually 0's. We will fill these **intervening NA values** with 0."
   ]
  },
  {
   "cell_type": "code",
   "execution_count": 6,
   "metadata": {},
   "outputs": [
    {
     "name": "stdout",
     "output_type": "stream",
     "text": [
      "\n",
      "    shape: (57772, 612)\n",
      "    index datatype: datetime64[ns, US/Pacific]\n",
      "    na value count: 16757722\n",
      "    \n"
     ]
    }
   ],
   "source": [
    "dfm.fill_intervening_nas(\n",
    "    occupancy, inplace=True, fill_val = 0\n",
    ")\n",
    "print(dataframe_info(occupancy))"
   ]
  },
  {
   "cell_type": "markdown",
   "metadata": {},
   "source": [
    "## Occupancy by the hour\n",
    "\n",
    "Let's start by finding out how total connectivity (across all access points) varies by the hour.\n",
    "\n",
    "We'll reduce `data` to the `total_occupancy_vs_time` dataframe. Like `data`, each of its rows represents a point in time. However, it only has one column representing all access points."
   ]
  },
  {
   "cell_type": "code",
   "execution_count": 7,
   "metadata": {},
   "outputs": [
    {
     "name": "stdout",
     "output_type": "stream",
     "text": [
      "\n",
      "    shape: (57772,)\n",
      "    index datatype: datetime64[ns, US/Pacific]\n",
      "    na value count: 0\n",
      "    \n"
     ]
    }
   ],
   "source": [
    "total_occupancy_vs_time = dfm.row_totals(occupancy)\n",
    "\n",
    "print(dataframe_info(\n",
    "    total_occupancy_vs_time\n",
    "))"
   ]
  },
  {
   "cell_type": "markdown",
   "metadata": {},
   "source": [
    "Let's create create 24 boxplots --each representing 1 hour-- which show how the distribution of **occupancy** (as measured by the number of devices connected to access points) *throughout all buildings* varies hour-by-hour."
   ]
  },
  {
   "cell_type": "code",
   "execution_count": 8,
   "metadata": {},
   "outputs": [
    {
     "data": {
      "text/plain": [
       "<matplotlib.axes._subplots.AxesSubplot at 0x7f6f5e89a390>"
      ]
     },
     "execution_count": 8,
     "metadata": {},
     "output_type": "execute_result"
    },
    {
     "data": {
      "image/png": "[encoded data removed]",
      "text/plain": [
       "<Figure size 1728x1080 with 1 Axes>"
      ]
     },
     "metadata": {
      "needs_background": "light"
     },
     "output_type": "display_data"
    }
   ],
   "source": [
    "fig, ax = plt.subplots(figsize=(24, 15))\n",
    "\n",
    "seaborn.boxplot(\n",
    "    # The hours (a number [0,23]) for each row.\n",
    "    x=total_occupancy_vs_time.index.hour,\n",
    "    # The total occupancy at that hour.\n",
    "    y=total_occupancy_vs_time,\n",
    "    ax=ax\n",
    ")"
   ]
  },
  {
   "cell_type": "markdown",
   "metadata": {},
   "source": [
    "It's immediately clear that measures of occupancy total have strong relationships with the hour of the day. The transitions between hours are smooth (i.e. continuous) and aggressive.\n",
    "\n",
    "The total **peaks around 14:30 (2:30 pm)** and is **lowest around 6:30**.\n",
    "\n",
    "Interestingly, the **interquartile range** (i.e. rectangle length) in occupancy also **peaks around 2:30** and is **lowest around 6:30**. The upper quartile (75th percentile) moves far more aggressively than the lower quartile or median. This may be due to a fixed/stable number of devices which don't vary much throughout the day. These could be public devices (e.g. library computers) or staff devices (e.g. staff phones). It's worth noting that the minimum doesn't change much throughout the day."
   ]
  },
  {
   "cell_type": "markdown",
   "metadata": {},
   "source": [
    "## Means and Medians\n",
    "\n",
    "Let's get mean and medians for all access points and for each building"
   ]
  },
  {
   "cell_type": "code",
   "execution_count": 9,
   "metadata": {},
   "outputs": [],
   "source": [
    "# We'll be using these two functions repeatedly to create the charts.\n",
    "def mean_med_per_col(occ: pd.DataFrame) -> pd.DataFrame:\n",
    "    \"\"\"\n",
    "    returns a dataframe whose\n",
    "    1st and 2nd rows hold the mean and median values\n",
    "    for each column in the original dataframe.\n",
    "    \"\"\"\n",
    "    return pd.DataFrame.from_dict({\n",
    "        'mean': dfm.column_means(occ),\n",
    "        'median': dfm.column_medians(occ)\n",
    "    }).sort_values(by='median')\n",
    "\n",
    "def plot_mean_med_per_col(\n",
    "    mmpc: pd.DataFrame, dot_size: int = 2,\n",
    "    figsize: Tuple[int, int] = (12, 6)\n",
    ") -> pd.DataFrame:\n",
    "    \"\"\"\n",
    "    Plot the mean and median occupancy counts in mmpc (created by mean_med_per_col)\n",
    "    with mean as red and median as blue.\n",
    "    \"\"\"\n",
    "    plt.figure(figsize=figsize)\n",
    "    plt.scatter(\n",
    "        list(repeat(range(0, mmpc.shape[0]), 2)),\n",
    "        pd.concat(\n",
    "            [mmpc['mean'], mmpc['median']],\n",
    "            ignore_index=True\n",
    "        ),\n",
    "        c=np.concatenate((\n",
    "            # mean = red\n",
    "            np.tile(np.reshape(np.array([1, 0, 0], dtype=float), (1, 3)), (mmpc.shape[0], 1)),\n",
    "            # median = blue\n",
    "            np.tile(np.reshape(np.array([0, 0, 1], dtype=float), (1, 3)), (mmpc.shape[0], 1))\n",
    "        ), axis=0),\n",
    "        s=dot_size\n",
    "    )\n",
    "    plt.ylabel('connected device count')\n",
    "    plt.xlabel('access points')\n",
    "    plt.show()"
   ]
  },
  {
   "cell_type": "code",
   "execution_count": 10,
   "metadata": {},
   "outputs": [
    {
     "name": "stdout",
     "output_type": "stream",
     "text": [
      "\n",
      "    shape: (612, 2)\n",
      "    index datatype: object\n",
      "    na value count: 0\n",
      "    \n"
     ]
    }
   ],
   "source": [
    "# acpt is short for 'access point'\n",
    "stats_per_acpt: pd.DataFrame = mean_med_per_col(occupancy)\n",
    "\n",
    "print(dataframe_info(\n",
    "    stats_per_acpt\n",
    "))"
   ]
  },
  {
   "cell_type": "code",
   "execution_count": 11,
   "metadata": {},
   "outputs": [
    {
     "data": {
      "image/png": "[encoded data removed]",
      "text/plain": [
       "<Figure size 864x432 with 1 Axes>"
      ]
     },
     "metadata": {
      "needs_background": "light"
     },
     "output_type": "display_data"
    }
   ],
   "source": [
    "plot_mean_med_per_col(stats_per_acpt)"
   ]
  },
  {
   "cell_type": "code",
   "execution_count": 12,
   "metadata": {},
   "outputs": [
    {
     "name": "stdout",
     "output_type": "stream",
     "text": [
      "\n",
      "    shape: (57772, 606)\n",
      "    index datatype: datetime64[ns, US/Pacific]\n",
      "    na value count: 16543332\n",
      "    \n",
      "\n",
      "    shape: (57772, 51)\n",
      "    index datatype: datetime64[ns, US/Pacific]\n",
      "    na value count: 0\n",
      "    \n"
     ]
    }
   ],
   "source": [
    "# Eliminate columns which cannot be placed in a building\n",
    "occ_only_in_buildings = occupancy.loc[\n",
    "    :,\n",
    "    # boolean array for filtering out columns which can't be placed in a building.\n",
    "    misc.cols_to_in_buildings(\n",
    "        schema=schema,\n",
    "        cols=occupancy.columns.to_list(),\n",
    "        buildings=schema.buildings()\n",
    "    )\n",
    "].copy()\n",
    "print(dataframe_info(occ_only_in_buildings))\n",
    "\n",
    "occ_by_building = occ_only_in_buildings.groupby(\n",
    "    by=schema.col_to_building,\n",
    "    axis=1\n",
    ").sum()\n",
    "print(dataframe_info(occ_by_building))"
   ]
  },
  {
   "cell_type": "code",
   "execution_count": 13,
   "metadata": {},
   "outputs": [
    {
     "data": {
      "image/png": "[encoded data removed]",
      "text/plain": [
       "<Figure size 864x432 with 1 Axes>"
      ]
     },
     "metadata": {
      "needs_background": "light"
     },
     "output_type": "display_data"
    },
    {
     "name": "stdout",
     "output_type": "stream",
     "text": [
      "                  mean  median\n",
      "118-8TH       1.426954     0.0\n",
      "ITB           8.654608     0.0\n",
      "MCCARTHY      1.772468     0.0\n",
      "HAHN          6.889202     0.0\n",
      "NORTON        2.802828     0.0\n",
      "OLDENBORG     2.987330     0.0\n",
      "POMONA       10.316434     0.0\n",
      "KENYON        3.009191     0.0\n",
      "SCC          11.458544     0.0\n",
      "WALTON        0.727654     0.0\n",
      "SUMNER        8.454165     0.0\n",
      "345C          0.902669     0.0\n",
      "1567TH        0.880340     0.0\n",
      "SMILEY        0.083293     0.0\n",
      "BRACKETT      1.796458     1.0\n",
      "SMITH        17.228450     2.0\n",
      "SONTAG       11.887350     2.0\n",
      "BALDWIN       5.696497     3.0\n",
      "REMBRANDT     6.828221     4.0\n",
      "MERRIT       15.212802     4.0\n",
      "DRAPER       10.036731     4.0\n",
      "FARM         13.840251     5.0\n",
      "FRANK        26.021464     5.0\n",
      "STUDIOART    14.980700     7.0\n",
      "LEBUS        12.864917     8.0\n",
      "BRIDGES      17.611178     8.0\n",
      "MUSEUM       11.876515     9.0\n",
      "GROUNDS      11.499671     9.0\n",
      "PAULEY       14.496278    10.0\n",
      "CROOKSHANK   19.733279    11.0\n",
      "GIBONEY      60.015509    12.0\n",
      "SGM          23.383629    12.0\n",
      "THATCHER     39.979004    15.0\n",
      "FRARY        58.219951    15.0\n",
      "HALDEMAN     31.212317    16.0\n",
      "ALEXANDER    28.708527    18.0\n",
      "PEARSON      44.564668    18.0\n",
      "WIG          34.024943    22.0\n",
      "ANDREW       23.150644    23.0\n",
      "CARNEGIE     51.257391    23.0\n",
      "LAWRY        39.407412    24.0\n",
      "HARWOOD      39.254050    26.0\n",
      "MASON        59.389168    27.0\n",
      "PENDLETON    38.832029    28.0\n",
      "GIBSON       43.104843    28.0\n",
      "WALKER      118.253133    35.0\n",
      "CLARK        51.396109    43.0\n",
      "RAINS        84.635792    58.0\n",
      "MILLIKAN    101.928512    75.0\n",
      "LEB         141.017292    93.0\n",
      "SEAVER      168.248529   118.0\n"
     ]
    }
   ],
   "source": [
    "mean_med_per_building = mean_med_per_col(occ_by_building)\n",
    "plot_mean_med_per_col(mean_med_per_building, dot_size=40)\n",
    "\n",
    "print(mean_med_per_building)"
   ]
  }
 ],
 "metadata": {
  "kernelspec": {
   "display_name": "Python 3",
   "language": "python",
   "name": "python3"
  },
  "language_info": {
   "codemirror_mode": {
    "name": "ipython",
    "version": 3
   },
   "file_extension": ".py",
   "mimetype": "text/x-python",
   "name": "python",
   "nbconvert_exporter": "python",
   "pygments_lexer": "ipython3",
   "version": "3.7.2"
  }
 },
 "nbformat": 4,
 "nbformat_minor": 2
}
