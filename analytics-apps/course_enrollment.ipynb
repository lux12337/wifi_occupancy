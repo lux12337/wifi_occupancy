{
 "cells": [
  {
   "cell_type": "markdown",
   "metadata": {},
   "source": [
    "# Course Enrollment"
   ]
  },
  {
   "cell_type": "markdown",
   "metadata": {},
   "source": [
    "## This notebook will allow us to visualize how many people are enrolled in classes for each day in the week"
   ]
  },
  {
   "cell_type": "code",
   "execution_count": null,
   "metadata": {},
   "outputs": [],
   "source": [
    "import numpy as np\n",
    "import matplotlib.pyplot as plt\n",
    "import seaborn as sns; sns.set(style=\"whitegrid\")\n",
    "import pandas as pd\n",
    "from pandas.tseries.holiday import USFederalHolidayCalendar as calendar\n",
    "import pytz #timezone\n",
    "import sys\n",
    "sys.path.insert(0, '..')"
   ]
  },
  {
   "cell_type": "markdown",
   "metadata": {},
   "source": [
    "### The file provided to us is Hahn_Loop_Course_Dates_with_enrollments.csv\n",
    "### This is for Fall Semester of 2018"
   ]
  },
  {
   "cell_type": "code",
   "execution_count": null,
   "metadata": {},
   "outputs": [],
   "source": [
    "filepath = './Hahn_Loop_Course_Dates_with_enrollments.csv'\n",
    "df = pd.read_csv(filepath)\n",
    "#df"
   ]
  },
  {
   "cell_type": "code",
   "execution_count": null,
   "metadata": {},
   "outputs": [],
   "source": [
    "# Keep only the columns we care about\n",
    "df = df[['Days','Start Time', 'End Time', 'Actual Enroll']]"
   ]
  },
  {
   "cell_type": "code",
   "execution_count": null,
   "metadata": {},
   "outputs": [],
   "source": [
    "# Convert to datetime type, only looking at the hours\n",
    "df['End Time'] = pd.to_datetime(df['End Time']).dt.time\n",
    "df['Start Time'] = pd.to_datetime(df['Start Time']).dt.time"
   ]
  },
  {
   "cell_type": "code",
   "execution_count": null,
   "metadata": {},
   "outputs": [],
   "source": [
    "# slice the datetime to get the hour and minutes and save them in a new column\n",
    "df[['start_h','start_m']] = pd.DataFrame([(x.hour, x.minute) for x in df['Start Time']])\n",
    "df[['end_h','end_m']] = pd.DataFrame([(x.hour, x.minute) for x in df['End Time']])\n",
    "#df"
   ]
  },
  {
   "cell_type": "code",
   "execution_count": null,
   "metadata": {},
   "outputs": [],
   "source": [
    "# get the floor of the start time\n",
    "# get the ceiling of the end time\n",
    "for i, row in df.iterrows():\n",
    "    df.at[i,'Start Time Hours'] = df.at[i,'start_h']\n",
    "    \n",
    "    if(df.at[i,'end_m'] > 0):\n",
    "        df.at[i,'End Time Hours'] = df.at[i,'end_h'] + 1\n",
    "    else:\n",
    "        df.at[i,'End Time Hours'] = df.at[i,'end_h']"
   ]
  },
  {
   "cell_type": "code",
   "execution_count": null,
   "metadata": {},
   "outputs": [],
   "source": [
    "df = df[['Days','Start Time Hours', 'End Time Hours', 'Actual Enroll']]\n"
   ]
  },
  {
   "cell_type": "code",
   "execution_count": null,
   "metadata": {},
   "outputs": [],
   "source": [
    "#create a array of 24 numbers to represent the hours in a day\n",
    "hours=[]\n",
    "for i in range(0,24):\n",
    "    hours.append(i)"
   ]
  },
  {
   "cell_type": "code",
   "execution_count": null,
   "metadata": {},
   "outputs": [],
   "source": [
    "#create 5 dictionaries, one for each day in the week\n",
    "dict_hour = dict((elemt,0) for elemt in hours)\n",
    "Mon_dict_hour = dict((elemt,0) for elemt in hours)\n",
    "Tues_dict_hour = dict((elemt,0) for elemt in hours)\n",
    "Wed_dict_hour = dict((elemt,0) for elemt in hours)\n",
    "Thurs_dict_hour = dict((elemt,0) for elemt in hours)\n",
    "Fri_dict_hour = dict((elemt,0) for elemt in hours)"
   ]
  },
  {
   "cell_type": "code",
   "execution_count": null,
   "metadata": {},
   "outputs": [],
   "source": [
    "for i, row in df.iterrows():\n",
    "    length = int(df.at[i,'End Time Hours'] - df.at[i,'Start Time Hours'])\n",
    "    time = int(df.at[i,'Start Time Hours'])\n",
    "    \n",
    "    for j in range(0,length):\n",
    "        if \"M\" in df.at[i, 'Days']:\n",
    "            Mon_dict_hour[time+j] += df.at[i,'Actual Enroll']\n",
    "        if \"T\" in df.at[i, 'Days']:\n",
    "            Tues_dict_hour[time+j] += df.at[i,'Actual Enroll']\n",
    "        if \"W\" in df.at[i, 'Days']:\n",
    "            Wed_dict_hour[time+j] += df.at[i,'Actual Enroll']\n",
    "        if \"R\" in df.at[i, 'Days']:\n",
    "            Thurs_dict_hour[time+j] += df.at[i,'Actual Enroll']\n",
    "        if \"F\" in df.at[i, 'Days']:\n",
    "            Fri_dict_hour[time+j] += df.at[i,'Actual Enroll']\n",
    "        dict_hour[time+j] += df.at[i,'Actual Enroll']"
   ]
  },
  {
   "cell_type": "code",
   "execution_count": null,
   "metadata": {
    "scrolled": true
   },
   "outputs": [],
   "source": [
    "# display the values of one of the dictionaries \n",
    "Wed_dict_hour"
   ]
  },
  {
   "cell_type": "code",
   "execution_count": null,
   "metadata": {
    "scrolled": false
   },
   "outputs": [],
   "source": [
    "#graph plots for each day\n",
    "\n",
    "#store the dictionaries in a array so we can easily loop through them\n",
    "all_days = [Mon_dict_hour, Tues_dict_hour, Wed_dict_hour, Thurs_dict_hour, Fri_dict_hour]\n",
    "\n",
    "#name of the graphs\n",
    "all_days_names = [\"Monday\", \"Tuesday\", \"Wednesday\", \"Thursday\", \"Friday\"]\n",
    "\n",
    "#convert the keys of a dictionary to a list\n",
    "hours24 = list(Mon_dict_hour.keys())\n",
    "\n",
    "for i in range(0,5):\n",
    "    #fig, ax = plt.subplots(figsize=(24, 15))\n",
    "    fig, ax = plt.subplots(figsize=(8, 5))\n",
    "    ax.set_ylim(0,900)\n",
    "    ax.set_title(all_days_names[i])\n",
    "    ax.set_xlabel('Hour of the day')\n",
    "    ax.set_ylabel('Number of Enrolled students')\n",
    "    \n",
    "    #convert the values of the dictionaries to a list\n",
    "    total_enrollment = list(all_days[i].values())\n",
    "    \n",
    "    sns.barplot(\n",
    "        # The hours (a number [0,23]) for each row.\n",
    "        x= hours24,\n",
    "        # The total enrollment at that hour.\n",
    "        y= total_enrollment,\n",
    "        ax=ax\n",
    "    )\n",
    "    \n",
    "    #export each graph to a png\n",
    "    plt.savefig('./{}.png'.format(all_days_names[i]))"
   ]
  }
 ],
 "metadata": {
  "kernelspec": {
   "display_name": "Python 3",
   "language": "python",
   "name": "python3"
  },
  "language_info": {
   "codemirror_mode": {
    "name": "ipython",
    "version": 3
   },
   "file_extension": ".py",
   "mimetype": "text/x-python",
   "name": "python",
   "nbconvert_exporter": "python",
   "pygments_lexer": "ipython3",
   "version": "3.7.2"
  }
 },
 "nbformat": 4,
 "nbformat_minor": 2
}
