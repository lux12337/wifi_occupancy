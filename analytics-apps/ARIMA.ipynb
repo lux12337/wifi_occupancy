{
 "cells": [
  {
   "cell_type": "code",
   "execution_count": 3,
   "metadata": {},
   "outputs": [],
   "source": [
    "# ARIMA used for short term forecast\n",
    "\n",
    "import numpy as np\n",
    "import matplotlib.pyplot as plt\n",
    "import seaborn as sns; sns.set(style=\"whitegrid\")\n",
    "import pandas as pd\n",
    "\n",
    "from statsmodels.tsa.arima_model import ARIMA\n",
    "from pandas.plotting import autocorrelation_plot\n",
    "from datetime import datetime, timedelta\n",
    "\n",
    "from modules import dataframe_manip as hp"
   ]
  },
  {
   "cell_type": "code",
   "execution_count": 4,
   "metadata": {},
   "outputs": [],
   "source": [
    "# FUNCTIONS\n",
    "\n",
    "def hour_rounder(t):\n",
    "    # Rounds to nearest hour by adding a timedelta hour if minute >= 30\n",
    "    return (t.replace(second=0, microsecond=0, minute=0, hour=t.hour)\n",
    "               +timedelta(hours=t.minute//30))\n",
    "\n",
    "def prepare_byHour_df_for_ARIMA(name, data):\n",
    "    \"\"\"\n",
    "    Takes a name of a building and finds the\n",
    "    total average of devices in the building\n",
    "    at the time. Returns a pd.Series\n",
    "    \n",
    "    Note: 1st column is the time (doesn't change\n",
    "    from original table). 2nd column is total\n",
    "    devices at the moment\n",
    "    \"\"\"\n",
    "    building_ap = hp.get_building_accesspoints(data.columns, name)\n",
    "    ret_df = pd.DataFrame(columns = ['time','total'])\n",
    "    \n",
    "    ret_df['time'] = pd.to_datetime(\n",
    "        data['time'].apply(hour_rounder),\n",
    "        infer_datetime_format=True,\n",
    "        utc=True\n",
    "    )\n",
    "    \n",
    "    ret_df['total'] = data[building_ap].fillna(0).sum(axis=1)\n",
    "\n",
    "    ret_df = ret_df.set_index('time')\n",
    "    \n",
    "    # !!!!!!! Must exclusively assign !!!!!!!!!!\n",
    "    # FInd groupby by one hour, assign to var, use resample\n",
    "    # Predict for the far future & predict for near furture\n",
    "    #   Which is the near future\n",
    "    # State clearly what are the conditions\n",
    "    ret_df = ret_df.groupby(['time']).mean() \n",
    "    \n",
    "    ret_df.index.freq = ret_df.index.inferred_freq\n",
    "    \n",
    "    return ret_df\n",
    "\n",
    "def split_train_test_average_to_hour(data, percent):\n",
    "    \"\"\"\n",
    "    Takes a dataframe with a DatetimeIndex and averages\n",
    "    and splits them depending on the given percent.\n",
    "    The percent defines the length of train set.\n",
    "    Returns tuple of train then test\n",
    "    \"\"\"\n",
    "    train_size = int(len(data) * percent)\n",
    "    train_ret, test_ret = data[0:train_size],data[train_size:len(data)]\n",
    "\n",
    "    #train_ret = train.groupby(train.index.hour).mean()\n",
    "    #test_ret = test.groupby(test.index.hour).mean()\n",
    "    \n",
    "    return train_ret,test_ret"
   ]
  },
  {
   "cell_type": "code",
   "execution_count": 5,
   "metadata": {},
   "outputs": [],
   "source": [
    "# invert differenced value\n",
    "def inverse_difference(history, yhat, interval=1):\n",
    "    return yhat + history[-interval]\n",
    "\n",
    "def rm_extra_array(arr):\n",
    "    ret = []\n",
    "    for i in arr:\n",
    "        ret.append(i[0])\n",
    "    return ret\n",
    "\n",
    "def forecast_oneStep_outOfSample_ARIMA(df,p_arima,d_arima,q_arima):\n",
    "    model = ARIMA(df,order=(p_arima,d_arima,q_arima))\n",
    "    model_fit = model.fit(disp=0)\n",
    "    forecast = model_fit.forecast()[0]\n",
    "    return forecast[0]\n",
    "    \n",
    "def forecast_multiStep_outOfSample_ARIMA(df,step,p_arima,d_arima,q_arima):\n",
    "    model = ARIMA(df,order=(p_arima,d_arima,q_arima))\n",
    "    model_fit = model.fit(disp=0)\n",
    "    forecast = model_fit.forecast(steps=step)[0]\n",
    "    \n",
    "    history = rm_extra_array([x for x in df.values])\n",
    "    \n",
    "    #print(forecast)\n",
    "    ret = []\n",
    "    for y in forecast:\n",
    "        #print(\"y: \"+str(y))\n",
    "        i = inverse_difference(history, y, 24)\n",
    "        history.append(i)\n",
    "        ret.append(i)\n",
    "\n",
    "    return ret"
   ]
  },
  {
   "cell_type": "code",
   "execution_count": 6,
   "metadata": {},
   "outputs": [],
   "source": [
    "# POSSIBLE INPUT\n",
    "filename = 'wifi_data_until_20190204.csv'\n",
    "building_name = 'CLARK'\n",
    "p_arima = 5\n",
    "d_arima = 1\n",
    "q_arima = 0"
   ]
  },
  {
   "cell_type": "code",
   "execution_count": 7,
   "metadata": {},
   "outputs": [],
   "source": [
    "# Get data from csv  file; Try not to modify it!!!\n",
    "wifi_df = pd.read_csv(\n",
    "    filename,\n",
    "    infer_datetime_format=True,\n",
    "    header=0,\n",
    "    parse_dates=[0],\n",
    "    #squeeze=True,\n",
    "    index_col=False\n",
    ")"
   ]
  },
  {
   "cell_type": "code",
   "execution_count": 8,
   "metadata": {},
   "outputs": [],
   "source": [
    "# Gets a Series object that represents number of devices\n",
    "# connected based on time every hour\n",
    "building_time_df = prepare_byHour_df_for_ARIMA(\n",
    "    building_name, wifi_df)"
   ]
  },
  {
   "cell_type": "code",
   "execution_count": 9,
   "metadata": {},
   "outputs": [],
   "source": [
    "# Separated training set from testing set\n",
    "# Only getting one month because its a hella a lot of data\n",
    "train_hour_df, test_hour_df = split_train_test_average_to_hour(building_time_df, 0.66)"
   ]
  },
  {
   "cell_type": "code",
   "execution_count": 10,
   "metadata": {},
   "outputs": [
    {
     "data": {
      "text/plain": [
       "59.48269796127954"
      ]
     },
     "execution_count": 10,
     "metadata": {},
     "output_type": "execute_result"
    }
   ],
   "source": [
    "forecast_oneStep_outOfSample_ARIMA(train_hour_df,p_arima,d_arima,q_arima)"
   ]
  },
  {
   "cell_type": "code",
   "execution_count": 11,
   "metadata": {},
   "outputs": [
    {
     "data": {
      "text/plain": [
       "[93.3993646279462,\n",
       " 87.45715131986725,\n",
       " 82.5791965566519,\n",
       " 81.75759881482632,\n",
       " 98.08560740862616,\n",
       " 123.04517983219,\n",
       " 126.79497037407538,\n",
       " 143.5149733266647,\n",
       " 173.17230089500129,\n",
       " 198.2622863035361]"
      ]
     },
     "execution_count": 11,
     "metadata": {},
     "output_type": "execute_result"
    }
   ],
   "source": [
    "forecast_multiStep_outOfSample_ARIMA(train_hour_df,10,p_arima,d_arima,q_arima)"
   ]
  }
 ],
 "metadata": {
  "kernelspec": {
   "display_name": "Python 3",
   "language": "python",
   "name": "python3"
  },
  "language_info": {
   "codemirror_mode": {
    "name": "ipython",
    "version": 3
   },
   "file_extension": ".py",
   "mimetype": "text/x-python",
   "name": "python",
   "nbconvert_exporter": "python",
   "pygments_lexer": "ipython3",
   "version": "3.6.7"
  }
 },
 "nbformat": 4,
 "nbformat_minor": 2
}
