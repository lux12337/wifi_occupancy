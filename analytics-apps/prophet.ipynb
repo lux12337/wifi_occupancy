{
 "cells": [
  {
   "cell_type": "code",
   "execution_count": null,
   "metadata": {},
   "outputs": [],
   "source": [
    "import pandas as pd\n",
    "import numpy as np\n",
    "from modules import dataframe_manip as hp\n",
    "from fbprophet import Prophet\n",
    "import pytz\n",
    "import warnings\n",
    "warnings.filterwarnings('ignore')\n",
    "from IPython.display import Markdown, display\n",
    "\n",
    "%matplotlib notebook\n",
    "import matplotlib.pyplot as plt\n",
    "\n",
    "from IPython.display import display, clear_output\n",
    "import ipywidgets as widgets"
   ]
  },
  {
   "cell_type": "code",
   "execution_count": null,
   "metadata": {},
   "outputs": [],
   "source": [
    "def printmd(string):\n",
    "    display(Markdown(string))"
   ]
  },
  {
   "cell_type": "code",
   "execution_count": null,
   "metadata": {},
   "outputs": [],
   "source": [
    "building_list = [\n",
    "    'POMONA','118-8TH','1567TH','345C','ALEXANDER','ANDREW','BALDWIN',\n",
    "    'BRACKETT','BRIDGES','CARNEGIE','CLARK3','CLARKI','CLARKV',\n",
    "    'CROOKSHANK','DRAPER', 'FARM', 'FRANK', 'FRARY', 'GIBONEY',\n",
    "    'GIBSON', 'GROUNDS', 'HAHN', 'HALDEMAN','HARWOOD','ITB',\n",
    "    'KENYON', 'LAWRY', 'LEB', 'LEBUS', 'MASON', 'MCCARTHY', 'MERRIT',\n",
    "    'MILLIKAN', 'MUSEUM', 'NORTON', 'OLDENBORG','PAULEY','PEARSON',\n",
    "    'PENDLETON','POMONA','RAINS','REMBRANDT', 'SCC', 'SEAVER','SGM',\n",
    "    'SMILEY','SMITH','SONTAG','STUDIOART','SUMNER','THATCHER','WALKER',\n",
    "    'WALTON','WIG']"
   ]
  },
  {
   "cell_type": "code",
   "execution_count": null,
   "metadata": {},
   "outputs": [],
   "source": [
    "w = widgets.Dropdown(\n",
    "    options=building_list,\n",
    "    value = building_list[0],\n",
    "    description='List',\n",
    ")"
   ]
  },
  {
   "cell_type": "code",
   "execution_count": null,
   "metadata": {},
   "outputs": [],
   "source": [
    "data = hp.csv_to_timeseries_df(filepath='wifi_data_until_20190204.csv', timezone=pytz.timezone('US/Pacific'))"
   ]
  },
  {
   "cell_type": "code",
   "execution_count": null,
   "metadata": {},
   "outputs": [],
   "source": [
    "def prophet_forecast(change):\n",
    "    if change['name'] == 'value' and (change['new'] != change['old']):\n",
    "        clear_output()\n",
    "        display(w)\n",
    "        \n",
    "        # Get time series data for a building\n",
    "        building_data = hp.get_daily_average(data, change['new'])\n",
    "\n",
    "        # Train a Prophet model\n",
    "        m = Prophet(yearly_seasonality=True, daily_seasonality=True)\n",
    "        m.fit(building_data)\n",
    "\n",
    "        # Forecast n future values\n",
    "        future = m.make_future_dataframe(periods=7)\n",
    "        forecast = m.predict(future)\n",
    "\n",
    "        # Plot forecast and additional information\n",
    "        m.plot(forecast, xlabel='Building')\n",
    "        m.plot_components(forecast)"
   ]
  },
  {
   "cell_type": "code",
   "execution_count": null,
   "metadata": {},
   "outputs": [],
   "source": [
    "display(w)\n",
    "w.observe(prophet_forecast)"
   ]
  },
  {
   "cell_type": "code",
   "execution_count": null,
   "metadata": {},
   "outputs": [],
   "source": []
  }
 ],
 "metadata": {
  "kernelspec": {
   "display_name": "Python 3",
   "language": "python",
   "name": "python3"
  },
  "language_info": {
   "codemirror_mode": {
    "name": "ipython",
    "version": 3
   },
   "file_extension": ".py",
   "mimetype": "text/x-python",
   "name": "python",
   "nbconvert_exporter": "python",
   "pygments_lexer": "ipython3",
   "version": "3.6.7"
  }
 },
 "nbformat": 4,
 "nbformat_minor": 2
}
