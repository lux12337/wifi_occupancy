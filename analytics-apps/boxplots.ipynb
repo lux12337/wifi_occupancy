{
 "cells": [
  {
   "cell_type": "markdown",
   "metadata": {},
   "source": [
    "# Boxplots"
   ]
  },
  {
   "cell_type": "markdown",
   "metadata": {},
   "source": [
    "## Script setup"
   ]
  },
  {
   "cell_type": "code",
   "execution_count": 3,
   "metadata": {},
   "outputs": [],
   "source": [
    "# Third-party and standard modules\n",
    "from typing import Optional\n",
    "import numpy as np\n",
    "import pandas as pd\n",
    "import seaborn\n",
    "import matplotlib.pyplot as plt\n",
    "import pytz\n",
    "from itertools import repeat\n",
    "from importlib import reload\n",
    "\n",
    "# User-defined modules.\n",
    "# The reload() function is needed to update modules after\n",
    "# changes are made to their files.\n",
    "from modules import dataframe_manip as dfm\n",
    "from modules import misc, schemas, College1AcPtTimeSeries\n",
    "# The reload() function is needed to update modules after\n",
    "# changes are made to their files.\n",
    "dfm = reload(dfm)\n",
    "misc = reload(misc)\n",
    "schemas = reload(schemas)\n",
    "College1AcPtTimeSeries = reload(College1AcPtTimeSeries)"
   ]
  },
  {
   "cell_type": "markdown",
   "metadata": {},
   "source": [
    "## Script parameters\n",
    "\n",
    "The following values are this script's parameters."
   ]
  },
  {
   "cell_type": "code",
   "execution_count": 4,
   "metadata": {},
   "outputs": [],
   "source": [
    "filepath = 'cisco_wifi_data_until_20190513.csv'\n",
    "timezone = pytz.timezone('US/Pacific')\n",
    "schema: schemas.AcPtTimeSeries =\\\n",
    "    College1AcPtTimeSeries.College1AcPtTimeSeries\n",
    "buildings = [\n",
    "    'SCC', 'HAHN', 'CROOKSHANK', 'THATHCHER', 'CLARK',\n",
    "    'CARNEGIE', 'MASON', 'PEARSON', 'ALEXANDER', 'ITB'\n",
    "]"
   ]
  },
  {
   "cell_type": "markdown",
   "metadata": {},
   "source": [
    "## Data Processing"
   ]
  },
  {
   "cell_type": "code",
   "execution_count": 16,
   "metadata": {},
   "outputs": [],
   "source": [
    "# A time-series dataframe holding occupancy counts\n",
    "# for many access points (columns).\n",
    "occ: pd.DataFrame = dfm.csv_to_timeseries_df(\n",
    "    filepath=filepath, timezone=timezone\n",
    ")\n",
    "\n",
    "# Eliminate unnecessary columns.\n",
    "occ.drop(columns=list(filter(\n",
    "    # add to drop-list if NOT in the buildings we want.\n",
    "    lambda col: schema.col_to_building(col, safe=True) not in buildings,\n",
    "    occ.columns.to_list()\n",
    ")))\n",
    "\n",
    "occ = dfm.fill_intervening_nas(\n",
    "    occ, inplace=False, fill_val=0\n",
    ")"
   ]
  },
  {
   "cell_type": "code",
   "execution_count": null,
   "metadata": {},
   "outputs": [],
   "source": [
    "occ_bybuild = occ.groupby(\n",
    "    by=lambda,\n",
    "    axis=1\n",
    ")"
   ]
  }
 ],
 "metadata": {
  "kernelspec": {
   "display_name": "Python 3",
   "language": "python",
   "name": "python3"
  },
  "language_info": {
   "codemirror_mode": {
    "name": "ipython",
    "version": 3
   },
   "file_extension": ".py",
   "mimetype": "text/x-python",
   "name": "python",
   "nbconvert_exporter": "python",
   "pygments_lexer": "ipython3",
   "version": "3.7.2"
  }
 },
 "nbformat": 4,
 "nbformat_minor": 2
}
