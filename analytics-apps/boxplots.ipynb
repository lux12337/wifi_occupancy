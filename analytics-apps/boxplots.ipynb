{
 "cells": [
  {
   "cell_type": "markdown",
   "metadata": {},
   "source": [
    "# Boxplots"
   ]
  },
  {
   "cell_type": "markdown",
   "metadata": {},
   "source": [
    "## Script setup"
   ]
  },
  {
   "cell_type": "code",
   "execution_count": null,
   "metadata": {},
   "outputs": [],
   "source": [
    "# Third-party and standard modules\n",
    "from typing import Dict, Hashable, Union, Tuple\n",
    "import pandas as pd\n",
    "import seaborn\n",
    "import matplotlib.pyplot as plt\n",
    "import pytz\n",
    "from collections import defaultdict\n",
    "from numpy import NINF\n",
    "from importlib import reload\n",
    "\n",
    "# User-defined modules.\n",
    "from modules import dataframe_manip as dfm\n",
    "from modules import misc, schemas, College1AcPtTimeSeries\n",
    "# The reload() function is used to update modules after\n",
    "# changes are made to their files.\n",
    "dfm = reload(dfm)\n",
    "misc = reload(misc)\n",
    "schemas = reload(schemas)\n",
    "College1AcPtTimeSeries = reload(College1AcPtTimeSeries)"
   ]
  },
  {
   "cell_type": "markdown",
   "metadata": {},
   "source": [
    "## Script parameters\n",
    "\n",
    "The following values are this script's parameters."
   ]
  },
  {
   "cell_type": "code",
   "execution_count": null,
   "metadata": {},
   "outputs": [],
   "source": [
    "filepath = './cisco_wifi_data_until_20190513.csv'\n",
    "timezone = pytz.timezone('US/Pacific')\n",
    "schema: schemas.AcPtTimeSeries =\\\n",
    "    College1AcPtTimeSeries.College1AcPtTimeSeries\n",
    "buildings = [\n",
    "    'SCC', 'HAHN', 'CROOKSHANK', 'THATHCHER', 'CLARK',\n",
    "    'CARNEGIE', 'MASON', 'PEARSON', 'ALEXANDER', 'ITB'\n",
    "]"
   ]
  },
  {
   "cell_type": "markdown",
   "metadata": {},
   "source": [
    "## Data Processing"
   ]
  },
  {
   "cell_type": "code",
   "execution_count": null,
   "metadata": {},
   "outputs": [],
   "source": [
    "# A time-series dataframe holding occupancy counts\n",
    "# for many access points (columns).\n",
    "occ: pd.DataFrame = dfm.csv_to_timeseries_df(\n",
    "    filepath=filepath, timezone=timezone\n",
    ")"
   ]
  },
  {
   "cell_type": "code",
   "execution_count": null,
   "metadata": {},
   "outputs": [],
   "source": [
    "# Eliminate columns for access points not in the buildings we want.\n",
    "occ = occ.drop(columns=list(filter(\n",
    "    # add to drop-list if NOT in the buildings we want.\n",
    "    lambda col: schema.col_to_building(col, safe=True) not in buildings,\n",
    "    occ.columns.to_list()\n",
    ")))\n",
    "\n",
    "# We must assume that intervening na-values are 0's.\n",
    "occ = dfm.fill_intervening_nas(\n",
    "    occ, inplace=True, fill_val=0\n",
    ")"
   ]
  },
  {
   "cell_type": "code",
   "execution_count": null,
   "metadata": {},
   "outputs": [],
   "source": [
    "# Group columns (access points) by building.\n",
    "occ_bybuild = occ.groupby(\n",
    "    by=schema.col_to_building, axis=1\n",
    ")"
   ]
  },
  {
   "cell_type": "code",
   "execution_count": null,
   "metadata": {},
   "outputs": [],
   "source": [
    "print('buildings not found: {}'.format(\n",
    "    set(buildings) - set(occ_bybuild.groups.keys())\n",
    "))\n",
    "\n",
    "# We can only work with the buildings we found.\n",
    "buildings = list(occ_bybuild.groups.keys())"
   ]
  },
  {
   "cell_type": "code",
   "execution_count": null,
   "metadata": {},
   "outputs": [],
   "source": [
    "# We need the total occupancy timeseries for each building.\n",
    "build_to_totals: Dict[Hashable, pd.Series] = {}\n",
    "\n",
    "# We need to find the maximum occupancy for a building at\n",
    "# any point in time to normalize the y-axes of the boxplots below.\n",
    "max_totals: Dict[Hashable, float] = defaultdict(lambda: NINF)\n",
    "\n",
    "for build in buildings:\n",
    "    # get the total occupancy timeseries just for this building.\n",
    "    build_totals = build_to_totals[build] = dfm.row_totals(\n",
    "        occ_bybuild.get_group(build)\n",
    "    )\n",
    "    # search for a new max.\n",
    "    newmax = build_totals.max().squeeze()\n",
    "    if newmax > max_totals[build]:\n",
    "        max_totals[build] = newmax"
   ]
  },
  {
   "cell_type": "markdown",
   "metadata": {},
   "source": [
    "## Boxplots"
   ]
  },
  {
   "cell_type": "code",
   "execution_count": null,
   "metadata": {},
   "outputs": [],
   "source": [
    "def display_and_save_hourly_boxplot(\n",
    "    tseries: pd.Series, title: str,\n",
    "    xlabel: str, ylabel: str, ymax: Union[float, int],\n",
    "    figsize: Tuple[Union[float,int], Union[float,int]],\n",
    "    figfilepath: str\n",
    ") -> None:\n",
    "    fig, ax = plt.subplots(figsize=figsize)\n",
    "    ax.set_title(title)\n",
    "    ax.set_xlabel(xlabel)\n",
    "    ax.set_ylabel(ylabel)\n",
    "    ax.set_ylim(0, ymax)\n",
    "    seaborn.boxplot(\n",
    "        # The hours (a number [0,23]) for each row.\n",
    "        x=tseries.index.hour,\n",
    "        # The total occupancy at that hour.\n",
    "        y=tseries,\n",
    "        ax=ax\n",
    "    )\n",
    "    fig.savefig(figfilepath)"
   ]
  },
  {
   "cell_type": "code",
   "execution_count": null,
   "metadata": {},
   "outputs": [],
   "source": [
    "for build in buildings:\n",
    "    # get the total occupancy timeseries just for this building.\n",
    "    build_totals: pd.DataFrame = build_to_totals[build]\n",
    "\n",
    "    common_args = {\n",
    "        'xlabel': 'hour of the day',\n",
    "        'ylabel': 'mean number of connected devices',\n",
    "        'ymax': max_totals[build], \n",
    "        'figsize': (24, 15)\n",
    "    }\n",
    "\n",
    "    # Overall boxplot.\n",
    "    display_and_save_hourly_boxplot(\n",
    "        tseries=build_totals,\n",
    "        title=build,\n",
    "        figfilepath='./{}.png'.format(build),\n",
    "        **common_args\n",
    "    )\n",
    "    # Weekdays boxplot.\n",
    "    display_and_save_hourly_boxplot(\n",
    "        tseries=build_totals.loc[build_totals.index.dayofweek < 5],\n",
    "        title=build+' (weekdays)',\n",
    "        figfilepath='./{}-wkdays.png'.format(build),\n",
    "        **common_args\n",
    "    )\n",
    "    # Weedends boxplot.\n",
    "    display_and_save_hourly_boxplot(\n",
    "        tseries=build_totals.loc[build_totals.index.dayofweek >= 5],\n",
    "        title=build+' (weekends)',\n",
    "        figfilepath='./{}-wkends.png'.format(build),\n",
    "        **common_args\n",
    "    )"
   ]
  }
 ],
 "metadata": {
  "kernelspec": {
   "display_name": "Python 3",
   "language": "python",
   "name": "python3"
  },
  "language_info": {
   "codemirror_mode": {
    "name": "ipython",
    "version": 3
   },
   "file_extension": ".py",
   "mimetype": "text/x-python",
   "name": "python",
   "nbconvert_exporter": "python",
   "pygments_lexer": "ipython3",
   "version": "3.6.7"
  }
 },
 "nbformat": 4,
 "nbformat_minor": 2
}
