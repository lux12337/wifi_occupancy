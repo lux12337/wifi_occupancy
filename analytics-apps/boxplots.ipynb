{
 "cells": [
  {
   "cell_type": "markdown",
   "metadata": {},
   "source": [
    "# Boxplots"
   ]
  },
  {
   "cell_type": "markdown",
   "metadata": {},
   "source": [
    "## Script setup"
   ]
  },
  {
   "cell_type": "code",
   "execution_count": 35,
   "metadata": {},
   "outputs": [],
   "source": [
    "# Third-party and standard modules\n",
    "from typing import Optional\n",
    "import numpy as np\n",
    "import pandas as pd\n",
    "import seaborn\n",
    "import matplotlib.pyplot as plt\n",
    "import pytz\n",
    "from itertools import repeat\n",
    "from importlib import reload\n",
    "\n",
    "# User-defined modules.\n",
    "# The reload() function is needed to update modules after\n",
    "# changes are made to their files.\n",
    "from modules import dataframe_manip as dfm\n",
    "from modules import misc, schemas, College1AcPtTimeSeries\n",
    "# The reload() function is needed to update modules after\n",
    "# changes are made to their files.\n",
    "dfm = reload(dfm)\n",
    "misc = reload(misc)\n",
    "schemas = reload(schemas)\n",
    "College1AcPtTimeSeries = reload(College1AcPtTimeSeries)"
   ]
  },
  {
   "cell_type": "markdown",
   "metadata": {},
   "source": [
    "## Script parameters\n",
    "\n",
    "The following values are this script's parameters."
   ]
  },
  {
   "cell_type": "code",
   "execution_count": 36,
   "metadata": {},
   "outputs": [],
   "source": [
    "filepath = './cisco_wifi_data_until_20190513.csv'\n",
    "timezone = pytz.timezone('US/Pacific')\n",
    "schema: schemas.AcPtTimeSeries =\\\n",
    "    College1AcPtTimeSeries.College1AcPtTimeSeries\n",
    "buildings = [\n",
    "    'SCC', 'HAHN', 'CROOKSHANK', 'THATHCHER', 'CLARK',\n",
    "    'CARNEGIE', 'MASON', 'PEARSON', 'ALEXANDER', 'ITB'\n",
    "]"
   ]
  },
  {
   "cell_type": "markdown",
   "metadata": {},
   "source": [
    "## Data Processing"
   ]
  },
  {
   "cell_type": "code",
   "execution_count": 37,
   "metadata": {},
   "outputs": [],
   "source": [
    "# A time-series dataframe holding occupancy counts\n",
    "# for many access points (columns).\n",
    "occ: pd.DataFrame = dfm.csv_to_timeseries_df(\n",
    "    filepath=filepath, timezone=timezone\n",
    ")"
   ]
  },
  {
   "cell_type": "code",
   "execution_count": 38,
   "metadata": {},
   "outputs": [],
   "source": [
    "acpts = occ.columns.to_list()\n",
    "acpts.sort()\n",
    "\n",
    "buildings_in_cols = [False] * len(buildings)\n",
    "for bi in range(0, len(buildings)):\n",
    "    for a in acpts:\n",
    "        if buildings[bi] in a:\n",
    "            buildings_in_cols[bi] = True\n",
    "            break"
   ]
  },
  {
   "cell_type": "code",
   "execution_count": 42,
   "metadata": {},
   "outputs": [
    {
     "name": "stdout",
     "output_type": "stream",
     "text": [
      "['SCC', 'HAHN', 'CROOKSHANK', 'THATHCHER', 'CLARK', 'CARNEGIE', 'MASON', 'PEARSON', 'ALEXANDER', 'ITB']\n",
      "[True, True, False, False, True, True, True, False, True, True]\n",
      "[('SCC', True), ('HAHN', True), ('CROOKSHANK', False), ('THATHCHER', False), ('CLARK', True), ('CARNEGIE', True), ('MASON', True), ('PEARSON', False), ('ALEXANDER', True), ('ITB', True)]\n",
      "['188-7TH-1', '188-7TH-2', '188-7TH-GARAGE', 'AP502F.A8EC.9724', 'AP502F.A8EC.9868', 'AP502F.A8EC.988C', 'AP502F.A8EC.9AAE', 'AP502F.A8EC.9B28', 'AP502F.A8EC.A052', 'AP502F.A8EC.A07E', 'AP502F.A8EC.A1B4', 'AP502F.A8EC.A214', 'AP7069.5A21.6CA6', 'AP7069.5A21.6CCA', 'AP7069.5A21.6CF4', 'AP7069.5A21.7106', 'AP7069.5a21.7264', 'AP7872.5D61.2310', 'AP7872.5D61.3120', 'AP7872.5D61.3128', 'AP7872.5D61.320A', 'AP7872.5D61.38E0', 'AP7872.5D61.3BEC', 'AP7872.5D61.40C6', 'AP7872.5D61.55C2', 'AP7872.5D61.5BAA', 'AP7872.5D62.18AE', 'AP7872.5D62.194A', 'AP7872.5D62.19A6', 'AP7872.5D62.25BC', 'AP7872.5D62.26A6', 'AP7872.5D62.C62C', 'AP7872.5D62.C662', 'AP7872.5D62.CF00', 'AP7872.5D62.DE74', 'AP7872.5D62.DEC6', 'AP7872.5DEF.0872', 'AP7872.5DF6.FB4E', 'AP7872.5DF7.06A0', 'AP7872.5DFD.B620', 'AP7872.5DFF.0FB4', 'AP7872.5DFF.1010', 'AP7872.5DFF.10AE', 'AP7872.5DFF.1716', 'APB08B.CFA8.59BA', 'APB08B.CFA8.61C0', 'APB08B.CFA8.61D8', 'APB08B.CFA8.6264', 'APB08B.CFA8.6396', 'APB08B.CFA8.6610', 'APB08B.CFA8.6A3C', 'APB08B.CFA8.6A92', 'APB08B.CFA8.6ABE', 'APB08B.CFA8.6F20', 'APB08B.CFA8.7040', 'APB08B.CFA8.70A4', 'APB08B.CFA8.70E6', 'APB08B.CFA8.70EA', 'APB08B.CFA8.70FE', 'APB08B.CFA8.713A', 'APB08B.CFA8.71E4', 'APF4DB.E618.12DC', 'APF4DB.E618.1A42', 'APF4DB.E618.1B1A', 'APF4DB.E618.1B1E', 'APF4DB.E618.1B2A', 'APF4DB.E618.1BFA', 'APF4DB.E618.2A96', 'APF4DB.E618.2B56', 'APF4DB.E61A.5200', 'APF4DB.E61A.5220', 'APF4DB.E61A.522A', 'APF4DB.E61A.58EE', 'APF4DB.E61A.5B44', 'APF4DB.E61A.621E', 'POM-345-COLLEGE-1', 'POM-345-COLLEGE-101', 'POM-345-COLLEGE-103', 'POM-345-COLLEGE-301A', 'POM-345-COLLEGE-303', 'POM-ALEXANDER-001', 'POM-ALEXANDER-102', 'POM-ALEXANDER-110', 'POM-ALEXANDER-116', 'POM-ALEXANDER-117', 'POM-ALEXANDER-122', 'POM-ALEXANDER-134', 'POM-ALEXANDER-137', 'POM-ALEXANDER-143', 'POM-ALEXANDER-145', 'POM-ALEXANDER-154', 'POM-ALEXANDER-204', 'POM-ALEXANDER-206', 'POM-ALEXANDER-215', 'POM-ALEXANDER-216', 'POM-ALEXANDER-217', 'POM-ALEXANDER-219', 'POM-ALEXANDER-234', 'POM-ALEXANDER-235', 'POM-ALEXANDER-242', 'POM-ALEXANDER-251', 'POM-ALEXANDER-AAA', 'POM-CARNEGIE-003', 'POM-CARNEGIE-004', 'POM-CARNEGIE-009', 'POM-CARNEGIE-011', 'POM-CARNEGIE-015', 'POM-CARNEGIE-020', 'POM-CARNEGIE-101A', 'POM-CARNEGIE-104', 'POM-CARNEGIE-107', 'POM-CARNEGIE-109', 'POM-CARNEGIE-203', 'POM-CARNEGIE-208', 'POM-CARNEGIE-214', 'POM-CARNEGIE-215', 'POM-CLARKI-1', 'POM-CLARKI-100', 'POM-CLARKI-103', 'POM-CLARKI-105', 'POM-CLARKI-107', 'POM-CLARKI-110', 'POM-CLARKI-111', 'POM-CLARKI-112', 'POM-CLARKI-114A', 'POM-CLARKI-115', 'POM-CLARKI-117', 'POM-CLARKI-12', 'POM-CLARKI-120', 'POM-CLARKI-121', 'POM-CLARKI-123', 'POM-CLARKI-125', 'POM-CLARKI-131', 'POM-CLARKI-134', 'POM-CLARKI-1A-128', 'POM-CLARKI-200', 'POM-CLARKI-201', 'POM-CLARKI-203', 'POM-CLARKI-207', 'POM-CLARKI-208', 'POM-CLARKI-210', 'POM-CLARKI-212', 'POM-CLARKI-216', 'POM-CLARKI-219', 'POM-CLARKI-221', 'POM-CLARKI-2A-128', 'POM-CLARKIII-102', 'POM-CLARKIII-103', 'POM-CLARKIII-105', 'POM-CLARKIII-108', 'POM-CLARKIII-110', 'POM-CLARKIII-112', 'POM-CLARKIII-113', 'POM-CLARKIII-117', 'POM-CLARKIII-121', 'POM-CLARKIII-203', 'POM-CLARKIII-204', 'POM-CLARKIII-207', 'POM-CLARKIII-209', 'POM-CLARKIII-213', 'POM-CLARKIII-215', 'POM-CLARKIII-216', 'POM-CLARKIII-221', 'POM-CLARKIII-225', 'POM-CLARKIII-301', 'POM-CLARKIII-308', 'POM-CLARKIII-316', 'POM-CLARKIII-318', 'POM-CLARKV-2A', 'POM-CLARKV-3B', 'POM-CLARKV-401', 'POM-CLARKV-407', 'POM-CLARKV-412', 'POM-CLARKV-418', 'POM-CLARKV-425', 'POM-CLARKV-428', 'POM-CLARKV-435', 'POM-CLARKV-440', 'POM-CLARKV-442', 'POM-CLARKV-443', 'POM-CLARKV-446', 'POM-CLARKV-451', 'POM-CLARKV-454', 'POM-CLARKV-457', 'POM-CLARKV-460', 'POM-CLARKV-465', 'POM-CLARKV-470', 'POM-CLARKV-474', 'POM-CLARKV-AAA', 'POM-CLARKV-S1', 'POM-CLARKV-S21B', 'POM-CLARKV-S22', 'POM-CLARKV-S23B', 'POM-CLARKV-S24A', 'POM-CLARKV-S26A', 'POM-CLARKV-S3', 'POM-CLARKV-S5B', 'POM-DIALYNAS-100', 'POM-DIALYNAS-110', 'POM-DIALYNAS-120', 'POM-DIALYNAS-130', 'POM-DIALYNAS-153', 'POM-DIALYNAS-160', 'POM-DIALYNAS-175', 'POM-DIALYNAS-179', 'POM-DIALYNAS-185', 'POM-DIALYNAS-187', 'POM-DIALYNAS-200', 'POM-DIALYNAS-210', 'POM-DIALYNAS-220', 'POM-DIALYNAS-230', 'POM-DIALYNAS-240', 'POM-DIALYNAS-250', 'POM-DIALYNAS-260', 'POM-DIALYNAS-270', 'POM-DIALYNAS-280', 'POM-DIALYNAS-297', 'POM-DIALYNAS-300', 'POM-DIALYNAS-310', 'POM-DIALYNAS-320', 'POM-DIALYNAS-330', 'POM-DIALYNAS-340', 'POM-DIALYNAS-350', 'POM-DIALYNAS-360', 'POM-DIALYNAS-367', 'POM-DIALYNAS-373', 'POM-DIALYNAS-AAA', 'POM-GIBSON-1', 'POM-GIBSON-11', 'POM-GIBSON-3', 'POM-GIBSON-401', 'POM-GIBSON-406', 'POM-GIBSON-411', 'POM-GIBSON-414', 'POM-GIBSON-419', 'POM-GIBSON-421', 'POM-HAHN-101-1', 'POM-HAHN-101-2', 'POM-HAHN-103', 'POM-HAHN-106', 'POM-HAHN-107', 'POM-HAHN-108', 'POM-HAHN-110', 'POM-HAHN-114', 'POM-HAHN-204', 'POM-HAHN-210', 'POM-HAHN-212', 'POM-HAHN-214', 'POM-HAHN-216', 'POM-HAHN-218', 'POM-HAHN-222', 'POM-HAHN-2C01', 'POM-HARWOOD-1', 'POM-HARWOOD-102', 'POM-HARWOOD-108', 'POM-HARWOOD-109', 'POM-HARWOOD-110', 'POM-HARWOOD-114', 'POM-HARWOOD-117', 'POM-HARWOOD-142', 'POM-HARWOOD-147', 'POM-HARWOOD-15', 'POM-HARWOOD-153', 'POM-HARWOOD-162', 'POM-HARWOOD-170', 'POM-HARWOOD-172', 'POM-HARWOOD-178', 'POM-HARWOOD-180', 'POM-HARWOOD-189', 'POM-HARWOOD-1K04', 'POM-HARWOOD-200', 'POM-HARWOOD-204', 'POM-HARWOOD-209', 'POM-HARWOOD-219', 'POM-HARWOOD-223', 'POM-HARWOOD-228', 'POM-HARWOOD-233', 'POM-HARWOOD-238', 'POM-HARWOOD-245', 'POM-HARWOOD-249', 'POM-HARWOOD-255', 'POM-HARWOOD-263', 'POM-HARWOOD-270', 'POM-HARWOOD-272', 'POM-HARWOOD-278', 'POM-HARWOOD-279', 'POM-HARWOOD-282', 'POM-HARWOOD-285', 'POM-HARWOOD-2C02', 'POM-HARWOOD-302', 'POM-HARWOOD-319', 'POM-HARWOOD-325', 'POM-HARWOOD-342', 'POM-HARWOOD-347', 'POM-HARWOOD-378', 'POM-HARWOOD-379', 'POM-HARWOOD-4', 'POM-HARWOOD-49', 'POM-HARWOOD-5', 'POM-HARWOOD-65', 'POM-HARWOOD-75', 'POM-HARWOOD-77', 'POM-HARWOOD-84', 'POM-HARWOOD-85', 'POM-HARWOOD-BC03', 'POM-HARWOOD-BC04', 'POM-ITB-105', 'POM-ITB-110', 'POM-ITB-113', 'POM-ITB-115', 'POM-ITB-120', 'POM-ITB-121-1', 'POM-ITB-121-2', 'POM-LAWRY-A11', 'POM-LAWRY-A12', 'POM-LAWRY-A18', 'POM-LAWRY-A20', 'POM-LAWRY-A25', 'POM-LAWRY-A26', 'POM-LAWRY-A32', 'POM-LAWRY-B10', 'POM-LAWRY-B15', 'POM-LAWRY-B21', 'POM-LAWRY-B22', 'POM-LAWRY-B28', 'POM-LAWRY-B30', 'POM-LAWRY-B35', 'POM-LAWRY-B36', 'POM-LAWRY-C11', 'POM-LAWRY-C12', 'POM-LAWRY-C18', 'POM-LAWRY-C20', 'POM-LAWRY-C25', 'POM-LAWRY-C26', 'POM-LAWRY-C30', 'POM-LAWRY-C35', 'POM-LAWRY-C36', 'POM-LEB-E005', 'POM-LEB-E007', 'POM-LEB-E015', 'POM-LEB-E017', 'POM-LEB-E026', 'POM-LEB-E101', 'POM-LEB-E107', 'POM-LEB-E113', 'POM-LEB-E126', 'POM-LEB-E130', 'POM-LEB-E136', 'POM-LEB-E143', 'POM-LEB-E201', 'POM-LEB-E209', 'POM-LEB-E213', 'POM-LEB-E219', 'POM-LEB-E224', 'POM-LEB-E229', 'POM-LEB-E234', 'POM-LEB-E241', 'POM-LEB-E248', 'POM-LEB-E251', 'POM-LEB-L1104', 'POM-LEB-L1109', 'POM-LEB-L1116', 'POM-LEB-L1122', 'POM-LEB-L1125', 'POM-LEB-L1140', 'POM-LEB-L1143', 'POM-LEB-L2102', 'POM-LEB-L2106', 'POM-LEB-L2114', 'POM-LEB-L2122', 'POM-LEB-L2126', 'POM-LEB-L2136', 'POM-LEB-L2138', 'POM-LEB-L2148', 'POM-LEB-L2152', 'POM-LEB-L3101', 'POM-LEB-L3106', 'POM-LEB-L3110', 'POM-LEB-L3118', 'POM-LEB-L3124', 'POM-LEB-L3129', 'POM-LEB-L3135', 'POM-LEB-L3139', 'POM-LYON-109', 'POM-LYON-111', 'POM-LYON-116', 'POM-LYON-120', 'POM-LYON-123', 'POM-LYON-125', 'POM-LYON-202', 'POM-LYON-204', 'POM-LYON-207', 'POM-LYON-211', 'POM-LYON-215', 'POM-LYON-219', 'POM-LYON-222', 'POM-LYON-225', 'POM-LYON-A14', 'POM-LYON-A2', 'POM-LYON-B12', 'POM-MAB-005', 'POM-MAB-0059', 'POM-MAB-013', 'POM-MAB-0269', 'POM-MAB-103', 'POM-MAB-1051-A', 'POM-MAB-1051-B', 'POM-MAB-1091', 'POM-MAB-1097', 'POM-MAB-1213', 'POM-MAB-1237', 'POM-MAB-1249', 'POM-MAB-1291', 'POM-MAB-149', 'POM-MAB-2087', 'POM-MAB-2113', 'POM-MAB-2161', 'POM-MAB-2251', 'POM-MAB-2311', 'POM-MAB-2341', 'POM-MAB-2381', 'POM-MAB-2393', 'POM-MASON-002', 'POM-MASON-005', 'POM-MASON-011', 'POM-MASON-020', 'POM-MASON-022', 'POM-MASON-101', 'POM-MASON-104', 'POM-MASON-107', 'POM-MASON-111', 'POM-MASON-121', 'POM-MASON-124', 'POM-MASON-127', 'POM-MASON-204', 'POM-MASON-207', 'POM-MASON-211', 'POM-MASON-220', 'POM-MASON-224', 'POM-MASON-228', 'POM-MASON-233', 'POM-MASON-236', 'POM-MUDD-1', 'POM-MUDD-111', 'POM-MUDD-115', 'POM-MUDD-117', 'POM-MUDD-119', 'POM-MUDD-12', 'POM-MUDD-123', 'POM-MUDD-125', 'POM-MUDD-131', 'POM-MUDD-135', 'POM-MUDD-138', 'POM-MUDD-14', 'POM-MUDD-143', 'POM-MUDD-153', 'POM-MUDD-156', 'POM-MUDD-161', 'POM-MUDD-164', 'POM-MUDD-168', 'POM-MUDD-169', 'POM-MUDD-17', 'POM-MUDD-176', 'POM-MUDD-178', 'POM-MUDD-180', 'POM-MUDD-181', 'POM-MUDD-185', 'POM-MUDD-186', 'POM-MUDD-191', 'POM-MUDD-1K22', 'POM-MUDD-201', 'POM-MUDD-202', 'POM-MUDD-206', 'POM-MUDD-208', 'POM-MUDD-212', 'POM-MUDD-213', 'POM-MUDD-217', 'POM-MUDD-218', 'POM-MUDD-221', 'POM-MUDD-226', 'POM-MUDD-231', 'POM-MUDD-235', 'POM-MUDD-238', 'POM-MUDD-24', 'POM-MUDD-241', 'POM-MUDD-251', 'POM-MUDD-252', 'POM-MUDD-255', 'POM-MUDD-260', 'POM-MUDD-263', 'POM-MUDD-266', 'POM-MUDD-267', 'POM-MUDD-269', 'POM-MUDD-272', 'POM-MUDD-273', 'POM-MUDD-278', 'POM-MUDD-279', 'POM-MUDD-286', 'POM-MUDD-289', 'POM-MUDD-290', 'POM-MUDD-291', 'POM-MUDD-291A', 'POM-MUDD-311', 'POM-MUDD-314', 'POM-MUDD-342', 'POM-MUDD-4B', 'POM-MUDD-55', 'POM-MUDD-66', 'POM-MUDD-9', 'POM-MUDD-??', 'POM-MUDD-B001', 'POM-MUDD-B02', 'POM-MUDD-B20', 'POM-MUDD-BK02', 'POM-MUDD-L2', 'POM-NORTON-10', 'POM-NORTON-15', 'POM-NORTON-22', 'POM-NORTON-24', 'POM-NORTON-28', 'POM-NORTON-3', 'POM-NORTON-6', 'POM-OLDENBORG-101', 'POM-OLDENBORG-106', 'POM-OLDENBORG-110', 'POM-OLDENBORG-119', 'POM-OLDENBORG-120', 'POM-OLDENBORG-125', 'POM-OLDENBORG-129', 'POM-OLDENBORG-139', 'POM-OLDENBORG-142', 'POM-OLDENBORG-147', 'POM-OLDENBORG-155', 'POM-OLDENBORG-160', 'POM-OLDENBORG-164', 'POM-OLDENBORG-168', 'POM-OLDENBORG-1N', 'POM-OLDENBORG-1S', 'POM-OLDENBORG-202', 'POM-OLDENBORG-203', 'POM-OLDENBORG-204', 'POM-OLDENBORG-207', 'POM-OLDENBORG-211', 'POM-OLDENBORG-217', 'POM-OLDENBORG-221', 'POM-OLDENBORG-222', 'POM-OLDENBORG-226', 'POM-OLDENBORG-230', 'POM-OLDENBORG-236', 'POM-OLDENBORG-241', 'POM-OLDENBORG-245', 'POM-OLDENBORG-249', 'POM-OLDENBORG-250', 'POM-OLDENBORG-251', 'POM-OLDENBORG-257', 'POM-OLDENBORG-261', 'POM-OLDENBORG-265', 'POM-OLDENBORG-266', 'POM-OLDENBORG-267', 'POM-OLDENBORG-2N', 'POM-OLDENBORG-2S', 'POM-OLDENBORG-301', 'POM-OLDENBORG-306', 'POM-OLDENBORG-309', 'POM-OLDENBORG-359', 'POM-OLDENBORG-362', 'POM-OLDENBORG-368', 'POM-OLDENBORG-AAA', 'POM-OLDENBORG-CO100', 'POM-OLDENBORG-DH100', 'POM-OLDENBORG-L130', 'POM-SCC-112', 'POM-SCC-114', 'POM-SCC-121', 'POM-SCC-121-1', 'POM-SCC-128', 'POM-SCC-134', 'POM-SCC-134-1', 'POM-SCC-148', 'POM-SCC-155', 'POM-SCC-155-2', 'POM-SCC-158', 'POM-SCC-16D', 'POM-SCC-16F', 'POM-SCC-18A', 'POM-SCC-18D', 'POM-SCC-201', 'POM-SCC-208', 'POM-SCC-216', 'POM-SCC-218', 'POM-SCC-228', 'POM-SCC-235', 'POM-SCC-240', 'POM-SCC-246', 'POM-SCC-25', 'POM-SCC-30-1', 'POM-SCC-30-2', 'POM-SCC-33', 'POM-SCC-39', 'POM-SCC-4', 'POM-SEAVER-NORTH-005', 'POM-SEAVER-NORTH-006', 'POM-SEAVER-NORTH-007', 'POM-SEAVER-NORTH-010', 'POM-SEAVER-NORTH-015', 'POM-SEAVER-NORTH-016', 'POM-SEAVER-NORTH-106', 'POM-SEAVER-NORTH-107B', 'POM-SEAVER-NORTH-115', 'POM-SEAVER-NORTH-116', 'POM-SEAVER-NORTH-122', 'POM-SEAVER-NORTH-125', 'POM-SEAVER-NORTH-202', 'POM-SEAVER-NORTH-205', 'POM-SEAVER-NORTH-210', 'POM-SEAVER-NORTH-211', 'POM-SEAVER-NORTH-215', 'POM-SEAVER-NORTH-216', 'POM-SEAVER-NORTH-220', 'POM-SEAVER-NORTH-23', 'POM-SEAVER-NORTH-29', 'POM-SEAVER-NORTH-AUD-W', 'POM-SEAVER-NORTH-Aud-East', 'POM-SEAVER-NORTH-Aud-North', 'POM-SEAVER-NORTH-Aud-West', 'POM-SEAVER-NORTH-LOBBY', 'POM-SEAVER-NORTH-OO3', 'POM-SEAVER-SOUTH-008', 'POM-SEAVER-SOUTH-048', 'POM-SEAVER-SOUTH-053', 'POM-SEAVER-SOUTH-056', 'POM-SEAVER-SOUTH-101', 'POM-SEAVER-SOUTH-102', 'POM-SEAVER-SOUTH-103', 'POM-SEAVER-SOUTH-104', 'POM-SEAVER-SOUTH-105', 'POM-SEAVER-SOUTH-113', 'POM-SEAVER-SOUTH-117', 'POM-SEAVER-SOUTH-122', 'POM-SEAVER-SOUTH-129', 'POM-SEAVER-SOUTH-211', 'POM-SEAVER-SOUTH-215', 'POM-SEAVER-SOUTH-221', 'POM-SEAVER-SOUTH-224', 'POM-SEAVER-SOUTH-231', 'POM-SEAVER-SOUTH-233', 'POM-SEAVER-WEST-002', 'POM-SEAVER-WEST-007', 'POM-SEAVER-WEST-013', 'POM-SEAVER-WEST-023', 'POM-SEAVER-WEST-026', 'POM-SEAVER-WEST-033', 'POM-SEAVER-WEST-036', 'POM-SEAVER-WEST-042', 'POM-SEAVER-WEST-107', 'POM-SEAVER-WEST-112', 'POM-SEAVER-WEST-117', 'POM-SEAVER-WEST-124', 'POM-SEAVER-WEST-135', 'POM-SEAVER-WEST-140', 'POM-SEAVER-WEST-144', 'POM-SEAVER-WEST-201', 'POM-SEAVER-WEST-207', 'POM-SEAVER-WEST-209', 'POM-SEAVER-WEST-211', 'POM-SEAVER-WEST-214', 'POM-SEAVER-WEST-223', 'POM-SEAVER-WEST-236', 'POM-SEAVER-WEST-238', 'POM-SGM-106', 'POM-SGM-110', 'POM-SGM-126', 'POM-SGM-130B', 'POM-SGM-133', 'POM-SGM-136', 'POM-SGM-204', 'POM-SGM-210', 'POM-SGM-216', 'POM-SMILEY-102', 'POM-SMILEY-109', 'POM-SMILEY-110', 'POM-SMILEY-115', 'POM-SMILEY-203', 'POM-SMILEY-206', 'POM-SMILEY-213', 'POM-SMILEY-216', 'POM-SMILEY-222', 'POM-SMILEY-302', 'POM-SMILEY-307', 'POM-SMILEY-308', 'POM-SMILEY-313', 'POM-SMILEY-316', 'POM-SMILEY-322', 'POM-SMILEY-A4', 'POM-SONTAG-110', 'POM-SONTAG-120', 'POM-SONTAG-130', 'POM-SONTAG-140', 'POM-SONTAG-150', 'POM-SONTAG-160', 'POM-SONTAG-176', 'POM-SONTAG-178', 'POM-SONTAG-200', 'POM-SONTAG-210', 'POM-SONTAG-220', 'POM-SONTAG-233', 'POM-SONTAG-240', 'POM-SONTAG-250', 'POM-SONTAG-260', 'POM-SONTAG-276', 'POM-SONTAG-300', 'POM-SONTAG-310', 'POM-SONTAG-320', 'POM-SONTAG-333', 'POM-SONTAG-343', 'POM-SONTAG-355', 'POM-SONTAG-357', 'POM-SONTAG-AAA', 'POM-SONTAG-BBB', 'POM-SUMNER-002', 'POM-SUMNER-007', 'POM-SUMNER-008', 'POM-SUMNER-012', 'POM-SUMNER-017', 'POM-SUMNER-101', 'POM-SUMNER-105', 'POM-SUMNER-107', 'POM-SUMNER-111', 'POM-SUMNER-116', 'POM-SUMNER-118SW', 'POM-SUMNER-201', 'POM-SUMNER-204', 'POM-SUMNER-208', 'POM-SUMNER-209B', 'POM-SUMNER-212', 'POM-SUMNER-221-A', 'POM-SUMNER-221-B', 'POM-SUMNER-H-4', 'POM-WALKER-101', 'POM-WALKER-106', 'POM-WALKER-107', 'POM-WALKER-107A', 'POM-WALKER-203', 'POM-WALKER-207', 'POM-WALKER-603H', 'POM-WALKER-606', 'POM-WALKER-610', 'POM-WALKER-612', 'POM-WALKER-616', 'POM-WALKER-620', 'POM-WALKER-621', 'POM-WALKER-624', 'POM-WALKER-627', 'POM-WALKER-628', 'POM-WALKER-638', 'POM-WALKER-653', 'POM-WALKER-654', 'POM-WALKER-658L', 'POM-WALKER-703', 'POM-WALKER-708', 'POM-WALKER-712', 'POM-WALKER-717', 'POM-WALKER-722', 'POM-WALKER-728', 'POM-WALKER-739', 'POM-WALKER-745', 'POM-WALKER-747', 'POM-WALKER-753', 'POM-WALKER-B08', 'POM-WALKER-B14', 'POM-WALKER-B18', 'POM-WIG-101', 'POM-WIG-102', 'POM-WIG-108', 'POM-WIG-109', 'POM-WIG-11', 'POM-WIG-116', 'POM-WIG-12', 'POM-WIG-120', 'POM-WIG-125', 'POM-WIG-128', 'POM-WIG-133', 'POM-WIG-19', 'POM-WIG-20', 'POM-WIG-200', 'POM-WIG-205', 'POM-WIG-206', 'POM-WIG-213', 'POM-WIG-214', 'POM-WIG-217', 'POM-WIG-220', 'POM-WIG-24', 'POM-WIG-3', 'POM-WIG-6', 'POM-WIG-A110', 'POM-WIG-S003']\n"
     ]
    }
   ],
   "source": [
    "print(buildings)\n",
    "print(buildings_in_cols)\n",
    "print(list(zip(buildings, buildings_in_cols)))\n",
    "print(acpts)"
   ]
  },
  {
   "cell_type": "code",
   "execution_count": 40,
   "metadata": {},
   "outputs": [
    {
     "name": "stdout",
     "output_type": "stream",
     "text": [
      "['POM-ITB-113', 'POM-ITB-110', 'POM-ITB-115', 'POM-ALEXANDER-216', 'POM-ALEXANDER-217', 'POM-ALEXANDER-215', 'POM-ALEXANDER-219', 'POM-CLARKV-S23B', 'POM-CLARKV-460', 'POM-CLARKV-465', 'POM-ALEXANDER-137', 'POM-CARNEGIE-011', 'POM-CLARKI-12', 'POM-ALEXANDER-001', 'POM-MASON-207', 'POM-CLARKI-210', 'POM-CLARKI-131', 'POM-CLARKIII-121', 'POM-CLARKI-134', 'POM-SCC-121-1', 'POM-SCC-216', 'POM-SCC-18D', 'POM-SCC-18A', 'POM-CLARKV-2A', 'POM-SCC-218', 'POM-MASON-211', 'POM-CLARKI-221', 'POM-CARNEGIE-208', 'POM-CARNEGIE-203', 'POM-ITB-120', 'POM-SCC-155-2', 'POM-CLARKI-212', 'POM-CLARKV-418', 'POM-CLARKV-S3', 'POM-CLARKV-412', 'POM-CLARKIII-113', 'POM-SCC-134', 'POM-HAHN-218', 'POM-HAHN-214', 'POM-HAHN-216', 'POM-HAHN-210', 'POM-HAHN-212', 'POM-SCC-4', 'POM-SCC-148', 'POM-SCC-30-1', 'POM-SCC-30-2', 'POM-ALEXANDER-134', 'POM-MASON-005', 'POM-MASON-002', 'POM-SCC-240', 'POM-SCC-246', 'POM-MASON-022', 'POM-ITB-121-2', 'POM-ITB-121-1', 'POM-CARNEGIE-015', 'POM-ALEXANDER-122', 'POM-CARNEGIE-020', 'POM-CARNEGIE-101A', 'POM-CLARKIII-209', 'POM-CLARKIII-203', 'POM-CLARKIII-207', 'POM-CLARKIII-204', 'POM-ALEXANDER-154', 'POM-ITB-105', 'POM-CLARKI-125', 'POM-CLARKI-123', 'POM-CLARKI-121', 'POM-CLARKI-120', 'POM-CLARKIII-117', 'POM-CLARKIII-112', 'POM-CLARKIII-110', 'POM-CLARKV-S24A', 'POM-SCC-228', 'POM-CLARKV-454', 'POM-CLARKV-457', 'POM-CLARKV-451', 'POM-SCC-39', 'POM-SCC-33', 'POM-SCC-201', 'POM-SCC-208', 'POM-MASON-220', 'POM-MASON-224', 'POM-CLARKI-1', 'POM-CARNEGIE-215', 'POM-CARNEGIE-214', 'POM-MASON-124', 'POM-MASON-121', 'POM-CLARKI-1A-128', 'POM-CLARKV-428', 'POM-HAHN-106', 'POM-CARNEGIE-104', 'POM-CARNEGIE-107', 'POM-HAHN-103', 'POM-CARNEGIE-109', 'POM-HAHN-108', 'POM-CLARKV-S21B', 'POM-CLARKV-407', 'POM-CLARKV-401', 'POM-ALEXANDER-117', 'POM-ALEXANDER-116', 'POM-ALEXANDER-110', 'POM-CLARKI-117', 'POM-CLARKI-115', 'POM-CLARKI-112', 'POM-CLARKI-110', 'POM-CLARKI-111', 'POM-SCC-155', 'POM-SCC-158', 'POM-CLARKV-S5B', 'POM-HAHN-222', 'POM-ALEXANDER-102', 'POM-MASON-011', 'POM-SCC-128', 'POM-HAHN-101-1', 'POM-ALEXANDER-234', 'POM-ALEXANDER-235', 'POM-CLARKV-S22', 'POM-HAHN-107', 'POM-CLARKI-207', 'POM-CLARKI-203', 'POM-CLARKI-200', 'POM-CLARKI-201', 'POM-CLARKI-208', 'POM-ALEXANDER-242', 'POM-MASON-111', 'POM-CLARKIII-215', 'POM-CLARKIII-216', 'POM-SCC-134-1', 'POM-ALEXANDER-143', 'POM-ALEXANDER-145', 'POM-CLARKV-435', 'POM-MASON-228', 'POM-CLARKI-114A', 'POM-SCC-114', 'POM-SCC-112', 'POM-CLARKIII-103', 'POM-CLARKIII-105', 'POM-CLARKV-443', 'POM-CLARKIII-108', 'POM-CLARKV-440', 'POM-MASON-127', 'POM-ALEXANDER-AAA', 'POM-SCC-235', 'POM-CLARKIII-316', 'POM-CLARKIII-318', 'POM-MASON-020', 'POM-ALEXANDER-204', 'POM-ALEXANDER-206', 'POM-CLARKI-219', 'POM-HAHN-114', 'POM-HAHN-110', 'POM-MASON-236', 'POM-MASON-233', 'POM-SCC-16D', 'POM-CLARKV-470', 'POM-SCC-16F', 'POM-CLARKV-474', 'POM-CARNEGIE-009', 'POM-CARNEGIE-003', 'POM-CARNEGIE-004', 'POM-CLARKIII-225', 'POM-CLARKIII-221', 'POM-CLARKV-3B', 'POM-CLARKV-AAA', 'POM-CLARKI-105', 'POM-CLARKIII-102', 'POM-CLARKI-107', 'POM-CLARKI-100', 'POM-CLARKI-103', 'POM-MASON-204', 'POM-SCC-25', 'POM-CLARKI-216', 'POM-CLARKV-S1', 'POM-MASON-107', 'POM-MASON-104', 'POM-ALEXANDER-251', 'POM-CLARKV-S26A', 'POM-MASON-101', 'POM-CLARKIII-213', 'POM-CLARKV-425', 'POM-CLARKV-442', 'POM-SCC-121', 'POM-HAHN-101-2', 'POM-CLARKV-446', 'POM-CLARKIII-308', 'POM-HAHN-2C01', 'POM-CLARKI-2A-128', 'POM-CLARKIII-301', 'POM-HAHN-204']\n"
     ]
    }
   ],
   "source": [
    "# Eliminate unnecessary columns.\n",
    "dropped = occ.drop(columns=list(filter(\n",
    "    # add to drop-list if NOT in the buildings we want.\n",
    "    lambda col: schema.col_to_building(col, safe=True) not in buildings,\n",
    "    occ.columns.to_list()\n",
    ")))\n",
    "\n",
    "print(dropped.columns.to_list())\n",
    "\n",
    "occ = dfm.fill_intervening_nas(\n",
    "    occ, inplace=True, fill_val=0\n",
    ")"
   ]
  },
  {
   "cell_type": "code",
   "execution_count": 41,
   "metadata": {},
   "outputs": [
    {
     "ename": "Exception",
     "evalue": "No matching buildings for 'POM-MUDD-B02'",
     "output_type": "error",
     "traceback": [
      "\u001b[0;31m---------------------------------------------------------------------------\u001b[0m",
      "\u001b[0;31mException\u001b[0m                                 Traceback (most recent call last)",
      "\u001b[0;32m<ipython-input-41-f0a185d92f96>\u001b[0m in \u001b[0;36m<module>\u001b[0;34m\u001b[0m\n\u001b[1;32m      1\u001b[0m occ_bybuild = occ.groupby(\n\u001b[0;32m----> 2\u001b[0;31m     \u001b[0mby\u001b[0m\u001b[0;34m=\u001b[0m\u001b[0mschema\u001b[0m\u001b[0;34m.\u001b[0m\u001b[0mcol_to_building\u001b[0m\u001b[0;34m,\u001b[0m \u001b[0maxis\u001b[0m\u001b[0;34m=\u001b[0m\u001b[0;36m1\u001b[0m\u001b[0;34m\u001b[0m\u001b[0;34m\u001b[0m\u001b[0m\n\u001b[0m\u001b[1;32m      3\u001b[0m )\n\u001b[1;32m      4\u001b[0m \u001b[0;34m\u001b[0m\u001b[0m\n\u001b[1;32m      5\u001b[0m \u001b[0mprint\u001b[0m\u001b[0;34m(\u001b[0m\u001b[0mocc_bybuild\u001b[0m\u001b[0;34m.\u001b[0m\u001b[0mgroups\u001b[0m\u001b[0;34m)\u001b[0m\u001b[0;34m\u001b[0m\u001b[0;34m\u001b[0m\u001b[0m\n",
      "\u001b[0;32m~/anaconda3/lib/python3.7/site-packages/pandas/core/generic.py\u001b[0m in \u001b[0;36mgroupby\u001b[0;34m(self, by, axis, level, as_index, sort, group_keys, squeeze, observed, **kwargs)\u001b[0m\n\u001b[1;32m   7630\u001b[0m         return groupby(self, by=by, axis=axis, level=level, as_index=as_index,\n\u001b[1;32m   7631\u001b[0m                        \u001b[0msort\u001b[0m\u001b[0;34m=\u001b[0m\u001b[0msort\u001b[0m\u001b[0;34m,\u001b[0m \u001b[0mgroup_keys\u001b[0m\u001b[0;34m=\u001b[0m\u001b[0mgroup_keys\u001b[0m\u001b[0;34m,\u001b[0m \u001b[0msqueeze\u001b[0m\u001b[0;34m=\u001b[0m\u001b[0msqueeze\u001b[0m\u001b[0;34m,\u001b[0m\u001b[0;34m\u001b[0m\u001b[0;34m\u001b[0m\u001b[0m\n\u001b[0;32m-> 7632\u001b[0;31m                        observed=observed, **kwargs)\n\u001b[0m\u001b[1;32m   7633\u001b[0m \u001b[0;34m\u001b[0m\u001b[0m\n\u001b[1;32m   7634\u001b[0m     def asfreq(self, freq, method=None, how=None, normalize=False,\n",
      "\u001b[0;32m~/anaconda3/lib/python3.7/site-packages/pandas/core/groupby/groupby.py\u001b[0m in \u001b[0;36mgroupby\u001b[0;34m(obj, by, **kwds)\u001b[0m\n\u001b[1;32m   2108\u001b[0m         \u001b[0;32mraise\u001b[0m \u001b[0mTypeError\u001b[0m\u001b[0;34m(\u001b[0m\u001b[0;34m'invalid type: {}'\u001b[0m\u001b[0;34m.\u001b[0m\u001b[0mformat\u001b[0m\u001b[0;34m(\u001b[0m\u001b[0mobj\u001b[0m\u001b[0;34m)\u001b[0m\u001b[0;34m)\u001b[0m\u001b[0;34m\u001b[0m\u001b[0;34m\u001b[0m\u001b[0m\n\u001b[1;32m   2109\u001b[0m \u001b[0;34m\u001b[0m\u001b[0m\n\u001b[0;32m-> 2110\u001b[0;31m     \u001b[0;32mreturn\u001b[0m \u001b[0mklass\u001b[0m\u001b[0;34m(\u001b[0m\u001b[0mobj\u001b[0m\u001b[0;34m,\u001b[0m \u001b[0mby\u001b[0m\u001b[0;34m,\u001b[0m \u001b[0;34m**\u001b[0m\u001b[0mkwds\u001b[0m\u001b[0;34m)\u001b[0m\u001b[0;34m\u001b[0m\u001b[0;34m\u001b[0m\u001b[0m\n\u001b[0m",
      "\u001b[0;32m~/anaconda3/lib/python3.7/site-packages/pandas/core/groupby/groupby.py\u001b[0m in \u001b[0;36m__init__\u001b[0;34m(self, obj, keys, axis, level, grouper, exclusions, selection, as_index, sort, group_keys, squeeze, observed, **kwargs)\u001b[0m\n\u001b[1;32m    358\u001b[0m                                                     \u001b[0msort\u001b[0m\u001b[0;34m=\u001b[0m\u001b[0msort\u001b[0m\u001b[0;34m,\u001b[0m\u001b[0;34m\u001b[0m\u001b[0;34m\u001b[0m\u001b[0m\n\u001b[1;32m    359\u001b[0m                                                     \u001b[0mobserved\u001b[0m\u001b[0;34m=\u001b[0m\u001b[0mobserved\u001b[0m\u001b[0;34m,\u001b[0m\u001b[0;34m\u001b[0m\u001b[0;34m\u001b[0m\u001b[0m\n\u001b[0;32m--> 360\u001b[0;31m                                                     mutated=self.mutated)\n\u001b[0m\u001b[1;32m    361\u001b[0m \u001b[0;34m\u001b[0m\u001b[0m\n\u001b[1;32m    362\u001b[0m         \u001b[0mself\u001b[0m\u001b[0;34m.\u001b[0m\u001b[0mobj\u001b[0m \u001b[0;34m=\u001b[0m \u001b[0mobj\u001b[0m\u001b[0;34m\u001b[0m\u001b[0;34m\u001b[0m\u001b[0m\n",
      "\u001b[0;32m~/anaconda3/lib/python3.7/site-packages/pandas/core/groupby/grouper.py\u001b[0m in \u001b[0;36m_get_grouper\u001b[0;34m(obj, key, axis, level, sort, observed, mutated, validate)\u001b[0m\n\u001b[1;32m    600\u001b[0m                          \u001b[0mobserved\u001b[0m\u001b[0;34m=\u001b[0m\u001b[0mobserved\u001b[0m\u001b[0;34m,\u001b[0m\u001b[0;34m\u001b[0m\u001b[0;34m\u001b[0m\u001b[0m\n\u001b[1;32m    601\u001b[0m                          in_axis=in_axis)\n\u001b[0;32m--> 602\u001b[0;31m                 if not isinstance(gpr, Grouping) else gpr)\n\u001b[0m\u001b[1;32m    603\u001b[0m \u001b[0;34m\u001b[0m\u001b[0m\n\u001b[1;32m    604\u001b[0m         \u001b[0mgroupings\u001b[0m\u001b[0;34m.\u001b[0m\u001b[0mappend\u001b[0m\u001b[0;34m(\u001b[0m\u001b[0mping\u001b[0m\u001b[0;34m)\u001b[0m\u001b[0;34m\u001b[0m\u001b[0;34m\u001b[0m\u001b[0m\n",
      "\u001b[0;32m~/anaconda3/lib/python3.7/site-packages/pandas/core/groupby/grouper.py\u001b[0m in \u001b[0;36m__init__\u001b[0;34m(self, index, grouper, obj, name, level, sort, observed, in_axis)\u001b[0m\n\u001b[1;32m    321\u001b[0m                     raise ValueError(\n\u001b[1;32m    322\u001b[0m                         \"Grouper for '{}' not 1-dimensional\".format(t))\n\u001b[0;32m--> 323\u001b[0;31m                 \u001b[0mself\u001b[0m\u001b[0;34m.\u001b[0m\u001b[0mgrouper\u001b[0m \u001b[0;34m=\u001b[0m \u001b[0mself\u001b[0m\u001b[0;34m.\u001b[0m\u001b[0mindex\u001b[0m\u001b[0;34m.\u001b[0m\u001b[0mmap\u001b[0m\u001b[0;34m(\u001b[0m\u001b[0mself\u001b[0m\u001b[0;34m.\u001b[0m\u001b[0mgrouper\u001b[0m\u001b[0;34m)\u001b[0m\u001b[0;34m\u001b[0m\u001b[0;34m\u001b[0m\u001b[0m\n\u001b[0m\u001b[1;32m    324\u001b[0m                 if not (hasattr(self.grouper, \"__len__\") and\n\u001b[1;32m    325\u001b[0m                         len(self.grouper) == len(self.index)):\n",
      "\u001b[0;32m~/anaconda3/lib/python3.7/site-packages/pandas/core/indexes/base.py\u001b[0m in \u001b[0;36mmap\u001b[0;34m(self, mapper, na_action)\u001b[0m\n\u001b[1;32m   4516\u001b[0m         \u001b[0;32mfrom\u001b[0m \u001b[0;34m.\u001b[0m\u001b[0mmulti\u001b[0m \u001b[0;32mimport\u001b[0m \u001b[0mMultiIndex\u001b[0m\u001b[0;34m\u001b[0m\u001b[0;34m\u001b[0m\u001b[0m\n\u001b[1;32m   4517\u001b[0m         new_values = super(Index, self)._map_values(\n\u001b[0;32m-> 4518\u001b[0;31m             mapper, na_action=na_action)\n\u001b[0m\u001b[1;32m   4519\u001b[0m \u001b[0;34m\u001b[0m\u001b[0m\n\u001b[1;32m   4520\u001b[0m         \u001b[0mattributes\u001b[0m \u001b[0;34m=\u001b[0m \u001b[0mself\u001b[0m\u001b[0;34m.\u001b[0m\u001b[0m_get_attributes_dict\u001b[0m\u001b[0;34m(\u001b[0m\u001b[0;34m)\u001b[0m\u001b[0;34m\u001b[0m\u001b[0;34m\u001b[0m\u001b[0m\n",
      "\u001b[0;32m~/anaconda3/lib/python3.7/site-packages/pandas/core/base.py\u001b[0m in \u001b[0;36m_map_values\u001b[0;34m(self, mapper, na_action)\u001b[0m\n\u001b[1;32m   1216\u001b[0m \u001b[0;34m\u001b[0m\u001b[0m\n\u001b[1;32m   1217\u001b[0m         \u001b[0;31m# mapper is a function\u001b[0m\u001b[0;34m\u001b[0m\u001b[0;34m\u001b[0m\u001b[0;34m\u001b[0m\u001b[0m\n\u001b[0;32m-> 1218\u001b[0;31m         \u001b[0mnew_values\u001b[0m \u001b[0;34m=\u001b[0m \u001b[0mmap_f\u001b[0m\u001b[0;34m(\u001b[0m\u001b[0mvalues\u001b[0m\u001b[0;34m,\u001b[0m \u001b[0mmapper\u001b[0m\u001b[0;34m)\u001b[0m\u001b[0;34m\u001b[0m\u001b[0;34m\u001b[0m\u001b[0m\n\u001b[0m\u001b[1;32m   1219\u001b[0m \u001b[0;34m\u001b[0m\u001b[0m\n\u001b[1;32m   1220\u001b[0m         \u001b[0;32mreturn\u001b[0m \u001b[0mnew_values\u001b[0m\u001b[0;34m\u001b[0m\u001b[0;34m\u001b[0m\u001b[0m\n",
      "\u001b[0;32mpandas/_libs/lib.pyx\u001b[0m in \u001b[0;36mpandas._libs.lib.map_infer\u001b[0;34m()\u001b[0m\n",
      "\u001b[0;32m~/Desktop/MAIN/ucd/ecs193/smarter-smart-buildings/analytics-apps/modules/College1AcPtTimeSeries.py\u001b[0m in \u001b[0;36mcol_to_building\u001b[0;34m(cls, col, safe)\u001b[0m\n\u001b[1;32m     48\u001b[0m             \u001b[0;32mreturn\u001b[0m \u001b[0;32mNone\u001b[0m\u001b[0;34m\u001b[0m\u001b[0;34m\u001b[0m\u001b[0m\n\u001b[1;32m     49\u001b[0m         \u001b[0;32melif\u001b[0m \u001b[0mlen\u001b[0m\u001b[0;34m(\u001b[0m\u001b[0mmatches\u001b[0m\u001b[0;34m)\u001b[0m \u001b[0;34m==\u001b[0m \u001b[0;36m0\u001b[0m\u001b[0;34m:\u001b[0m\u001b[0;34m\u001b[0m\u001b[0;34m\u001b[0m\u001b[0m\n\u001b[0;32m---> 50\u001b[0;31m             \u001b[0;32mraise\u001b[0m \u001b[0mException\u001b[0m\u001b[0;34m(\u001b[0m\u001b[0;34m\"No matching buildings for '{}'\"\u001b[0m\u001b[0;34m.\u001b[0m\u001b[0mformat\u001b[0m\u001b[0;34m(\u001b[0m\u001b[0mcol\u001b[0m\u001b[0;34m)\u001b[0m\u001b[0;34m)\u001b[0m\u001b[0;34m\u001b[0m\u001b[0;34m\u001b[0m\u001b[0m\n\u001b[0m\u001b[1;32m     51\u001b[0m         \u001b[0;32melif\u001b[0m \u001b[0mlen\u001b[0m\u001b[0;34m(\u001b[0m\u001b[0mmatches\u001b[0m\u001b[0;34m)\u001b[0m \u001b[0;34m==\u001b[0m \u001b[0;36m1\u001b[0m\u001b[0;34m:\u001b[0m\u001b[0;34m\u001b[0m\u001b[0;34m\u001b[0m\u001b[0m\n\u001b[1;32m     52\u001b[0m             \u001b[0;32mreturn\u001b[0m \u001b[0mmatches\u001b[0m\u001b[0;34m[\u001b[0m\u001b[0;36m0\u001b[0m\u001b[0;34m]\u001b[0m\u001b[0;34m\u001b[0m\u001b[0;34m\u001b[0m\u001b[0m\n",
      "\u001b[0;31mException\u001b[0m: No matching buildings for 'POM-MUDD-B02'"
     ]
    }
   ],
   "source": [
    "occ_bybuild = occ.groupby(\n",
    "    by=schema.col_to_building, axis=1\n",
    ")\n",
    "\n",
    "print(occ_bybuild.groups)"
   ]
  },
  {
   "cell_type": "code",
   "execution_count": null,
   "metadata": {},
   "outputs": [],
   "source": []
  }
 ],
 "metadata": {
  "kernelspec": {
   "display_name": "Python 3",
   "language": "python",
   "name": "python3"
  },
  "language_info": {
   "codemirror_mode": {
    "name": "ipython",
    "version": 3
   },
   "file_extension": ".py",
   "mimetype": "text/x-python",
   "name": "python",
   "nbconvert_exporter": "python",
   "pygments_lexer": "ipython3",
   "version": "3.7.2"
  }
 },
 "nbformat": 4,
 "nbformat_minor": 2
}
