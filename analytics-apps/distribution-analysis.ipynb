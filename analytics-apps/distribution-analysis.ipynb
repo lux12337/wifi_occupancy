{
 "cells": [
  {
   "cell_type": "code",
   "execution_count": 1,
   "metadata": {},
   "outputs": [],
   "source": [
    "from modules import dataframe_manip as hp\n",
    "from IPython.display import Markdown, display\n",
    "import pytz\n",
    "import pandas as pd\n",
    "import numpy as np\n",
    "import warnings\n",
    "from datetime import datetime as dt\n",
    "import matplotlib.pyplot as plt\n",
    "warnings.filterwarnings('ignore')\n",
    "\n",
    "from IPython.display import display, clear_output\n",
    "import ipywidgets as widgets"
   ]
  },
  {
   "cell_type": "code",
   "execution_count": 2,
   "metadata": {},
   "outputs": [],
   "source": [
    "def printmd(string):\n",
    "    display(Markdown(string))"
   ]
  },
  {
   "cell_type": "code",
   "execution_count": 3,
   "metadata": {},
   "outputs": [],
   "source": [
    "building_list = [\n",
    "    ' POMONA','118-8TH','1567TH','345C','ALEXANDER','ANDREW','BALDWIN',\n",
    "    'BRACKETT','BRIDGES','CARNEGIE','CLARK3','CLARKI','CLARKV',\n",
    "    'CROOKSHANK','DRAPER', 'FARM', 'FRANK', 'FRARY', 'GIBONEY',\n",
    "    'GIBSON', 'GROUNDS', 'HAHN', 'HALDEMAN','HARWOOD','ITB',\n",
    "    'KENYON', 'LAWRY', 'LEB', 'LEBUS', 'MASON', 'MCCARTHY', 'MERRIT',\n",
    "    'MILLIKAN', 'MUSEUM', 'NORTON', 'OLDENBORG','PAULEY','PEARSON',\n",
    "    'PENDLETON','POMONA','RAINS','REMBRANDT', 'SCC', 'SEAVER','SGM',\n",
    "    'SMILEY','SMITH','SONTAG','STUDIOART','SUMNER','THATCHER','WALKER',\n",
    "    'WALTON','WIG']"
   ]
  },
  {
   "cell_type": "code",
   "execution_count": 4,
   "metadata": {},
   "outputs": [],
   "source": [
    "data = hp.csv_to_timeseries_df(filepath='wifi_data_until_20190204.csv', timezone=pytz.timezone('US/Pacific'))"
   ]
  },
  {
   "cell_type": "code",
   "execution_count": 5,
   "metadata": {},
   "outputs": [],
   "source": [
    "w1 = widgets.Dropdown(\n",
    "    options=building_list,\n",
    "    value = building_list[0],\n",
    "    description='List',\n",
    ")\n",
    "\n",
    "w2 = widgets.Dropdown(\n",
    "    options=building_list,\n",
    "    value = building_list[0],\n",
    "    description='List',\n",
    ")\n",
    "\n",
    "w3 = widgets.Dropdown(\n",
    "    options=building_list,\n",
    "    value = building_list[0],\n",
    "    description='List',\n",
    ")"
   ]
  },
  {
   "cell_type": "code",
   "execution_count": 6,
   "metadata": {},
   "outputs": [],
   "source": [
    "def on_change_hourly(change):\n",
    "    if change['name'] == 'value' and (change['new'] != change['old']):\n",
    "        temp = hp.get_hourly_data_building(data, change['new'])\n",
    "        temp['y'] = temp.sum(axis=1)\n",
    "        temp = temp.replace(0, np.nan) # replaces all 0s with NaN\n",
    "#         max_value = int(temp.max().max())\n",
    "#         binwidth = int(max_value / 10)\n",
    "#         bin_size = range(0, max_value + binwidth, binwidth)\n",
    "\n",
    "        # Plotting\n",
    "        fig, axes = plt.subplots(nrows=1, ncols=2)\n",
    "        ax = temp['y'].plot.hist(alpha=0.5, title=change['new']+'(building average)', legend=None, ax=axes[1], figsize=(15, 5))\n",
    "        ax.set_xlabel('Hourly Occupancy')\n",
    "        temp = temp.drop('y', 1)\n",
    "        ax = temp.plot.hist(alpha=0.5, title=change['new']+'(APs)', legend=None, ax=axes[0], figsize=(15, 5))\n",
    "        ax.set_xlabel('Hourly Occupancy')\n",
    "        clear_output()\n",
    "        display(w1)"
   ]
  },
  {
   "cell_type": "code",
   "execution_count": 7,
   "metadata": {},
   "outputs": [],
   "source": [
    "def on_change_daily(change):\n",
    "    if change['name'] == 'value' and (change['new'] != change['old']):\n",
    "        temp = hp.get_hourly_data_building(data, change['new'])\n",
    "        temp = temp.resample('D').mean() #daily mean\n",
    "        temp['y'] = temp.sum(axis=1)\n",
    "        temp = temp.replace(0, np.nan) # replaces all 0s with NaN\n",
    "\n",
    "        # Plotting\n",
    "        fig, axes = plt.subplots(nrows=1, ncols=2)\n",
    "        ax = temp['y'].plot.hist(alpha=0.5, y='y', title=change['new']+'(building average)', legend=None, ax=axes[1], figsize=(15, 5))\n",
    "        ax.set_xlabel('Daily Occupancy')\n",
    "        temp = temp.drop('y', 1)\n",
    "        ax = temp.plot.hist(alpha=0.5, title=change['new']+'(APs)', legend=None, ax=axes[0], figsize=(15, 5))\n",
    "        ax.set_xlabel('Daily Occupancy')\n",
    "        clear_output()\n",
    "        display(w2)"
   ]
  },
  {
   "cell_type": "code",
   "execution_count": 8,
   "metadata": {},
   "outputs": [],
   "source": [
    "def on_change_weekday(change):\n",
    "    if change['name'] == 'value' and (change['new'] != change['old']):\n",
    "        building = change['new']\n",
    "        temp = hp.get_hourly_data_building(data, building)\n",
    "\n",
    "\n",
    "        # Plotting occupancy by building\n",
    "        temp['y'] = temp.sum(axis=1)\n",
    "        temp = temp.replace(0, np.nan) # replaces all 0s with NaN\n",
    "\n",
    "        pd.to_datetime(temp.index.values)\n",
    "        temp['weekday'] = temp.index.dayofweek\n",
    "        monday = temp[temp['weekday'] == 0]\n",
    "        tuesday = temp[temp['weekday'] == 1]\n",
    "        wednesday = temp[temp['weekday'] == 2]\n",
    "        thursday = temp[temp['weekday'] == 3]\n",
    "        friday = temp[temp['weekday'] == 4]\n",
    "        saturday = temp[temp['weekday'] == 5]\n",
    "        sunday = temp[temp['weekday'] == 6]\n",
    "        \n",
    "        # Normalize x axis\n",
    "        max_array = [\n",
    "            monday['y'].max(), tuesday['y'].max(), wednesday['y'].max(), thursday['y'].max(), \n",
    "            friday['y'].max(), saturday['y'].max(), sunday['y'].max()]\n",
    "        \n",
    "        max_value = int(max(max_array))\n",
    "        binwidth = int(max_value / 10)\n",
    "        bin_size = range(0, max_value + binwidth, binwidth)\n",
    "\n",
    "        fig, axes = plt.subplots(nrows=1, ncols=2)\n",
    "        ax = monday['y'].plot.hist(alpha=0.5, title='Monday(Building) - '+building, legend=None, ax=axes[0], figsize=(15, 5), bins=bin_size)\n",
    "        ax.set_xlabel('Hourly Occupancy')\n",
    "        ax = tuesday['y'].plot.hist(alpha=0.5, title='Tuesday(Building) - '+building, legend=None, ax=axes[1], figsize=(15, 5), bins=bin_size)\n",
    "        ax.set_xlabel('Hourly Occupancy')\n",
    "\n",
    "        fig, axes = plt.subplots(nrows=1, ncols=2)\n",
    "        ax = wednesday['y'].plot.hist(alpha=0.5, title='Wednesday(Building) - '+building, legend=None, ax=axes[0], figsize=(15, 5), bins=bin_size)\n",
    "        ax.set_xlabel('Hourly Occupancy')\n",
    "        ax = thursday['y'].plot.hist(alpha=0.5, title='Thursday(Building) - '+building, legend=None, ax=axes[1], figsize=(15, 5), bins=bin_size)\n",
    "        ax.set_xlabel('Hourly Occupancy')\n",
    "\n",
    "        fig, axes = plt.subplots(nrows=1, ncols=2)\n",
    "        ax = friday['y'].plot.hist(alpha=0.5, title='Friday(Building) - '+building, legend=None, ax=axes[0], figsize=(15, 5), bins=bin_size)\n",
    "        ax.set_xlabel('Hourly Occupancy')\n",
    "        ax = saturday['y'].plot.hist(alpha=0.5, title='Saturday(Building) - '+building, legend=None, ax=axes[1], figsize=(15, 5), bins=bin_size)\n",
    "        ax.set_xlabel('Hourly Occupancy')\n",
    "\n",
    "        fig, axes = plt.subplots(nrows=1, ncols=1)\n",
    "        ax = sunday['y'].plot.hist(alpha=0.5, title='Sunday(Building) - '+building, legend=None, ax=axes, figsize=(7, 5), bins=bin_size)\n",
    "        ax.set_xlabel('Hourly Occupancy')\n",
    "\n",
    "\n",
    "        # Plotting occupancy by APs\n",
    "        monday = monday.drop('y', 1)\n",
    "        monday = monday.drop('weekday', 1)\n",
    "        tuesday = tuesday.drop('y', 1)\n",
    "        tuesday = tuesday.drop('weekday', 1)\n",
    "        wednesday = wednesday.drop('y', 1)\n",
    "        wednesday = wednesday.drop('weekday', 1)\n",
    "        thursday = thursday.drop('y', 1)\n",
    "        thursday = thursday.drop('weekday', 1)\n",
    "        friday = friday.drop('y', 1)\n",
    "        friday = friday.drop('weekday', 1)\n",
    "        saturday = saturday.drop('y', 1)\n",
    "        saturday = saturday.drop('weekday', 1)\n",
    "        sunday = sunday.drop('y', 1)\n",
    "        sunday = sunday.drop('weekday', 1)\n",
    "\n",
    "        fig, axes = plt.subplots(nrows=1, ncols=2)\n",
    "        ax = monday.plot.hist(alpha=0.5, title='Monday(APs) - '+building, legend=None, ax=axes[0], figsize=(15, 5))\n",
    "        ax.set_xlabel('Hourly Occupancy')\n",
    "        ax = tuesday.plot.hist(alpha=0.5, title='Tuesday(APs) - '+building, legend=None, ax=axes[1], figsize=(15, 5))\n",
    "        ax.set_xlabel('Hourly Occupancy')\n",
    "\n",
    "        fig, axes = plt.subplots(nrows=1, ncols=2)\n",
    "        ax = wednesday.plot.hist(alpha=0.5, title='Wednesday(APs) - '+building, legend=None, ax=axes[0], figsize=(15, 5))\n",
    "        ax.set_xlabel('Hourly Occupancy')\n",
    "        ax = thursday.plot.hist(alpha=0.5, title='Thursday(APs) - '+building, legend=None, ax=axes[1], figsize=(15, 5))\n",
    "        ax.set_xlabel('Hourly Occupancy')\n",
    "\n",
    "        fig, axes = plt.subplots(nrows=1, ncols=2)\n",
    "        ax = friday.plot.hist(alpha=0.5, title='Friday(APs) - '+building, legend=None, ax=axes[0], figsize=(15, 5))\n",
    "        ax.set_xlabel('Hourly Occupancy')\n",
    "        ax = saturday.plot.hist(alpha=0.5, title='Saturday(APs) - '+building, legend=None, ax=axes[1], figsize=(15, 5))\n",
    "        ax.set_xlabel('Hourly Occupancy')\n",
    "\n",
    "        fig, axes = plt.subplots(nrows=1, ncols=1)\n",
    "        ax = sunday.plot.hist(alpha=0.5, title='Sunday(APs) - '+building, legend=None, ax=axes, figsize=(7, 5))\n",
    "        ax.set_xlabel('Hourly Occupancy')\n",
    "        clear_output()\n",
    "        display(w3)"
   ]
  },
  {
   "cell_type": "code",
   "execution_count": 9,
   "metadata": {},
   "outputs": [
    {
     "data": {
      "application/vnd.jupyter.widget-view+json": {
       "model_id": "6bf9081262c84df4b3dc3be7cd6735fb",
       "version_major": 2,
       "version_minor": 0
      },
      "text/plain": [
       "Dropdown(description='List', index=3, options=(' POMONA', '118-8TH', '1567TH', '345C', 'ALEXANDER', 'ANDREW', …"
      ]
     },
     "metadata": {},
     "output_type": "display_data"
    },
    {
     "data": {
      "image/png": "[encoded data removed]",
      "text/plain": [
       "<Figure size 1080x360 with 2 Axes>"
      ]
     },
     "metadata": {
      "needs_background": "light"
     },
     "output_type": "display_data"
    }
   ],
   "source": [
    "display(w1)\n",
    "w1.observe(on_change_hourly)"
   ]
  },
  {
   "cell_type": "code",
   "execution_count": 10,
   "metadata": {},
   "outputs": [
    {
     "data": {
      "application/vnd.jupyter.widget-view+json": {
       "model_id": "cad7505ffb6140c4993e31078442875f",
       "version_major": 2,
       "version_minor": 0
      },
      "text/plain": [
       "Dropdown(description='List', index=15, options=(' POMONA', '118-8TH', '1567TH', '345C', 'ALEXANDER', 'ANDREW',…"
      ]
     },
     "metadata": {},
     "output_type": "display_data"
    },
    {
     "data": {
      "image/png": "[encoded data removed]",
      "text/plain": [
       "<Figure size 1080x360 with 2 Axes>"
      ]
     },
     "metadata": {
      "needs_background": "light"
     },
     "output_type": "display_data"
    }
   ],
   "source": [
    "display(w2)\n",
    "w2.observe(on_change_daily)"
   ]
  },
  {
   "cell_type": "code",
   "execution_count": 11,
   "metadata": {
    "scrolled": true
   },
   "outputs": [
    {
     "data": {
      "application/vnd.jupyter.widget-view+json": {
       "model_id": "3d7eb5aed5804b51b752c9de4345a4b9",
       "version_major": 2,
       "version_minor": 0
      },
      "text/plain": [
       "Dropdown(description='List', options=(' POMONA', '118-8TH', '1567TH', '345C', 'ALEXANDER', 'ANDREW', 'BALDWIN'…"
      ]
     },
     "metadata": {},
     "output_type": "display_data"
    }
   ],
   "source": [
    "display(w3)\n",
    "w3.observe(on_change_weekday)"
   ]
  },
  {
   "cell_type": "code",
   "execution_count": null,
   "metadata": {},
   "outputs": [],
   "source": []
  }
 ],
 "metadata": {
  "kernelspec": {
   "display_name": "Python 3",
   "language": "python",
   "name": "python3"
  },
  "language_info": {
   "codemirror_mode": {
    "name": "ipython",
    "version": 3
   },
   "file_extension": ".py",
   "mimetype": "text/x-python",
   "name": "python",
   "nbconvert_exporter": "python",
   "pygments_lexer": "ipython3",
   "version": "3.6.7"
  }
 },
 "nbformat": 4,
 "nbformat_minor": 2
}
