{
 "cells": [
  {
   "cell_type": "markdown",
   "metadata": {},
   "source": [
    "# Missing Data"
   ]
  },
  {
   "cell_type": "markdown",
   "metadata": {},
   "source": [
    "## Script Setup"
   ]
  },
  {
   "cell_type": "code",
   "execution_count": null,
   "metadata": {},
   "outputs": [],
   "source": [
    "# Third-party and standard modules\n",
    "from typing import Dict, Hashable, Tuple, Union, Optional\n",
    "import pandas as pd\n",
    "import matplotlib.pyplot as plt\n",
    "import pytz\n",
    "from importlib import reload\n",
    "\n",
    "# User-defined modules.\n",
    "from modules import dataframe_manip as dfm\n",
    "from modules import misc, schemas, College1AcPtTimeSeries\n",
    "# The reload() function is used to update modules after\n",
    "# changes are made to their files.\n",
    "dfm = reload(dfm)\n",
    "misc = reload(misc)\n",
    "schemas = reload(schemas)\n",
    "College1AcPtTimeSeries = reload(College1AcPtTimeSeries)"
   ]
  },
  {
   "cell_type": "markdown",
   "metadata": {},
   "source": [
    "## Script Parameters"
   ]
  },
  {
   "cell_type": "code",
   "execution_count": null,
   "metadata": {},
   "outputs": [],
   "source": [
    "filepath = './cisco_wifi_data_until_20190513.csv'\n",
    "timezone = pytz.timezone('US/Pacific')\n",
    "schema: schemas.AcPtTimeSeries =\\\n",
    "    College1AcPtTimeSeries.College1AcPtTimeSeries"
   ]
  },
  {
   "cell_type": "markdown",
   "metadata": {},
   "source": [
    "## Preliminary Data Processing"
   ]
  },
  {
   "cell_type": "code",
   "execution_count": null,
   "metadata": {},
   "outputs": [],
   "source": [
    "occ: pd.DataFrame = dfm.csv_to_timeseries_df(\n",
    "    filepath=filepath, timezone=timezone\n",
    ")"
   ]
  },
  {
   "cell_type": "markdown",
   "metadata": {},
   "source": [
    "## Missing Value Visualizations"
   ]
  },
  {
   "cell_type": "code",
   "execution_count": null,
   "metadata": {},
   "outputs": [],
   "source": [
    "def na_map_and_barchart(\n",
    "    timeseries: pd.DataFrame, title: str, showcols: bool = False,\n",
    "    map_filepath: Optional[str] = None, bar_filepath: Optional[str] = None,\n",
    "    xlabel: str = 'access points', ylabel: str = 'time',\n",
    "    figsize: Tuple[Union[int, float], Union[int, float]] = (10, 10)\n",
    ") -> None:\n",
    "    fig, ax = plt.subplots(figsize=figsize)\n",
    "    ax.set_title(title)\n",
    "    ax.set_yticks([])\n",
    "    ax.set_xticks(timeseries.columns.to_list() if showcols else [])\n",
    "    ax.set_xlabel(xlabel)\n",
    "    ax.set_ylabel(ylabel)\n",
    "    timeseries_isna = timeseries.isna()\n",
    "    timeseries_isna_np = timeseries_isna.to_numpy()\n",
    "    # Ensure square shape.\n",
    "    ax.set_aspect(timeseries_isna_np.shape[1] / timeseries_isna_np.shape[0])\n",
    "    # Show the matrix.\n",
    "    ax.imshow(timeseries_isna_np, aspect='auto')\n",
    "    if map_filepath is not None:\n",
    "        fig.savefig(map_filepath)\n",
    "    # Make barchart.\n",
    "    fig, ax = plt.subplots(figsize=figsize)\n",
    "    ax.bar(\n",
    "        list(range(0, timeseries.shape[1])),\n",
    "        dfm.column_totals(timeseries.isna())\n",
    "    )\n",
    "    if bar_filepath is not None:\n",
    "        fig.savefig(bar_filepath)"
   ]
  },
  {
   "cell_type": "markdown",
   "metadata": {},
   "source": [
    "### Missing values in the original timeseries\n",
    "\n",
    "Gold entries in the matrix represent missing values."
   ]
  },
  {
   "cell_type": "code",
   "execution_count": null,
   "metadata": {},
   "outputs": [],
   "source": [
    "na_map_and_barchart(\n",
    "    timeseries=occ, title='na values overview',\n",
    "    map_filepath='original-ts-missing-map.png',\n",
    "    bar_filepath='original-ts-missing-bar.png'\n",
    ")"
   ]
  },
  {
   "cell_type": "markdown",
   "metadata": {},
   "source": [
    "### Missing values after intervening na-values are filled\n",
    "\n",
    "Many of our notebooks assume that intervening missing values actually represent zeros."
   ]
  },
  {
   "cell_type": "code",
   "execution_count": null,
   "metadata": {},
   "outputs": [],
   "source": [
    "occ_nafilled = dfm.fill_intervening_nas(occ, inplace=False, fill_val=0)\n",
    "na_map_and_barchart(\n",
    "    timeseries=occ_nafilled, title='na values overview',\n",
    "    map_filepath='ts-missing-afterfillna-map.png',\n",
    "    bar_filepath='ts-missing-afterfillna-bar.png'\n",
    ")"
   ]
  },
  {
   "cell_type": "markdown",
   "metadata": {},
   "source": [
    "### Missing values for each building.\n",
    "\n",
    "Let's run the previous charts again after grouping the buildings. There will likely be very few na values since a building would have to have missing values at all of its access points to have an na value here."
   ]
  },
  {
   "cell_type": "code",
   "execution_count": null,
   "metadata": {},
   "outputs": [],
   "source": [
    "# Eliminate columns for access points not in the buildings we want.\n",
    "occ = occ.drop(columns=list(filter(\n",
    "    # add to drop-list if NOT in the buildings we want.\n",
    "    lambda col: schema.col_to_building(col, safe=True) is None,\n",
    "    occ.columns.to_list()\n",
    ")))\n",
    "occ_nafilled = occ_nafilled.drop(columns=list(filter(\n",
    "    # add to drop-list if NOT in the buildings we want.\n",
    "    lambda col: schema.col_to_building(col, safe=True) is None,\n",
    "    occ_nafilled.columns.to_list()\n",
    ")))\n",
    "\n",
    "na_map_and_barchart(\n",
    "    timeseries=occ.groupby(schema.col_to_building, axis=1).sum(),\n",
    "    title='na values overview',\n",
    "    map_filepath='building-ts-missing-map.png',\n",
    "    bar_filepath='building-ts-missing-bar.png'\n",
    ")\n",
    "na_map_and_barchart(\n",
    "    timeseries=occ_nafilled.groupby(schema.col_to_building, axis=1).sum(),\n",
    "    title='na values overview',\n",
    "    map_filepath='building-ts-missing-afterfillna-map.png',\n",
    "    bar_filepath='building-ts-missing-afterfillna-bar.png'\n",
    ")"
   ]
  }
 ],
 "metadata": {
  "kernelspec": {
   "display_name": "Python 3",
   "language": "python",
   "name": "python3"
  },
  "language_info": {
   "codemirror_mode": {
    "name": "ipython",
    "version": 3
   },
   "file_extension": ".py",
   "mimetype": "text/x-python",
   "name": "python",
   "nbconvert_exporter": "python",
   "pygments_lexer": "ipython3",
   "version": "3.6.7"
  }
 },
 "nbformat": 4,
 "nbformat_minor": 2
}
