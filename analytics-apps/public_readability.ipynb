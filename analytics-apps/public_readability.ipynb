{
 "cells": [
  {
   "cell_type": "code",
   "execution_count": null,
   "metadata": {},
   "outputs": [],
   "source": [
    "import pandas as pd\n",
    "import pytz\n",
    "from modules import schemas, College1AcPtTimeSeries"
   ]
  },
  {
   "cell_type": "code",
   "execution_count": null,
   "metadata": {},
   "outputs": [],
   "source": [
    "filename = 'wifi_data_until_20190204.csv'\n",
    "\n",
    "all_buildings = [\n",
    "    '118-8TH','1567TH','345C',\n",
    "    'ALEXANDER','ANDREW','BALDWIN','BRACKETT','BRIDGES','CARNEGIE',\n",
    "    'CLARK','CROOKSHANK','DRAPER', 'FARM', 'FRANK', 'FRARY', 'GIBONEY', \n",
    "    'GIBSON', 'GROUNDS', 'HAHN', 'HALDEMAN','HARWOOD','ITB', 'KENYON', \n",
    "    'LAWRY', 'LEB', 'LEBUS', 'MASON', 'MCCARTHY', 'MERRIT','MILLIKAN', \n",
    "    'MUSEUM', 'NORTON', 'OLDENBORG','PAULEY','PEARSON','PENDLETON','POMONA',\n",
    "    'RAINS','REMBRANDT', 'SCC', 'SEAVER','SGM','SMILEY','SMITH','SONTAG',\n",
    "    'STUDIOART','SUMNER','THATCHER','WALKER','WALTON','WIG','None'\n",
    "]"
   ]
  },
  {
   "cell_type": "code",
   "execution_count": null,
   "metadata": {},
   "outputs": [],
   "source": [
    "def get_hashed_data(filename, all_buildings):\n",
    "    schema: schemas.AcPtTimeSeries = College1AcPtTimeSeries.College1AcPtTimeSeries\n",
    "    \n",
    "    # Read csv file\n",
    "    input_df = pd.read_csv(filename)\n",
    "    # Get list of APs in csv file\n",
    "    ap_names = list(input_df.columns)[1:]\n",
    "    \n",
    "    # Set up variables for looping through each AP.\n",
    "    # APs that are not in all_buildings will have their own column\n",
    "    new_column = ['time']\n",
    "    count = 0\n",
    "    num_bkup = len(all_buildings)\n",
    "    \n",
    "    for x in ap_names:\n",
    "        bui_name = str(schema.col_to_building(x, safe=True))\n",
    "        if bui_name == 'None':\n",
    "            num = num_bkup\n",
    "            num_bkup = num_bkup + 1\n",
    "        else:\n",
    "            num = all_buildings.index(bui_name)\n",
    "        new_name = 'BUILDING'+\"{:02d}\".format(num)+'-AP-'+\"{:03d}\".format(count)\n",
    "        new_column.append(new_name)\n",
    "        count = count + 1\n",
    "        \n",
    "    input_df.columns = new_column\n",
    "    print('Hashing now please wait...')\n",
    "    export_csv = input_df.to_csv (r'hashed_data.csv', index = None, header=True)\n",
    "    print('Function finished! Check if hashed_data.csv exists.')"
   ]
  },
  {
   "cell_type": "code",
   "execution_count": null,
   "metadata": {},
   "outputs": [],
   "source": [
    "get_hashed_data(filename, all_buildings)"
   ]
  },
  {
   "cell_type": "code",
   "execution_count": null,
   "metadata": {},
   "outputs": [],
   "source": [
    "check = pd.read_csv(\"hashed_data.csv\")"
   ]
  },
  {
   "cell_type": "code",
   "execution_count": null,
   "metadata": {},
   "outputs": [],
   "source": [
    "check"
   ]
  },
  {
   "cell_type": "code",
   "execution_count": null,
   "metadata": {},
   "outputs": [],
   "source": []
  }
 ],
 "metadata": {
  "kernelspec": {
   "display_name": "Python 3",
   "language": "python",
   "name": "python3"
  },
  "language_info": {
   "codemirror_mode": {
    "name": "ipython",
    "version": 3
   },
   "file_extension": ".py",
   "mimetype": "text/x-python",
   "name": "python",
   "nbconvert_exporter": "python",
   "pygments_lexer": "ipython3",
   "version": "3.6.7"
  }
 },
 "nbformat": 4,
 "nbformat_minor": 2
}
