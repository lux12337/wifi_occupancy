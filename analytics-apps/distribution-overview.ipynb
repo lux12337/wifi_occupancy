{
 "cells": [
  {
   "cell_type": "markdown",
   "metadata": {},
   "source": [
    "# Occupancy Distribution Overview\n",
    "\n",
    "Let's gain some insights about the distribution of occupancy count across time and locations."
   ]
  },
  {
   "cell_type": "markdown",
   "metadata": {},
   "source": [
    "## Script setup"
   ]
  },
  {
   "cell_type": "code",
   "execution_count": null,
   "metadata": {},
   "outputs": [],
   "source": [
    "# The Python interpreter requires this workaround to\n",
    "# import modules outside of this notebook's directory.\n",
    "import sys\n",
    "sys.path.append(\"..\")"
   ]
  },
  {
   "cell_type": "code",
   "execution_count": null,
   "metadata": {},
   "outputs": [],
   "source": [
    "# Third-party and standard modules\n",
    "from typing import Optional, Tuple\n",
    "import numpy as np\n",
    "import pandas as pd\n",
    "import seaborn\n",
    "import matplotlib.pyplot as plt\n",
    "import pytz\n",
    "from itertools import repeat\n",
    "from importlib import reload\n",
    "\n",
    "# User-defined modules.\n",
    "from modules import dataframe_manip as dfm\n",
    "from modules import misc, schemas, College1AcPtTimeSeries\n",
    "# The reload() function is needed to update modules after\n",
    "# changes are made to their files.\n",
    "dfm = reload(dfm)\n",
    "misc = reload(misc)\n",
    "schemas = reload(schemas)\n",
    "College1AcPtTimeSeries = reload(College1AcPtTimeSeries)"
   ]
  },
  {
   "cell_type": "code",
   "execution_count": null,
   "metadata": {},
   "outputs": [],
   "source": [
    "def dataframe_info(d: pd.DataFrame) -> str:\n",
    "    \"\"\"A basic function for getting dataframe info.\"\"\"\n",
    "    return \"\"\"\n",
    "    shape: {}\n",
    "    index datatype: {}\n",
    "    na value count: {}\n",
    "    \"\"\".format(\n",
    "        str(d.shape),\n",
    "        d.index.dtype,\n",
    "        d.isna().sum().sum()\n",
    "    )"
   ]
  },
  {
   "cell_type": "markdown",
   "metadata": {},
   "source": [
    "## Script parameters\n",
    "\n",
    "The following values are this script's parameters."
   ]
  },
  {
   "cell_type": "code",
   "execution_count": null,
   "metadata": {},
   "outputs": [],
   "source": [
    "filepath = './wifi_data_until_20190204.csv'\n",
    "timezone = pytz.timezone('US/Pacific')\n",
    "schema: schemas.AcPtTimeSeries = College1AcPtTimeSeries.College1AcPtTimeSeries"
   ]
  },
  {
   "cell_type": "markdown",
   "metadata": {},
   "source": [
    "## The main dataframe: `occupancy`\n",
    "\n",
    "We'll be mainly working with a single dataframe named `occupancy` created from the csv provided.\n",
    "\n",
    "`occupancy` is a time-series dataframe. Each of its rows represents a point in time. Each of its columns represents a WiFi access point."
   ]
  },
  {
   "cell_type": "code",
   "execution_count": null,
   "metadata": {},
   "outputs": [],
   "source": [
    "occupancy: pd.DataFrame = dfm.csv_to_timeseries_df(\n",
    "    filepath=filepath, timezone=timezone\n",
    ")\n",
    "print(dataframe_info(occupancy))"
   ]
  },
  {
   "cell_type": "markdown",
   "metadata": {},
   "source": [
    "These data were acquired through the SNMP protocol, which doesn't record data for moments of 0 connected devices. This means that NA values in our dataframe could represent either 0's or truly missing data.\n",
    "\n",
    "However, the missing data is mostly (if not all) due to the fact that we started and stopped collecting data from different access points at different times. We rarely (if ever) returned to an access point after stopping.\n",
    "\n",
    "This allows us to assume that the first and last uninterrupted streams of NA values are missing data while **intervening NA values** are actually 0's. We will fill these **intervening NA values** with 0."
   ]
  },
  {
   "cell_type": "code",
   "execution_count": null,
   "metadata": {},
   "outputs": [],
   "source": [
    "dfm.fill_intervening_nas(\n",
    "    occupancy, inplace=True, fill_val = 0\n",
    ")\n",
    "print(dataframe_info(occupancy))"
   ]
  },
  {
   "cell_type": "markdown",
   "metadata": {},
   "source": [
    "## Occupancy by the hour\n",
    "\n",
    "Let's start by finding out how total connectivity (across all access points) varies by the hour.\n",
    "\n",
    "We'll reduce `data` to the `total_occupancy_vs_time` dataframe. Like `data`, each of its rows represents a point in time. However, it only has one column representing all access points."
   ]
  },
  {
   "cell_type": "code",
   "execution_count": null,
   "metadata": {},
   "outputs": [],
   "source": [
    "total_occupancy_vs_time = dfm.row_totals(occupancy)\n",
    "\n",
    "print(dataframe_info(\n",
    "    total_occupancy_vs_time\n",
    "))"
   ]
  },
  {
   "cell_type": "markdown",
   "metadata": {},
   "source": [
    "Let's create create 24 boxplots --each representing 1 hour-- which show how the distribution of **occupancy** (as measured by the number of devices connected to access points) *throughout all buildings* varies hour-by-hour."
   ]
  },
  {
   "cell_type": "code",
   "execution_count": null,
   "metadata": {},
   "outputs": [],
   "source": [
    "fig, ax = plt.subplots(figsize=(24, 15))\n",
    "\n",
    "seaborn.boxplot(\n",
    "    # The hours (a number [0,23]) for each row.\n",
    "    x=total_occupancy_vs_time.index.hour,\n",
    "    # The total occupancy at that hour.\n",
    "    y=total_occupancy_vs_time,\n",
    "    ax=ax\n",
    ")\n",
    "plt.savefig('overall-hourly-boxplots.png')"
   ]
  },
  {
   "cell_type": "markdown",
   "metadata": {},
   "source": [
    "It's immediately clear that measures of occupancy total have strong relationships with the hour of the day. The transitions between hours are smooth (i.e. continuous) and aggressive.\n",
    "\n",
    "The total **peaks around 14:30 (2:30 pm)** and is **lowest around 6:30**.\n",
    "\n",
    "Interestingly, the **interquartile range** (i.e. rectangle length) in occupancy also **peaks around 2:30** and is **lowest around 6:30**. The upper quartile (75th percentile) moves far more aggressively than the lower quartile or median. This may be due to a fixed/stable number of devices which don't vary much throughout the day. These could be public devices (e.g. library computers) or staff devices (e.g. staff phones). It's worth noting that the minimum doesn't change much throughout the day."
   ]
  },
  {
   "cell_type": "markdown",
   "metadata": {},
   "source": [
    "## Means and Medians\n",
    "\n",
    "Let's get mean and medians for all access points and for each building"
   ]
  },
  {
   "cell_type": "code",
   "execution_count": null,
   "metadata": {},
   "outputs": [],
   "source": [
    "# We'll be using these two functions repeatedly to create the charts.\n",
    "def mean_med_per_col(occ: pd.DataFrame) -> pd.DataFrame:\n",
    "    \"\"\"\n",
    "    returns a dataframe whose\n",
    "    1st and 2nd rows hold the mean and median values\n",
    "    for each column in the original dataframe.\n",
    "    \"\"\"\n",
    "    return pd.DataFrame.from_dict({\n",
    "        'mean': dfm.column_means(occ),\n",
    "        'median': dfm.column_medians(occ)\n",
    "    }).sort_values(by='median')\n",
    "\n",
    "def plot_mean_med_per_col(\n",
    "    mmpc: pd.DataFrame, xlabel: str, dot_size: int = 2,\n",
    "    figsize: Tuple[int, int] = (12, 6),\n",
    "    filename: Optional[str] = None\n",
    ") -> pd.DataFrame:\n",
    "    \"\"\"\n",
    "    Plot the mean and median occupancy counts in mmpc (created by mean_med_per_col)\n",
    "    with mean as red and median as blue.\n",
    "    \"\"\"\n",
    "    plt.figure(figsize=figsize)\n",
    "    plt.scatter(\n",
    "        list(repeat(range(0, mmpc.shape[0]), 2)),\n",
    "        pd.concat(\n",
    "            [mmpc['mean'], mmpc['median']],\n",
    "            ignore_index=True\n",
    "        ),\n",
    "        c=np.concatenate((\n",
    "            # mean = red\n",
    "            np.tile(np.reshape(np.array([1, 0, 0], dtype=float), (1, 3)), (mmpc.shape[0], 1)),\n",
    "            # median = blue\n",
    "            np.tile(np.reshape(np.array([0, 0, 1], dtype=float), (1, 3)), (mmpc.shape[0], 1))\n",
    "        ), axis=0),\n",
    "        s=dot_size\n",
    "    )\n",
    "    plt.ylabel('connected device count')\n",
    "    plt.xlabel(xlabel)\n",
    "    if filename is not None:\n",
    "        plt.savefig(filename)\n",
    "    plt.show()"
   ]
  },
  {
   "cell_type": "code",
   "execution_count": null,
   "metadata": {},
   "outputs": [],
   "source": [
    "# acpt is short for 'access point'\n",
    "stats_per_acpt: pd.DataFrame = mean_med_per_col(occupancy)\n",
    "\n",
    "print(dataframe_info(\n",
    "    stats_per_acpt\n",
    "))"
   ]
  },
  {
   "cell_type": "code",
   "execution_count": null,
   "metadata": {},
   "outputs": [],
   "source": [
    "plot_mean_med_per_col(\n",
    "    stats_per_acpt, xlabel='access points',\n",
    "    filename='mean-med-occupancy-vs-access-points.png'\n",
    ")"
   ]
  },
  {
   "cell_type": "code",
   "execution_count": null,
   "metadata": {},
   "outputs": [],
   "source": [
    "# Eliminate columns which cannot be placed in a building\n",
    "occ_only_in_buildings = occupancy.loc[\n",
    "    :,\n",
    "    # boolean array for filtering out columns which can't be placed in a building.\n",
    "    misc.cols_to_in_buildings(\n",
    "        schema=schema,\n",
    "        cols=occupancy.columns.to_list(),\n",
    "        buildings=schema.buildings()\n",
    "    )\n",
    "].copy()\n",
    "print(dataframe_info(occ_only_in_buildings))\n",
    "\n",
    "occ_by_building = occ_only_in_buildings.groupby(\n",
    "    by=schema.col_to_building,\n",
    "    axis=1\n",
    ").sum()\n",
    "print(dataframe_info(occ_by_building))"
   ]
  },
  {
   "cell_type": "code",
   "execution_count": null,
   "metadata": {},
   "outputs": [],
   "source": [
    "mean_med_per_building = mean_med_per_col(occ_by_building)\n",
    "plot_mean_med_per_col(\n",
    "    mean_med_per_building, xlabel='buildings', dot_size=40,\n",
    "    filename='mean-med-occupancy-vs-buildings.png'\n",
    ")\n",
    "\n",
    "print(mean_med_per_building)"
   ]
  }
 ],
 "metadata": {
  "kernelspec": {
   "display_name": "Python 3",
   "language": "python",
   "name": "python3"
  },
  "language_info": {
   "codemirror_mode": {
    "name": "ipython",
    "version": 3
   },
   "file_extension": ".py",
   "mimetype": "text/x-python",
   "name": "python",
   "nbconvert_exporter": "python",
   "pygments_lexer": "ipython3",
   "version": "3.6.7"
  }
 },
 "nbformat": 4,
 "nbformat_minor": 2
}
