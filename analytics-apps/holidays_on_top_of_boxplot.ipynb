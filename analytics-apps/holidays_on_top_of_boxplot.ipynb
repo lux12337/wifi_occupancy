{
 "cells": [
  {
   "cell_type": "markdown",
   "metadata": {},
   "source": [
    "# Boxplots"
   ]
  },
  {
   "cell_type": "markdown",
   "metadata": {},
   "source": [
    "## Script setup"
   ]
  },
  {
   "cell_type": "code",
   "execution_count": null,
   "metadata": {},
   "outputs": [],
   "source": [
    "# Third-party and standard modules\n",
    "from typing import Dict, Hashable\n",
    "import pandas as pd\n",
    "import seaborn\n",
    "import matplotlib.pyplot as plt\n",
    "import pytz\n",
    "from importlib import reload\n",
    "from pandas.tseries.holiday import USFederalHolidayCalendar as calendar\n",
    "# User-defined modules.\n",
    "# The reload() function is needed to update modules after\n",
    "# changes are made to their files.\n",
    "from modules import dataframe_manip as dfm\n",
    "from modules import misc, schemas, College1AcPtTimeSeries\n",
    "# The reload() function is needed to update modules after\n",
    "# changes are made to their files.\n",
    "dfm = reload(dfm)\n",
    "misc = reload(misc)\n",
    "schemas = reload(schemas)\n",
    "College1AcPtTimeSeries = reload(College1AcPtTimeSeries)"
   ]
  },
  {
   "cell_type": "code",
   "execution_count": null,
   "metadata": {},
   "outputs": [],
   "source": [
    "schema: schemas.AcPtTimeSeries =\\\n",
    "    College1AcPtTimeSeries.College1AcPtTimeSeries"
   ]
  },
  {
   "cell_type": "markdown",
   "metadata": {},
   "source": [
    "## Script parameters\n",
    "\n",
    "The following values are this script's parameters."
   ]
  },
  {
   "cell_type": "code",
   "execution_count": null,
   "metadata": {},
   "outputs": [],
   "source": [
    "#filepath = './cisco_wifi_data_until_20190513.csv'\n",
    "filepath = './wifi_data_until_20190204.csv'\n",
    "timezone = pytz.timezone('US/Pacific')\n",
    "'''buildings = [\n",
    "                'SCC', 'HAHN', 'CROOKSHANK', 'THATHCHER', 'CLARK',\n",
    "                'CARNEGIE', 'MASON', 'PEARSON', 'ALEXANDER', 'ITB'\n",
    "]\n",
    "'''\n",
    "buildings = [\n",
    "                'ALEXANDER'\n",
    "]\n",
    "\n",
    "#Fall Semester \n",
    "start_date = '2018-11-21' #None\n",
    "end_date = '2018-11-23' #None\n",
    "\n",
    "\n",
    "boxplot_hourly_average = True\n",
    "holiday_analysis = True"
   ]
  },
  {
   "cell_type": "markdown",
   "metadata": {},
   "source": [
    "## Data Processing"
   ]
  },
  {
   "cell_type": "code",
   "execution_count": null,
   "metadata": {},
   "outputs": [],
   "source": [
    "# A time-series dataframe holding occupancy counts\n",
    "# for many access points (columns).\n",
    "occ: pd.DataFrame = dfm.csv_to_timeseries_df(\n",
    "    filepath=filepath, timezone=timezone\n",
    ")"
   ]
  },
  {
   "cell_type": "code",
   "execution_count": null,
   "metadata": {},
   "outputs": [],
   "source": [
    "if start_date is not None: \n",
    "    if end_date is None:\n",
    "        occ = occ.loc[start_date:]\n",
    "    else:\n",
    "        occ = occ.loc[start_date:end_date]\n",
    "else:\n",
    "    if end_date is not None:\n",
    "        occ = occ.loc[:end_date]"
   ]
  },
  {
   "cell_type": "code",
   "execution_count": null,
   "metadata": {},
   "outputs": [],
   "source": [
    "# Eliminate columns for access points not in the buildings we want.\n",
    "occ = occ.drop(columns=list(filter(\n",
    "    # add to drop-list if NOT in the buildings we want.\n",
    "    lambda col: schema.col_to_building(col, safe=True) not in buildings,\n",
    "    occ.columns.to_list()\n",
    ")))\n",
    "'''\n",
    "# We must assume that intervening na-values are 0's.\n",
    "occ = dfm.fill_intervening_nas(\n",
    "    occ, inplace=True, fill_val=0\n",
    ")\n",
    "'''"
   ]
  },
  {
   "cell_type": "code",
   "execution_count": null,
   "metadata": {},
   "outputs": [],
   "source": [
    "occ_bybuild = occ.groupby(\n",
    "    by=schema.col_to_building, axis=1\n",
    ")"
   ]
  },
  {
   "cell_type": "code",
   "execution_count": null,
   "metadata": {},
   "outputs": [],
   "source": [
    "print('buildings not found: {}'.format(set(buildings) - set(occ_bybuild.groups.keys())))\n",
    "\n",
    "# We can only work with the buildings we found.\n",
    "buildings = list(occ_bybuild.groups.keys())"
   ]
  },
  {
   "cell_type": "code",
   "execution_count": null,
   "metadata": {},
   "outputs": [],
   "source": []
  },
  {
   "cell_type": "markdown",
   "metadata": {},
   "source": [
    "## Boxplots"
   ]
  },
  {
   "cell_type": "code",
   "execution_count": null,
   "metadata": {
    "scrolled": false
   },
   "outputs": [],
   "source": [
    "if(boxplot_hourly_average == True):\n",
    "    means_by_building: Dict[Hashable, pd.DataFrame] = {}\n",
    "    maxmean = float('-inf')\n",
    "    for build in buildings:\n",
    "        means_by_building[build] = dfm.row_means(occ_bybuild.get_group(build))\n",
    "        newmax = means_by_building[build].max()\n",
    "        newmin = means_by_building[build].min()\n",
    "        maxmean = newmax if newmax > maxmean else maxmean\n",
    "    #print(maxmean)\n",
    "\n",
    "    for build in buildings:\n",
    "        mean_occ: pd.DataFrame = dfm.row_means(occ_bybuild.get_group(build))\n",
    "\n",
    "        fig, ax = plt.subplots(figsize=(24, 15))\n",
    "        ax.set_title(build)\n",
    "        ax.set_xlabel('hour of the day')\n",
    "        ax.set_ylabel('mean number of connected devices')\n",
    "        ax.set_ylim(0, 200)\n",
    "\n",
    "        seaborn.boxplot(\n",
    "            # The hours (a number [0,23]) for each row.\n",
    "            x=mean_occ.index.hour,\n",
    "            # The total occupancy at that hour.\n",
    "            y=mean_occ,\n",
    "            ax=ax\n",
    "        )\n",
    "\n",
    "\n",
    "        fig, ax = plt.subplots(figsize=(24, 15))\n",
    "        ax.set_title(build + ' (weekdays)')\n",
    "        ax.set_xlabel('hour of the day')\n",
    "        ax.set_ylabel('mean number of connected devices')\n",
    "        ax.set_ylim(0, maxmean)\n",
    "\n",
    "        wkdays = mean_occ.loc[mean_occ.index.dayofweek<5].copy()\n",
    "\n",
    "        seaborn.boxplot(\n",
    "            # The hours (a number [0,23]) for each row.\n",
    "            x=wkdays.index.hour,\n",
    "            # The total occupancy at that hour.\n",
    "            y=wkdays,\n",
    "            ax=ax\n",
    "        )\n",
    "        fig.savefig('./{}.png'.format(build))\n",
    "        '''\n",
    "        fig, ax = plt.subplots(figsize=(24, 15))\n",
    "        ax.set_title(build + ' (weekends)')\n",
    "        ax.set_xlabel('hour of the day')\n",
    "        ax.set_ylabel('mean number of connected devices')\n",
    "        ax.set_ylim(0, maxmean)\n",
    "\n",
    "        wkends = mean_occ.loc[mean_occ.index.dayofweek>=5].copy()\n",
    "\n",
    "        seaborn.boxplot(\n",
    "            # The hours (a number [0,23]) for each row.\n",
    "            x=wkends.index.hour,\n",
    "            # The total occupancy at that hour.\n",
    "            y=wkends,\n",
    "            ax=ax\n",
    "        )\n",
    "        '''"
   ]
  },
  {
   "cell_type": "markdown",
   "metadata": {},
   "source": [
    "## Holidays"
   ]
  },
  {
   "cell_type": "code",
   "execution_count": null,
   "metadata": {},
   "outputs": [],
   "source": [
    "if (holiday_analysis == True):\n",
    "    holi_caldr = calendar()\n",
    "    holidays = holi_caldr.holidays(start = start_date, end = end_date)\n",
    "\n",
    "    display(holidays)\n",
    "    holiday_ts = pd.to_datetime(holidays)\n",
    "\n",
    "    truncated_time = occ.index.normalize()\n",
    "    occ['time_no_timezone'] = truncated_time.tz_localize(None)\n",
    "    occ['isHoliday'] = occ['time_no_timezone'].isin(holiday_ts)\n",
    "\n",
    "    #print(occ['isHoliday'].any())\n",
    "    #print(type(occ.index))\n",
    "    display(occ)"
   ]
  },
  {
   "cell_type": "code",
   "execution_count": null,
   "metadata": {},
   "outputs": [],
   "source": [
    "#occ.grouby('isHoliday').size()\n",
    "#occ['2018-11-22']"
   ]
  },
  {
   "cell_type": "code",
   "execution_count": null,
   "metadata": {},
   "outputs": [],
   "source": [
    "if (holiday_analysis == True):\n",
    "    holiday_occ = occ.loc[occ['isHoliday'] == True]\n",
    "    #display(occ)\n",
    "    holiday_occ = holiday_occ.drop(['time_no_timezone', 'isHoliday'], axis =1)\n",
    "    occ_holiday_bybuild = holiday_occ.groupby(\n",
    "        by=schema.col_to_building, axis=1\n",
    "    )\n",
    "\n",
    "    means_by_building: Dict[Hashable, pd.DataFrame] = {}\n",
    "    maxmean = float('-inf')\n",
    "    for build in buildings:\n",
    "        means_by_building[build] = dfm.row_means(occ_holiday_bybuild.get_group(build))\n",
    "        newmax = means_by_building[build].max()\n",
    "        newmin = means_by_building[build].min()\n",
    "        maxmean = newmax if newmax > maxmean else maxmean\n",
    "    print(maxmean)\n",
    "\n",
    "    for build in buildings:\n",
    "        mean_occ_holiday: pd.DataFrame = dfm.row_means(occ_holiday_bybuild.get_group(build))\n",
    "\n",
    "        fig, ax = plt.subplots(figsize=(24, 15))\n",
    "        ax.set_title(build + ' (holidays from ' + start_date + ' to ' + end_date +')')\n",
    "        ax.set_xlabel('hour of the day')\n",
    "        ax.set_ylabel('mean number of connected devices')\n",
    "        ax.set_ylim(0, 200)\n",
    "\n",
    "        seaborn.boxplot(\n",
    "            # The hours (a number [0,23]) for each row.\n",
    "            x=mean_occ_holiday.index.hour,\n",
    "            # The total occupancy at that hour.\n",
    "            y=mean_occ_holiday,\n",
    "            ax=ax\n",
    "        )\n",
    "  "
   ]
  },
  {
   "cell_type": "code",
   "execution_count": null,
   "metadata": {},
   "outputs": [],
   "source": [
    "#holiday_occ"
   ]
  }
 ],
 "metadata": {
  "kernelspec": {
   "display_name": "Python 3",
   "language": "python",
   "name": "python3"
  },
  "language_info": {
   "codemirror_mode": {
    "name": "ipython",
    "version": 3
   },
   "file_extension": ".py",
   "mimetype": "text/x-python",
   "name": "python",
   "nbconvert_exporter": "python",
   "pygments_lexer": "ipython3",
   "version": "3.6.7"
  }
 },
 "nbformat": 4,
 "nbformat_minor": 2
}
