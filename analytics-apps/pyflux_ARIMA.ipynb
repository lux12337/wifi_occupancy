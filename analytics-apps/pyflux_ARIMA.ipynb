{
 "cells": [
  {
   "cell_type": "code",
   "execution_count": null,
   "metadata": {},
   "outputs": [],
   "source": [
    "# ARIMA used for short term forecast\n",
    "\n",
    "import numpy as np\n",
    "import matplotlib.pyplot as plt\n",
    "import seaborn as sns; sns.set(style=\"whitegrid\")\n",
    "import pandas as pd\n",
    "import pytz\n",
    "\n",
    "import pyflux as pf\n",
    "from pandas.plotting import autocorrelation_plot\n",
    "from datetime import datetime, timedelta\n",
    "\n",
    "import modules.dataframe_manip as dp\n",
    "from IPython.display import display, clear_output\n",
    "import ipywidgets as widgets"
   ]
  },
  {
   "cell_type": "code",
   "execution_count": null,
   "metadata": {},
   "outputs": [],
   "source": [
    "# CHANGABLE VARIABLES\n",
    "filename = 'wifi_data_until_20190204.csv'\n",
    "building_name = 'ALEXANDER' # use ALL for all buildings\n",
    "\n",
    "# CONST VARIABLES\n",
    "building_list = [\n",
    "    ' POMONA','118-8TH','1567TH','345C','ALEXANDER','ANDREW','BALDWIN',\n",
    "    'BRACKETT','BRIDGES','CARNEGIE','CLARK3','CLARKI','CLARKV',\n",
    "    'CROOKSHANK','DRAPER', 'FARM', 'FRANK', 'FRARY', 'GIBONEY',\n",
    "    'GIBSON', 'GROUNDS', 'HAHN', 'HALDEMAN','HARWOOD','ITB',\n",
    "    'KENYON', 'LAWRY', 'LEB', 'LEBUS', 'MASON', 'MCCARTHY', 'MERRIT',\n",
    "    'MILLIKAN', 'MUSEUM', 'NORTON', 'OLDENBORG','PAULEY','PEARSON',\n",
    "    'PENDLETON','POMONA','RAINS','REMBRANDT', 'SCC', 'SEAVER','SGM',\n",
    "    'SMILEY','SMITH','SONTAG','STUDIOART','SUMNER','THATCHER','WALKER',\n",
    "    'WALTON','WIG']"
   ]
  },
  {
   "cell_type": "code",
   "execution_count": null,
   "metadata": {},
   "outputs": [],
   "source": [
    "data = dp.csv_to_timeseries_df(\n",
    "    filepath=filename,\n",
    "    timezone=pytz.timezone('US/Pacific'))"
   ]
  },
  {
   "cell_type": "code",
   "execution_count": null,
   "metadata": {},
   "outputs": [],
   "source": [
    "w = widgets.Dropdown(\n",
    "    options=building_list,\n",
    "    value = building_list[0],\n",
    "    description='List',\n",
    ")"
   ]
  },
  {
   "cell_type": "code",
   "execution_count": null,
   "metadata": {},
   "outputs": [],
   "source": [
    "def arima_forecasting(change):\n",
    "    if change['name'] == 'value' and (change['new'] != change['old']):\n",
    "        clear_output()\n",
    "        display(w)\n",
    "        \n",
    "        building = data[dp.get_building_accesspoints(data, change['new'])].copy()\n",
    "        building.index = building.index\n",
    "        building['y'] = building.sum(axis=1)\n",
    "        building = building.resample('D').mean()\n",
    "        new_df = pd.DataFrame()\n",
    "        new_df['average_connected_devices'] = building['y']\n",
    "        new_df.index = building.index\n",
    "        model = pf.ARIMA(data=new_df, ar=4, ma=4, target='average_connected_devices', family=pf.Normal())\n",
    "        x = model.fit(\"MLE\")\n",
    "        model.plot_fit(figsize=(15,10))\n",
    "        model.plot_predict(h=7,past_values=20,figsize=(15,5))"
   ]
  },
  {
   "cell_type": "code",
   "execution_count": null,
   "metadata": {},
   "outputs": [],
   "source": [
    "display(w)\n",
    "w.observe(arima_forecasting)"
   ]
  },
  {
   "cell_type": "code",
   "execution_count": null,
   "metadata": {},
   "outputs": [],
   "source": []
  }
 ],
 "metadata": {
  "kernelspec": {
   "display_name": "Python 3",
   "language": "python",
   "name": "python3"
  },
  "language_info": {
   "codemirror_mode": {
    "name": "ipython",
    "version": 3
   },
   "file_extension": ".py",
   "mimetype": "text/x-python",
   "name": "python",
   "nbconvert_exporter": "python",
   "pygments_lexer": "ipython3",
   "version": "3.6.7"
  }
 },
 "nbformat": 4,
 "nbformat_minor": 2
}
